{
 "cells": [
  {
   "cell_type": "code",
   "execution_count": null,
   "id": "1def7ee0-c7ee-42c8-9171-46b58a4df1d1",
   "metadata": {
    "ExecuteTime": {
     "end_time": "2023-10-03T14:43:06.794381Z",
     "start_time": "2023-10-03T14:43:01.081211500Z"
    },
    "tags": []
   },
   "outputs": [],
   "source": [
    "import pandas as pd\n",
    "import numpy as np\n",
    "import matplotlib.pyplot as plt\n",
    "import networkx as nx\n",
    "from pyvis import network as net\n",
    "import json\n",
    "from os import listdir\n",
    "\n",
    "import datashader as ds\n",
    "import datashader.transfer_functions as tf\n",
    "from datashader.bundling import hammer_bundle"
   ]
  },
  {
   "cell_type": "code",
   "execution_count": null,
   "id": "8d5bffab-dd82-43e5-83da-a64202a97fe0",
   "metadata": {
    "ExecuteTime": {
     "end_time": "2023-10-03T14:43:06.798309700Z",
     "start_time": "2023-10-03T14:43:06.408146600Z"
    },
    "tags": []
   },
   "outputs": [],
   "source": [
    "pd.options.display.max_columns = None"
   ]
  },
  {
   "cell_type": "markdown",
   "id": "03a90ca5-f148-407c-a434-8315e3ed7f09",
   "metadata": {},
   "source": [
    "Load the JSON files "
   ]
  },
  {
   "cell_type": "code",
   "execution_count": null,
   "id": "80b9686b-e74c-4cfc-9b4f-587f8672a879",
   "metadata": {
    "ExecuteTime": {
     "end_time": "2023-10-03T14:43:06.801970800Z",
     "start_time": "2023-10-03T14:43:06.421579600Z"
    },
    "tags": []
   },
   "outputs": [],
   "source": [
    "def load_data(directory):\n",
    "    # Load json files \n",
    "    json_data_asctb = {}\n",
    "    for filename in listdir(directory):\n",
    "        if '.json' in filename:\n",
    "            #print(filename)\n",
    "            with open(f'{directory}{filename}', encoding='utf8') as json_file:\n",
    "                data = json.load(json_file)\n",
    "\n",
    "            json_data_asctb[filename[:-5]] = data\n",
    "        #print(json_data_asctb)\n",
    "    return json_data_asctb"
   ]
  },
  {
   "cell_type": "code",
   "execution_count": null,
   "id": "bee6bdc1-a259-436a-9f32-79e54fc63566",
   "metadata": {
    "ExecuteTime": {
     "end_time": "2023-10-03T14:43:06.801970800Z",
     "start_time": "2023-10-03T14:43:06.421579600Z"
    },
    "tags": []
   },
   "outputs": [],
   "source": [
    "json_data_asctb=load_data('v14/v14/') ## Download the JSON files from ASCT+B Reporter"
   ]
  },
  {
   "cell_type": "code",
   "execution_count": null,
   "id": "303b83bb",
   "metadata": {},
   "outputs": [],
   "source": [
    "json_data_asctb #view the data"
   ]
  },
  {
   "cell_type": "markdown",
   "id": "9a3a3049-ad73-4ff2-a551-8faeabdfbf73",
   "metadata": {},
   "source": [
    "Order of the organs"
   ]
  },
  {
   "cell_type": "code",
   "execution_count": null,
   "id": "ff249696-a093-4e1c-acf7-4c2ed50e84a3",
   "metadata": {
    "ExecuteTime": {
     "end_time": "2023-10-03T14:43:06.801970800Z",
     "start_time": "2023-10-03T14:43:06.636607500Z"
    },
    "tags": []
   },
   "outputs": [],
   "source": [
    "organ_order = ['trachea','main_bronchus','lung', 'heart', 'spinal_cord', 'brain', 'eye', 'skin',\n",
    "               'thymus', 'lymph_nodes', 'spleen', 'liver', 'pancreas', \n",
    "               'small_intestine', 'large_intestine', 'kidney', 'urinary_bladder', 'ureter', 'prostate', \n",
    "               'ovary', 'fallopian_tube', 'uterus', 'placenta_full_term', 'knee', 'bone_marrow']"
   ]
  },
  {
   "cell_type": "code",
   "execution_count": null,
   "id": "33399bc1-67ba-4b69-8933-3dfe5478969f",
   "metadata": {
    "ExecuteTime": {
     "end_time": "2023-10-03T14:43:06.801970800Z",
     "start_time": "2023-10-03T14:43:06.636607500Z"
    },
    "tags": []
   },
   "outputs": [],
   "source": [
    "print('New organs:')\n",
    "[organ for organ in json_data_asctb.keys() if organ not in organ_order+['blood', 'blood_vasculature', 'lymph_vasculature', 'peripheral_nervous_system']]"
   ]
  },
  {
   "cell_type": "code",
   "execution_count": null,
   "id": "4b8f4569-9fd0-49be-b7c0-d2f32626ad56",
   "metadata": {
    "ExecuteTime": {
     "end_time": "2023-10-03T14:43:06.801970800Z",
     "start_time": "2023-10-03T14:43:06.653934900Z"
    },
    "tags": []
   },
   "outputs": [],
   "source": [
    "json_data_asctb = {organ: json_data_asctb[organ] for organ in organ_order}"
   ]
  },
  {
   "cell_type": "code",
   "execution_count": null,
   "id": "c8f85164-7135-44f5-a33f-4d8ecf243c29",
   "metadata": {
    "ExecuteTime": {
     "end_time": "2023-10-03T14:43:06.801970800Z",
     "start_time": "2023-10-03T14:43:06.662308200Z"
    },
    "tags": []
   },
   "outputs": [],
   "source": [
    "json_data_asctb.keys()"
   ]
  },
  {
   "cell_type": "code",
   "execution_count": null,
   "id": "92c03564-0ea6-40bf-9682-39732c7c82c9",
   "metadata": {
    "ExecuteTime": {
     "end_time": "2023-10-03T14:43:06.801970800Z",
     "start_time": "2023-10-03T14:43:06.677496500Z"
    },
    "tags": []
   },
   "outputs": [],
   "source": [
    "def combine_data(json_dat, remove_ctct=True, combine=True, blood=False, verbose=False):\n",
    "    \"\"\"\n",
    "    combine_data takes the json data of the organs and returns the node and edge lists in pandas dataframes\n",
    "\n",
    "    :param json_dat: data of all the organs in a json format that was loaded by the load_data function\n",
    "    :param remove_ctct: There should not be edges between CT and CT, however sometimes there can be mistakes in the data files. \n",
    "    :param combine: if true then the organs are combined into one network, and the function outputs 2 dataframes: nodes and edges. \n",
    "                    if false, then the organs are not combined, the function returns a node and an edge table for each organ.\n",
    "    :param blood: By default it is false, and in this case, the function ignores the following tables: 'blood_pelvis', 'blood_vasculature', \n",
    "                 'lymph_vasculature', and 'peripheral_nervous_system'. If true, then 'blood_vasculature' is not excluded.\n",
    "\n",
    "    \"\"\" \n",
    "    nodes_data = []\n",
    "    edges_data = []\n",
    "    organ_names = ['body']\n",
    "    \n",
    "    # The numbering of the nodes starts from 1 in each organ\n",
    "    # If we combine the organs, we need a new id\n",
    "    node_id_start_point = 1 \n",
    "    \n",
    "    #Add the 'body' node to the nodes data:\n",
    "    body_df = pd.DataFrame(json_dat['brain']['nodes']).head(1)\n",
    "    body_df.index = body_df['id']\n",
    "    body_df['id_old'] = 0\n",
    "    body_df['organ'] = 'body'\n",
    "    body_df['ontology_id'] = 'UBERON:0013702'\n",
    "    \n",
    "    nodes_data += [body_df[['id', 'id_old', 'name', 'type', 'organ', 'ontology_id']]]\n",
    "    \n",
    "    if not combine:\n",
    "        body_data = body_df[['id', 'id_old', 'name', 'type', 'organ', 'ontology_id']].copy()\n",
    "    \n",
    "    if blood:\n",
    "        exclude = ['blood_pelvis', 'lymph_vasculature', 'peripheral_nervous_system']\n",
    "    else:\n",
    "        exclude = ['blood_pelvis', 'blood_vasculature', 'lymph_vasculature', 'peripheral_nervous_system']\n",
    "    \n",
    "    for name in json_dat.keys():\n",
    "        if name in exclude:\n",
    "            continue\n",
    "        else:\n",
    "            # print(name)\n",
    "            organ_names += [name]\n",
    "            # Combine nodes:\n",
    "            organ_nodes = pd.DataFrame(json_dat[name]['nodes']).iloc[1:,:]\n",
    "            not_as_ct_nodes = organ_nodes[~organ_nodes['type'].isin(['AS', 'CT'])]['id'] #filter for AS and CT\n",
    "            organ_nodes['id_old'] = organ_nodes['id'].copy()\n",
    "            if combine:\n",
    "                organ_nodes['id'] = organ_nodes['id'].add(node_id_start_point-1)\n",
    "            organ_nodes.index = organ_nodes['id']\n",
    "            # organ_nodes = organ_nodes.drop(columns=['id'])\n",
    "            organ_nodes = organ_nodes[organ_nodes['type'].isin(['AS', 'CT'])]\n",
    "            organ_nodes['organ'] = name\n",
    "            organ_nodes['ontology_id'] = organ_nodes['metadata'].apply(lambda x: x['ontologyId'])\n",
    "            organ_nodes = organ_nodes[['id', 'id_old', 'name', 'type', 'organ', 'ontology_id']]\n",
    "            \n",
    "\n",
    "            # Combine edges:\n",
    "            organ_edges = pd.DataFrame(json_dat[name]['edges'])\n",
    "            ## Remove CT-CT edges:\n",
    "            if remove_ctct:\n",
    "                organ_nodes_original = pd.DataFrame(json_dat[name]['nodes'])\n",
    "                organ_nodes_original.index = organ_nodes_original['id']\n",
    "                organ_edges['source_type'] = organ_edges['source'].apply(lambda x: organ_nodes_original.loc[x]['type'])\n",
    "                organ_edges['target_type'] = organ_edges['target'].apply(lambda x: organ_nodes_original.loc[x]['type'])\n",
    "                organ_edges = organ_edges[(organ_edges['source_type']=='AS')|(organ_edges['target_type']=='AS')]\n",
    "            ##rename edges due to colliding ids\n",
    "            organ_network = nx.from_pandas_edgelist(organ_edges)\n",
    "            #remove unnecessary edges:\n",
    "            organ_network.remove_nodes_from(not_as_ct_nodes.to_list())\n",
    "            # Remove body-organ edge (we will add it later)\n",
    "            organ_network.remove_edge(0, 1)\n",
    "            organ_network.remove_node(0)\n",
    "            #rename nodes\n",
    "            # organ_network = nx.relabel_nodes(organ_network, organ_nodes['name'].to_dict())\n",
    "            if combine:\n",
    "                organ_network = nx.convert_node_labels_to_integers(organ_network, first_label=node_id_start_point)\n",
    "            #add body-organ edge\n",
    "            # organ_network.add_node(0) \n",
    "            # nx.set_node_attributes(organ_network, {0: {\"type\": 'AS', \"name\": \"Body\", 'organ': 'body', 'ontology_id': 'UBERON:0013702'}})\n",
    "            if combine:\n",
    "                organ_network.add_edge(0, node_id_start_point) #add body-organ edge\n",
    "                #v1.4 correction:\n",
    "                if name=='lung':\n",
    "                    organ_network.add_edge(node_id_start_point, 63+node_id_start_point-1)  #connect lung to pulmonary vascular system\n",
    "                    organ_network.add_edge(node_id_start_point, 69+node_id_start_point-1)  #connect lung to systemic artery\n",
    "                    organ_network.add_edge(node_id_start_point, 73+node_id_start_point-1)  #connect lung to venous blood vessel\n",
    "\n",
    "                elif name=='trachea':\n",
    "                    organ_network.add_edge(node_id_start_point, 15+node_id_start_point-1)  #connect trachea to bronchial vein\n",
    "                    organ_network.add_edge(node_id_start_point, 18+node_id_start_point-1)  #connect trachea to bronchial artery\n",
    "                    \n",
    "                elif name=='main_bronchus':\n",
    "                    organ_network.add_edge(node_id_start_point, 10+node_id_start_point-1) #connect trachea to bronchial artery\n",
    "                    organ_network.add_edge(node_id_start_point, 13+node_id_start_point-1) #connect trachea to bronchial vein\n",
    "                    \n",
    "            else:\n",
    "                organ_network.add_edge(0, 1) #add body-organ edge\n",
    "                \n",
    "                #v1.4 corrections:\n",
    "                if name==\"lung\":\n",
    "                    organ_network.add_edge(0, 63) #connect lung to pulmonary vascular system\n",
    "                    organ_network.add_edge(0, 69) #connect lung to systemic artery\n",
    "                    organ_network.add_edge(0, 73) #connect lung to venous blood vessel\n",
    "\n",
    "                elif name==\"trachea\":\n",
    "                    organ_network.add_edge(0, 15) #connect trachea to bronchial vein\n",
    "                    organ_network.add_edge(0, 18) #connect trachea to bronchial artery\n",
    "\n",
    "                elif name=='main_bronchus':\n",
    "                    organ_network.add_edge(0, 10) #connect trachea to bronchial artery\n",
    "                    organ_network.add_edge(0, 13) #connect trachea to bronchial vein\n",
    "\n",
    "\n",
    "                \n",
    "\n",
    "            # Create CT duplicates\n",
    "            organ_CT_nodes = organ_nodes[organ_nodes['type']=='CT'].copy()\n",
    "            organ_CT_nodes['degree'] = dict(organ_network.degree(organ_CT_nodes['id'])).values()\n",
    "            \n",
    "            ct_nodes_to_copy = organ_CT_nodes[organ_CT_nodes['degree']>1]['id'].values\n",
    "            edges_to_remove = []\n",
    "            edges_to_add = []\n",
    "            \n",
    "            for ct_node in ct_nodes_to_copy:\n",
    "                as_neighbors_of_ct = list(nx.neighbors(organ_network, ct_node))\n",
    "                for ind, as_neighbor in enumerate(as_neighbors_of_ct):\n",
    "                    if ind==0:\n",
    "                        continue\n",
    "                    else:\n",
    "                        ct_node_details = organ_nodes.loc[ct_node].to_dict()\n",
    "                        new_node_id = organ_nodes['id'].max()+1\n",
    "                        ct_node_details['id'] = new_node_id\n",
    "                        # organ_nodes = organ_nodes.append(ct_node_details, ignore_index=False)\n",
    "                        organ_nodes.loc[new_node_id] = ct_node_details\n",
    "                        \n",
    "                        edges_to_remove += [(as_neighbor, ct_node)]\n",
    "                        edges_to_add += [(as_neighbor, new_node_id)]\n",
    "\n",
    "            if verbose:\n",
    "                print(name)\n",
    "                print(f'Number of deleted edges: {len(edges_to_remove)}')\n",
    "                print(f'Number of added edges: {len(edges_to_add)}')\n",
    "                \n",
    "            organ_network.remove_edges_from(edges_to_remove)\n",
    "            organ_network.add_edges_from(edges_to_add)               \n",
    "            \n",
    "            print(nodes_data)\n",
    "            nodes_data += [organ_nodes]\n",
    "            if not combine:\n",
    "                nodes_data[-1] = pd.concat([body_data, nodes_data[-1]])\n",
    "            \n",
    "            node_id_start_point = max(organ_network.nodes)+1\n",
    "            \n",
    "            organ_edges = nx.to_pandas_edgelist(organ_network)[['source', 'target']]\n",
    "            print(f\"{name} is tree: {nx.is_tree(organ_network)}\", end='\\n_____________\\n')\n",
    "            edges_data += [organ_edges]\n",
    "\n",
    "    if combine:\n",
    "        return pd.concat(nodes_data, ignore_index=True), pd.concat(edges_data, ignore_index=True)\n",
    "    else:\n",
    "        return dict(zip(organ_names, nodes_data)), dict(zip(organ_names[1:], edges_data))"
   ]
  },
  {
   "cell_type": "markdown",
   "id": "83ba31c7-c3e2-4be1-9b87-3eaca5547f2d",
   "metadata": {},
   "source": [
    "Combine the nodes and edges of the organs. (The code checks whether the graph of the organs are trees)"
   ]
  },
  {
   "cell_type": "code",
   "execution_count": null,
   "id": "3ffab28b-dd12-401e-afee-271bc3f8f71e",
   "metadata": {
    "ExecuteTime": {
     "end_time": "2023-10-03T14:43:13.266892300Z",
     "start_time": "2023-10-03T14:43:06.698906Z"
    },
    "tags": []
   },
   "outputs": [],
   "source": [
    "nodes, edges = combine_data(json_data_asctb, remove_ctct=True, combine=True)"
   ]
  },
  {
   "cell_type": "code",
   "execution_count": null,
   "id": "e2299b3b-78a1-4f82-8fa2-adce67210407",
   "metadata": {
    "ExecuteTime": {
     "end_time": "2023-10-03T14:43:13.270923Z",
     "start_time": "2023-10-03T14:43:12.743702700Z"
    },
    "tags": []
   },
   "outputs": [],
   "source": [
    "nodes['organ'].unique()"
   ]
  },
  {
   "cell_type": "code",
   "execution_count": null,
   "id": "4970c589-9a45-44d6-85b7-0e15ab70c1ed",
   "metadata": {
    "ExecuteTime": {
     "end_time": "2023-10-03T14:43:13.664428200Z",
     "start_time": "2023-10-03T14:43:12.762637600Z"
    },
    "tags": []
   },
   "outputs": [],
   "source": [
    "edges.head()"
   ]
  },
  {
   "cell_type": "code",
   "execution_count": null,
   "id": "d2926889",
   "metadata": {},
   "outputs": [],
   "source": [
    "FTUs = ['UBERON:0001229', 'UBERON:0001285', 'UBERON:0004205', 'UBERON:0004204', 'UBERON:0004203', 'UBERON:0004193', 'UBERON:0001289', 'UBERON:0001291', 'UBERON:0013485', 'UBERON:0004647', 'UBERON:0008870', 'UBERON:8410043', 'UBERON:0000006', 'UBERON:0001263', 'UBERON:0007329', 'UBERON:0004179', 'UBERON:0001003', 'UBERON:0002067', 'UBERON:0001213', 'UBERON:0001959', 'UBERON:0001250', 'UBERON:0002125']"
   ]
  },
  {
   "cell_type": "code",
   "execution_count": null,
   "id": "996f72f2-4fea-4231-9a8d-62c57ad7def4",
   "metadata": {
    "tags": []
   },
   "outputs": [],
   "source": [
    "nodes[nodes['ontology_id'].isin(FTUs)]['ontology_id'].unique()"
   ]
  },
  {
   "cell_type": "markdown",
   "id": "495c3c37-a61e-4a50-b9f1-592df41b9fc7",
   "metadata": {},
   "source": [
    "## Construction of network "
   ]
  },
  {
   "cell_type": "code",
   "execution_count": null,
   "id": "f150446a-40d4-4a59-b786-b8fbe0503f77",
   "metadata": {
    "ExecuteTime": {
     "end_time": "2023-10-03T14:43:13.664428200Z",
     "start_time": "2023-10-03T14:43:12.766156400Z"
    },
    "tags": []
   },
   "outputs": [],
   "source": [
    "whole_graph = nx.from_pandas_edgelist(edges)"
   ]
  },
  {
   "cell_type": "code",
   "execution_count": null,
   "id": "ec9804e3-033c-4d9f-891d-04f2c0bd60db",
   "metadata": {
    "ExecuteTime": {
     "end_time": "2023-10-03T14:43:13.666429700Z",
     "start_time": "2023-10-03T14:43:12.781792200Z"
    },
    "tags": []
   },
   "outputs": [],
   "source": [
    "def get_parent(node, graph):\n",
    "    neighbors = nx.neighbors(graph, node)\n",
    "    # print(len([x for x in neighbors if x<node]))\n",
    "    return min(nx.neighbors(graph, node))"
   ]
  },
  {
   "cell_type": "code",
   "execution_count": null,
   "id": "9e332124-5975-459a-adff-cf13ffeb7053",
   "metadata": {
    "ExecuteTime": {
     "end_time": "2023-10-03T14:43:13.666429700Z",
     "start_time": "2023-10-03T14:43:12.787830100Z"
    },
    "tags": []
   },
   "outputs": [],
   "source": [
    "nodes['parent']= nodes['id'].apply(get_parent, graph=whole_graph)"
   ]
  },
  {
   "cell_type": "markdown",
   "id": "045e85f4-d02e-45e3-96fd-573b40b1dcd4",
   "metadata": {},
   "source": [
    "Size of network in v1.4"
   ]
  },
  {
   "cell_type": "code",
   "execution_count": null,
   "id": "13f68ae8-895b-4bb8-9ca0-b59d72d9c28b",
   "metadata": {
    "ExecuteTime": {
     "end_time": "2023-10-03T14:43:13.747540600Z",
     "start_time": "2023-10-03T14:43:12.802412400Z"
    },
    "tags": []
   },
   "outputs": [],
   "source": [
    "whole_graph.number_of_nodes()"
   ]
  },
  {
   "cell_type": "code",
   "execution_count": null,
   "id": "ddbd0ac5-b81e-4560-825d-00e7e1b88315",
   "metadata": {
    "ExecuteTime": {
     "end_time": "2023-10-03T14:43:13.876661700Z",
     "start_time": "2023-10-03T14:43:12.806928400Z"
    },
    "tags": []
   },
   "outputs": [],
   "source": [
    "whole_graph.number_of_edges()"
   ]
  },
  {
   "cell_type": "code",
   "execution_count": null,
   "id": "10f07750-84a4-4a32-a266-ce56e820495c",
   "metadata": {
    "ExecuteTime": {
     "end_time": "2023-10-03T14:43:13.944581600Z",
     "start_time": "2023-10-03T14:43:12.821701400Z"
    },
    "tags": []
   },
   "outputs": [],
   "source": [
    "nodes['color'] = nodes.apply(lambda row: '#56a04e' if row['ontology_id'] in FTUs else ('#984ea0' if row['type']=='AS' else '#ff7f00'), axis=1)"
   ]
  },
  {
   "cell_type": "code",
   "execution_count": null,
   "id": "c393f79b-7955-41a6-bfe8-51dd2a2e71eb",
   "metadata": {
    "ExecuteTime": {
     "end_time": "2023-10-03T14:43:13.958599100Z",
     "start_time": "2023-10-03T14:43:12.881388800Z"
    },
    "tags": []
   },
   "outputs": [],
   "source": [
    "nodes_json = nodes[['id', 'name', 'parent', 'type', 'ontology_id', 'color']].to_dict(orient='index')"
   ]
  },
  {
   "cell_type": "code",
   "execution_count": null,
   "id": "cf89ae0a-4ebd-4563-a3c6-95b0694de05e",
   "metadata": {
    "ExecuteTime": {
     "end_time": "2023-10-03T14:43:13.999681700Z",
     "start_time": "2023-10-03T14:43:12.919776200Z"
    },
    "tags": []
   },
   "outputs": [],
   "source": [
    "del(nodes_json[0]['parent'])"
   ]
  },
  {
   "cell_type": "code",
   "execution_count": null,
   "id": "ed9bb45d-8ddf-4ecb-8aae-6c59e82d998f",
   "metadata": {
    "ExecuteTime": {
     "end_time": "2023-10-03T14:43:14.012681700Z",
     "start_time": "2023-10-03T14:43:12.924785500Z"
    },
    "tags": []
   },
   "outputs": [],
   "source": [
    "nodes_json = [nodes_json[i] for i in nodes_json.keys()]"
   ]
  },
  {
   "cell_type": "code",
   "execution_count": null,
   "id": "bd8a8c0f-e6f3-43ae-a6a2-a3ce63a8cd3a",
   "metadata": {
    "ExecuteTime": {
     "end_time": "2023-10-03T14:43:14.027682200Z",
     "start_time": "2023-10-03T14:43:12.932121200Z"
    },
    "tags": []
   },
   "outputs": [],
   "source": [
    "with open('human_atlas_v1.4', 'w', encoding='utf8') as f:\n",
    "    f.write('[\\n')\n",
    "    for item in nodes_json:\n",
    "        f.write(f\"{json.dumps(item)},\\n\".replace(\"'\", ''))\n",
    "    f.write(']')"
   ]
  },
  {
   "cell_type": "code",
   "execution_count": null,
   "id": "3fd41cf6-17c6-4cee-a10c-8cae0f7bef50",
   "metadata": {
    "ExecuteTime": {
     "end_time": "2023-10-03T14:43:14.029681300Z",
     "start_time": "2023-10-03T14:43:12.960616500Z"
    },
    "tags": []
   },
   "outputs": [],
   "source": [
    "nodes['type'].value_counts()"
   ]
  },
  {
   "cell_type": "markdown",
   "id": "6fd28456-1023-4dc8-b397-abbad9cb2440",
   "metadata": {},
   "source": [
    "### Female network "
   ]
  },
  {
   "cell_type": "code",
   "execution_count": null,
   "id": "aa2adadc-4ca1-4944-b8c2-29d6c0fdabad",
   "metadata": {
    "ExecuteTime": {
     "end_time": "2023-10-03T14:43:14.035681700Z",
     "start_time": "2023-10-03T14:43:12.989848100Z"
    },
    "tags": []
   },
   "outputs": [],
   "source": [
    "def construct_network(jason_data, filename):\n",
    "    nodes_df, edges_df = combine_data(jason_data, remove_ctct=True, combine=True)\n",
    "    graph = nx.from_pandas_edgelist(edges_df)\n",
    "    nodes_df['parent']= nodes_df['id'].apply(get_parent, graph=graph)\n",
    "    nodes_df['color'] = nodes_df.apply(lambda row: '#56a04e' if row['ontology_id'] in FTUs else ('#984ea0' if row['type']=='AS' else '#ff7f00'), axis=1)\n",
    "    \n",
    "    nodes_df['organ_label'] = nodes_df.apply(lambda row: row['name'] if row['id_old']==1 else '', axis=1)\n",
    "    nodes_json = nodes_df[['id', 'name', 'parent', 'type', 'ontology_id', 'color', 'organ', 'organ_label']].to_dict(orient='index')\n",
    "    del(nodes_json[0]['parent'])\n",
    "    nodes_json = [nodes_json[i] for i in nodes_json.keys()]\n",
    "    \n",
    "    with open(f'{filename}.json', 'w', encoding='utf8') as f:\n",
    "        f.write('[\\n')\n",
    "        for item in nodes_json:\n",
    "            f.write(f\"{json.dumps(item)},\\n\".replace(\"'\", ''))\n",
    "        f.write(']')\n",
    "    \n",
    "    return nodes_df, edges_df"
   ]
  },
  {
   "cell_type": "code",
   "execution_count": null,
   "id": "dda1aaef-01a4-4dbd-a525-5293b4833627",
   "metadata": {
    "ExecuteTime": {
     "end_time": "2023-10-03T14:43:14.036681900Z",
     "start_time": "2023-10-03T14:43:12.994892500Z"
    },
    "tags": []
   },
   "outputs": [],
   "source": [
    "fem_json_data = json_data_asctb.copy()"
   ]
  },
  {
   "cell_type": "code",
   "execution_count": null,
   "id": "68548f22-667f-428e-95be-7dd3392791ea",
   "metadata": {
    "ExecuteTime": {
     "end_time": "2023-10-03T14:43:14.036681900Z",
     "start_time": "2023-10-03T14:43:13.001020800Z"
    },
    "tags": []
   },
   "outputs": [],
   "source": [
    "del(fem_json_data['prostate'])"
   ]
  },
  {
   "cell_type": "code",
   "execution_count": null,
   "id": "1fae2fc9-c1d3-432d-8e56-6c9dce2b8a7f",
   "metadata": {
    "ExecuteTime": {
     "end_time": "2023-10-03T14:43:18.612903700Z",
     "start_time": "2023-10-03T14:43:13.006965800Z"
    },
    "tags": []
   },
   "outputs": [],
   "source": [
    "fem_nodes, fem_edges = construct_network(fem_json_data, 'v14/v14/')"
   ]
  },
  {
   "cell_type": "code",
   "execution_count": null,
   "id": "18c84185-0f44-44b5-9ca2-f329ea2b7111",
   "metadata": {
    "ExecuteTime": {
     "end_time": "2023-10-03T14:43:18.637983100Z",
     "start_time": "2023-10-03T14:43:18.321763300Z"
    },
    "tags": []
   },
   "outputs": [],
   "source": [
    "fem_edges"
   ]
  },
  {
   "cell_type": "code",
   "execution_count": null,
   "id": "144c2358-3e99-4c12-8377-a11be22b7b57",
   "metadata": {
    "ExecuteTime": {
     "end_time": "2023-10-03T14:43:18.663993Z",
     "start_time": "2023-10-03T14:43:18.346045300Z"
    },
    "tags": []
   },
   "outputs": [],
   "source": [
    "fem_nodes[fem_nodes['organ']=='prostate']"
   ]
  },
  {
   "cell_type": "code",
   "execution_count": null,
   "id": "f2355af5-fdb8-40cb-9bce-1836bf200af2",
   "metadata": {
    "ExecuteTime": {
     "end_time": "2023-10-03T14:43:18.690254900Z",
     "start_time": "2023-10-03T14:43:18.383242300Z"
    },
    "tags": []
   },
   "outputs": [],
   "source": [
    "fem_nodes.color.value_counts()"
   ]
  },
  {
   "cell_type": "code",
   "execution_count": null,
   "id": "6429f98c-8a7c-4d37-8133-10d569d047bf",
   "metadata": {
    "tags": []
   },
   "outputs": [],
   "source": [
    "fem_nodes[fem_nodes['color']=='#56a04e'].sort_values('ontology_id') #.to_excel('ftus.xlsx')"
   ]
  },
  {
   "cell_type": "markdown",
   "id": "68551df3-8c76-4955-9063-00f5868ff8df",
   "metadata": {
    "tags": []
   },
   "source": [
    "### Male network "
   ]
  },
  {
   "cell_type": "code",
   "execution_count": null,
   "id": "5ee4ab8a-168c-4f6a-a9f5-179f724f0f6c",
   "metadata": {
    "ExecuteTime": {
     "end_time": "2023-10-03T14:43:18.716256400Z",
     "start_time": "2023-10-03T14:43:18.476911800Z"
    },
    "tags": []
   },
   "outputs": [],
   "source": [
    "male_json_data = json_data_asctb.copy()"
   ]
  },
  {
   "cell_type": "code",
   "execution_count": null,
   "id": "580770dc-6247-4474-9693-4fd1c3b58231",
   "metadata": {
    "ExecuteTime": {
     "end_time": "2023-10-03T14:43:18.717255600Z",
     "start_time": "2023-10-03T14:43:18.509207400Z"
    },
    "tags": []
   },
   "outputs": [],
   "source": [
    "del(male_json_data['fallopian_tube'])"
   ]
  },
  {
   "cell_type": "code",
   "execution_count": null,
   "id": "098bd659-735e-4b08-ac73-7a5cbc7b5bd1",
   "metadata": {
    "ExecuteTime": {
     "end_time": "2023-10-03T14:43:18.717255600Z",
     "start_time": "2023-10-03T14:43:18.519321400Z"
    },
    "tags": []
   },
   "outputs": [],
   "source": [
    "del(male_json_data['ovary'])"
   ]
  },
  {
   "cell_type": "code",
   "execution_count": null,
   "id": "b5190bdb-7e3a-4548-ab52-efd9a5661d58",
   "metadata": {
    "ExecuteTime": {
     "end_time": "2023-10-03T14:43:18.719254100Z",
     "start_time": "2023-10-03T14:43:18.535631Z"
    },
    "tags": []
   },
   "outputs": [],
   "source": [
    "del(male_json_data['uterus'])"
   ]
  },
  {
   "cell_type": "code",
   "execution_count": null,
   "id": "51535d02-0fe1-4930-97b0-b766d9294363",
   "metadata": {
    "ExecuteTime": {
     "end_time": "2023-10-03T14:43:18.730254200Z",
     "start_time": "2023-10-03T14:43:18.571194300Z"
    },
    "tags": []
   },
   "outputs": [],
   "source": [
    "del(male_json_data['placenta_full_term'])"
   ]
  },
  {
   "cell_type": "code",
   "execution_count": null,
   "id": "7d5ea90a-ad37-49d9-b070-a0f235bfb218",
   "metadata": {
    "ExecuteTime": {
     "end_time": "2023-10-03T14:43:24.451174400Z",
     "start_time": "2023-10-03T14:43:18.585840800Z"
    },
    "tags": []
   },
   "outputs": [],
   "source": [
    "male_nodes, male_edges = construct_network(male_json_data, 'v14/v14/')"
   ]
  },
  {
   "cell_type": "code",
   "execution_count": null,
   "id": "fd786ea6-ea1e-48ec-b0b6-a39f436707c6",
   "metadata": {
    "ExecuteTime": {
     "end_time": "2023-10-03T14:43:24.455273100Z",
     "start_time": "2023-10-03T14:43:24.417389Z"
    },
    "tags": []
   },
   "outputs": [],
   "source": [
    "male_nodes"
   ]
  },
  {
   "cell_type": "code",
   "execution_count": null,
   "id": "fbf5292c-ffc5-4e93-8fd3-46fb8516cf82",
   "metadata": {
    "ExecuteTime": {
     "end_time": "2023-10-03T14:43:24.527305600Z",
     "start_time": "2023-10-03T14:43:24.432478100Z"
    },
    "tags": []
   },
   "outputs": [],
   "source": [
    "male_edges"
   ]
  },
  {
   "cell_type": "code",
   "execution_count": null,
   "id": "57ac5ccc-fe56-47fe-9b5e-6a3158a5728c",
   "metadata": {
    "tags": []
   },
   "outputs": [],
   "source": [
    "male_nodes[male_nodes['name'].apply(lambda x: 'prostate' in str(x).lower())]"
   ]
  },
  {
   "cell_type": "markdown",
   "id": "c856bfae-ac58-468e-a7e7-a985be5fa922",
   "metadata": {},
   "source": [
    "# Vega radial tree "
   ]
  },
  {
   "cell_type": "markdown",
   "id": "1d5d3e79-03e0-4a12-96fb-79f592a4a58a",
   "metadata": {},
   "source": [
    "* Config saved in (fe)male_wing_viz.json. \n",
    "* Copy human_atlas_(fe)_male_v13 in the values \n",
    "* Export SVG and JSON. "
   ]
  },
  {
   "cell_type": "code",
   "execution_count": null,
   "id": "7bdf7e16-3ce2-4086-93e7-6537ff85e21e",
   "metadata": {
    "ExecuteTime": {
     "end_time": "2023-10-03T14:43:49.262962800Z",
     "start_time": "2023-10-03T14:43:49.133701200Z"
    },
    "tags": []
   },
   "outputs": [],
   "source": [
    "def construct_network_create_vega_viz(jason_data, filename):\n",
    "    nodes_df, edges_df = combine_data(jason_data, remove_ctct=True, combine=True)\n",
    "    graph = nx.from_pandas_edgelist(edges_df)\n",
    "    nodes_df['parent']= nodes_df['id'].apply(get_parent, graph=graph)\n",
    "    nodes_df['color'] = nodes_df.apply(lambda row: '#56a04e' if row['ontology_id'] in FTUs else ('#984ea0' if row['type']=='AS' else '#ff7f00'), axis=1)\n",
    "    \n",
    "    nodes_df['organ_label'] = nodes_df.apply(lambda row: row['name'] if row['id_old']==1 else '', axis=1)\n",
    "    nodes_json = nodes_df[['id', 'name', 'parent', 'type', 'ontology_id', 'color', 'organ', 'organ_label']].to_dict(orient='index')\n",
    "    del(nodes_json[0]['parent'])\n",
    "    nodes_json = [nodes_json[i] for i in nodes_json.keys()]\n",
    "    \n",
    "\n",
    "    with open('v14/vega_config.json', encoding='utf8') as json_file:\n",
    "        config = json.load(json_file)\n",
    "\n",
    "    config['data'][0]['values'] = nodes_json\n",
    "    \n",
    "    \n",
    "    # Writing to sample.json\n",
    "    with open(f\"v14/v14_{filename}.json\", \"w\") as outfile:\n",
    "        outfile.write(json.dumps(config, indent=4))\n",
    "    \n",
    "    return nodes_df, edges_df"
   ]
  },
  {
   "cell_type": "code",
   "execution_count": null,
   "id": "f7503529-a46d-49fc-bd04-a66c62d70308",
   "metadata": {
    "ExecuteTime": {
     "end_time": "2023-10-03T14:43:52.269780700Z",
     "start_time": "2023-10-03T14:43:49.595433800Z"
    },
    "tags": []
   },
   "outputs": [],
   "source": [
    "_, _ = construct_network_create_vega_viz(male_json_data, 'male')"
   ]
  },
  {
   "cell_type": "code",
   "execution_count": null,
   "id": "e45b31ce-d963-4e6a-9620-116f56ae8902",
   "metadata": {
    "ExecuteTime": {
     "end_time": "2023-10-03T14:43:55.834202700Z",
     "start_time": "2023-10-03T14:43:52.154375900Z"
    },
    "tags": []
   },
   "outputs": [],
   "source": [
    "_, _ = construct_network_create_vega_viz(fem_json_data, 'female')"
   ]
  },
  {
   "cell_type": "markdown",
   "id": "0933cd94-6c27-452b-8073-dfd0168df1d2",
   "metadata": {
    "tags": []
   },
   "source": [
    "# Vasculature "
   ]
  },
  {
   "cell_type": "code",
   "execution_count": null,
   "id": "3856a6a0-9556-4ad8-845a-c86a0c92da47",
   "metadata": {
    "ExecuteTime": {
     "end_time": "2023-10-03T14:43:55.834202700Z",
     "start_time": "2023-10-03T14:43:55.082491700Z"
    },
    "tags": []
   },
   "outputs": [],
   "source": [
    "asctb_blood_vasc_nodes = pd.DataFrame(load_data('./asct+b/v14/')['blood_vasculature']['nodes'])"
   ]
  },
  {
   "cell_type": "code",
   "execution_count": null,
   "id": "341a2ed6-0b03-4fd2-9e38-dc32a23fc073",
   "metadata": {
    "ExecuteTime": {
     "end_time": "2023-10-03T14:43:55.834202700Z",
     "start_time": "2023-10-03T14:43:55.165471100Z"
    },
    "tags": []
   },
   "outputs": [],
   "source": [
    "asctb_blood_vasc_nodes['ontologyId'] = asctb_blood_vasc_nodes['metadata'].apply(lambda x: x['ontologyId'])\n",
    "asctb_blood_vasc_nodes['label'] = asctb_blood_vasc_nodes['metadata'].apply(lambda x: x['label'])\n",
    "asctb_blood_vasc_nodes.drop(columns=['metadata'], inplace=True)"
   ]
  },
  {
   "cell_type": "code",
   "execution_count": null,
   "id": "da55df4a-cfd8-4570-9709-8981d390ba55",
   "metadata": {
    "ExecuteTime": {
     "end_time": "2023-10-03T14:43:55.834202700Z",
     "start_time": "2023-10-03T14:43:55.174132600Z"
    },
    "tags": []
   },
   "outputs": [],
   "source": [
    "asctb_blood_vasc_nodes.head()"
   ]
  },
  {
   "cell_type": "code",
   "execution_count": null,
   "id": "6953e369-b04b-40ee-803c-f8488e2c772b",
   "metadata": {
    "ExecuteTime": {
     "end_time": "2023-10-03T14:43:55.834202700Z",
     "start_time": "2023-10-03T14:43:55.188547200Z"
    },
    "tags": []
   },
   "outputs": [],
   "source": [
    "asctb_blood_vasc_nodes['type'].value_counts()"
   ]
  },
  {
   "cell_type": "code",
   "execution_count": null,
   "id": "c6ba6397-1146-4b40-b33b-f83016853a61",
   "metadata": {
    "ExecuteTime": {
     "end_time": "2023-10-03T14:43:55.834202700Z",
     "start_time": "2023-10-03T14:43:55.194164100Z"
    },
    "tags": []
   },
   "outputs": [],
   "source": [
    "asctb_blood_vasc_edges = pd.DataFrame(load_data('./asct+b/v14/')['blood_vasculature']['edges'])"
   ]
  },
  {
   "cell_type": "code",
   "execution_count": null,
   "id": "faae0e73-e13a-4526-804e-79be64bbe890",
   "metadata": {
    "ExecuteTime": {
     "end_time": "2023-10-03T14:43:55.834202700Z",
     "start_time": "2023-10-03T14:43:55.378863800Z"
    },
    "tags": []
   },
   "outputs": [],
   "source": [
    "asctb_blood_vasc_edges"
   ]
  },
  {
   "cell_type": "code",
   "execution_count": null,
   "id": "a899a77b-e308-4f0f-976e-13dc1cae4152",
   "metadata": {
    "ExecuteTime": {
     "end_time": "2023-10-03T14:43:56.294734700Z",
     "start_time": "2023-10-03T14:43:55.408880600Z"
    },
    "tags": []
   },
   "outputs": [],
   "source": [
    "vasc_data = pd.read_csv('./Vessel.csv', encoding=\"ISO-8859-1\")[['BranchesFrom', 'Vessel', 'ASID', 'VesselType', 'BodyPart', 'BodyPartID', 'PathFromHeart', 'PathFromHeartWithIDs']]"
   ]
  },
  {
   "cell_type": "code",
   "execution_count": null,
   "id": "de5f1cda-e432-47b7-8f42-70b2408a4539",
   "metadata": {
    "ExecuteTime": {
     "end_time": "2023-10-03T14:43:56.530947700Z",
     "start_time": "2023-10-03T14:43:55.676183900Z"
    },
    "editable": true,
    "slideshow": {
     "slide_type": ""
    },
    "tags": []
   },
   "outputs": [],
   "source": [
    "vasc_data.isna().sum().sort_values(ascending=False)"
   ]
  },
  {
   "cell_type": "code",
   "execution_count": null,
   "id": "f736c2de-5302-4ce6-a468-a6836e8293ad",
   "metadata": {
    "ExecuteTime": {
     "end_time": "2023-10-03T14:43:57.348540800Z",
     "start_time": "2023-10-03T14:43:56.104683600Z"
    },
    "tags": []
   },
   "outputs": [],
   "source": [
    "vasc_data.head()"
   ]
  },
  {
   "cell_type": "code",
   "execution_count": null,
   "id": "58edfc5e-fba2-4b29-b3b4-917d3c602a48",
   "metadata": {
    "ExecuteTime": {
     "end_time": "2023-10-03T14:43:58.081362100Z",
     "start_time": "2023-10-03T14:43:57.002169700Z"
    },
    "tags": []
   },
   "outputs": [],
   "source": [
    "len(vasc_data)"
   ]
  },
  {
   "cell_type": "code",
   "execution_count": null,
   "id": "8e06bce4-9e3d-4b50-9c61-dfa92af90866",
   "metadata": {
    "ExecuteTime": {
     "end_time": "2023-10-03T14:43:58.238920900Z",
     "start_time": "2023-10-03T14:43:57.109209500Z"
    },
    "tags": []
   },
   "outputs": [],
   "source": [
    "# vasc_data = pd.read_excel('./Blood_Vasculature_v1.2_EXTENDED.xlsx', sheet_name='BodyPartVessel')\n",
    "# vasc_data = pd.read_excel('./Blood_Vasculature_v1.3_EXTENDED.xlsx', sheet_name='BodyPartVessel')\n",
    "vasc_data"
   ]
  },
  {
   "cell_type": "code",
   "execution_count": null,
   "id": "f0134dd4-d6de-4f45-93d2-d4f5b5fea211",
   "metadata": {
    "ExecuteTime": {
     "end_time": "2023-10-03T14:43:59.146383800Z",
     "start_time": "2023-10-03T14:43:57.652201600Z"
    }
   },
   "outputs": [],
   "source": [
    "# beta_vasc = pd.read_excel('BetaVasculatureMappingtoASCT+BTablesforMarcell08.25.22.xlsx')"
   ]
  },
  {
   "cell_type": "code",
   "execution_count": null,
   "id": "3b6d5e26-00e9-4cb6-84bc-e0f101f78154",
   "metadata": {
    "ExecuteTime": {
     "end_time": "2023-10-03T14:43:59.633668700Z",
     "start_time": "2023-10-03T14:43:57.905316300Z"
    },
    "tags": []
   },
   "outputs": [],
   "source": [
    "# beta_vasc"
   ]
  },
  {
   "cell_type": "code",
   "execution_count": null,
   "id": "dfbb177f-aada-4cd5-8efc-d7056ac4aad6",
   "metadata": {
    "ExecuteTime": {
     "end_time": "2023-10-03T14:44:00.357056500Z",
     "start_time": "2023-10-03T14:43:58.520954900Z"
    },
    "tags": []
   },
   "outputs": [],
   "source": [
    "# beta_vasc[beta_vasc.duplicated(subset=['Vessel'], keep=False)]"
   ]
  },
  {
   "cell_type": "markdown",
   "id": "ab31fd22-1184-4a4d-a0cd-8c830659b87f",
   "metadata": {},
   "source": [
    "Organs in the ASCT+B tables:"
   ]
  },
  {
   "cell_type": "code",
   "execution_count": null,
   "id": "e3c635a9-ef63-4015-ac40-2e4eec4a3a87",
   "metadata": {
    "ExecuteTime": {
     "end_time": "2023-10-03T14:44:00.545829600Z",
     "start_time": "2023-10-03T14:43:59.099318300Z"
    },
    "tags": []
   },
   "outputs": [],
   "source": [
    "nodes['organ'].unique()"
   ]
  },
  {
   "cell_type": "markdown",
   "id": "a10ca26e-3e8e-4433-b0a4-455c679a2214",
   "metadata": {},
   "source": [
    "Organs/body parts in the vasculature data:"
   ]
  },
  {
   "cell_type": "code",
   "execution_count": null,
   "id": "184d9c21-9c76-44e7-945a-b5dd05e4a136",
   "metadata": {
    "ExecuteTime": {
     "end_time": "2023-10-03T14:44:00.939212500Z",
     "start_time": "2023-10-03T14:43:59.585806800Z"
    },
    "tags": []
   },
   "outputs": [],
   "source": [
    "vasc_data['BodyPart'].unique()"
   ]
  },
  {
   "cell_type": "markdown",
   "id": "8abefe1f-8842-4f18-8e5b-e8be9b1ee668",
   "metadata": {},
   "source": [
    "Matching body parts based on uberon id (BodyPartID)"
   ]
  },
  {
   "cell_type": "code",
   "execution_count": null,
   "id": "ac1988a0-87ad-4b57-bebd-2d041141e811",
   "metadata": {
    "ExecuteTime": {
     "end_time": "2023-10-03T14:44:01.654499300Z",
     "start_time": "2023-10-03T14:44:00.749827300Z"
    },
    "tags": []
   },
   "outputs": [],
   "source": [
    "nodes[nodes.ontology_id.isin(set(vasc_data['BodyPartID']))]"
   ]
  },
  {
   "cell_type": "code",
   "execution_count": null,
   "id": "e02fbf92-b139-4946-b306-d8c3adc9e7f3",
   "metadata": {
    "ExecuteTime": {
     "end_time": "2023-10-03T14:44:02.079188200Z",
     "start_time": "2023-10-03T14:44:01.424858200Z"
    },
    "tags": []
   },
   "outputs": [],
   "source": [
    "# nodes[nodes.ontology_id.isin(set(beta_vasc['ASCT+B Mapped Uberon ID']))]"
   ]
  },
  {
   "cell_type": "code",
   "execution_count": null,
   "id": "f0398d46-9d11-4c19-a401-9221886fff34",
   "metadata": {
    "ExecuteTime": {
     "end_time": "2023-10-03T14:44:02.567456100Z",
     "start_time": "2023-10-03T14:44:01.937523400Z"
    },
    "tags": []
   },
   "outputs": [],
   "source": [
    "vasc_data[vasc_data.BodyPartID.isin(set(nodes['ontology_id']))].BodyPart.unique()"
   ]
  },
  {
   "cell_type": "code",
   "execution_count": null,
   "id": "8a05b8e3-0c40-4f9c-a3d2-5c2c235c73a2",
   "metadata": {
    "ExecuteTime": {
     "end_time": "2023-10-03T14:44:03.118610500Z",
     "start_time": "2023-10-03T14:44:02.393731300Z"
    },
    "tags": []
   },
   "outputs": [],
   "source": [
    "# beta_vasc[beta_vasc['ASCT+B Mapped Uberon ID'].isin(set(nodes['ontology_id']))]['ASCT_B Mapped Table'].unique()"
   ]
  },
  {
   "cell_type": "markdown",
   "id": "379e69e8-5855-4dfe-843a-8affa3e7b93e",
   "metadata": {},
   "source": [
    "The FMA IDs have a different format in the vascular data set "
   ]
  },
  {
   "cell_type": "code",
   "execution_count": null,
   "id": "85a06d90-540e-4294-996d-468ae67b619f",
   "metadata": {
    "ExecuteTime": {
     "end_time": "2023-10-03T14:44:03.832531500Z",
     "start_time": "2023-10-03T14:44:02.959586100Z"
    },
    "tags": []
   },
   "outputs": [],
   "source": [
    "def transform_id(input_id):\n",
    "    return str(input_id).lower().replace(':', '')"
   ]
  },
  {
   "cell_type": "markdown",
   "id": "02bb87a5-6a8e-4992-bae7-d6530f32b3df",
   "metadata": {},
   "source": [
    "The set of uberon/fma IDs that are in the ASCT+B tables:"
   ]
  },
  {
   "cell_type": "code",
   "execution_count": null,
   "id": "e59a1c86-ca4e-4a31-8cd2-eaad67c557aa",
   "metadata": {
    "ExecuteTime": {
     "end_time": "2023-10-03T14:44:05.226576700Z",
     "start_time": "2023-10-03T14:44:04.228052900Z"
    },
    "tags": []
   },
   "outputs": [],
   "source": [
    "ids_in_organtables = set([transform_id(node) for node in set(nodes.ontology_id)])"
   ]
  },
  {
   "cell_type": "markdown",
   "id": "0ae6c79b-67b6-4caa-a29b-c93fee7eafcc",
   "metadata": {},
   "source": [
    "Get the mathching and non-matching vessels:"
   ]
  },
  {
   "cell_type": "code",
   "execution_count": null,
   "id": "1fa99325-4164-447b-a522-10ec28376635",
   "metadata": {
    "ExecuteTime": {
     "end_time": "2023-10-03T14:44:06.152807100Z",
     "start_time": "2023-10-03T14:44:05.159541Z"
    },
    "tags": []
   },
   "outputs": [],
   "source": [
    "vasc_data['is_in_organ_table'] = vasc_data['ASID'].apply(lambda x: 1 if transform_id(x) in ids_in_organtables else 0)\n",
    "vasc_data['not_in_organ_table'] = vasc_data['ASID'].apply(lambda x: 0 if transform_id(x) in ids_in_organtables else 1)\n",
    "vasc_data['#vessels'] = 1"
   ]
  },
  {
   "cell_type": "code",
   "execution_count": null,
   "id": "287f701f-36b1-4d76-b9e0-03ea7e38e522",
   "metadata": {
    "ExecuteTime": {
     "end_time": "2023-10-03T14:44:06.938938600Z",
     "start_time": "2023-10-03T14:44:05.805575600Z"
    },
    "tags": []
   },
   "outputs": [],
   "source": [
    "vasc_data[vasc_data['is_in_organ_table']==1]"
   ]
  },
  {
   "cell_type": "code",
   "execution_count": null,
   "id": "9865fa71-5122-4a94-9cec-9048570d07b3",
   "metadata": {
    "ExecuteTime": {
     "end_time": "2023-10-03T14:44:07.237564600Z",
     "start_time": "2023-10-03T14:44:05.993830300Z"
    },
    "tags": []
   },
   "outputs": [],
   "source": [
    "vasc_data['is_in_organ_table'].sum()"
   ]
  },
  {
   "cell_type": "markdown",
   "id": "d4e21c92-6dfa-4d64-8b30-54a249ce6a8f",
   "metadata": {
    "jp-MarkdownHeadingCollapsed": true,
    "tags": []
   },
   "source": [
    "## Circles/bubbles"
   ]
  },
  {
   "cell_type": "code",
   "execution_count": null,
   "id": "90cf171f-e3f0-4014-bd79-8faa7de6df8b",
   "metadata": {
    "tags": []
   },
   "outputs": [],
   "source": [
    "data_for_circles = (vasc_data[vasc_data.BodyPartID.isin(set(nodes['ontology_id']))][['BodyPart', 'BodyPartID', 'is_in_organ_table',\n",
    "                                                                                     'not_in_organ_table','#vessels']]\n",
    "                    .groupby(['BodyPart', 'BodyPartID']).sum()\n",
    "                    # .drop(index=[('testis', 'UBERON:0000473'), \n",
    "                    #              ('thyroid gland','UBERON:0002046'),\n",
    "                    #              ('heart chamber', 'UBERON:0004151')])\n",
    "                    .rename(columns={'is_in_organ_table': '#matching vessels', 'not_in_organ_table': '#vessels not in ASCT+B'})\n",
    "                   )\n",
    "                    \n",
    "data_for_circles.reset_index()"
   ]
  },
  {
   "cell_type": "code",
   "execution_count": null,
   "id": "9a136111-7d2a-42df-85c9-946bced8501a",
   "metadata": {
    "tags": []
   },
   "outputs": [],
   "source": [
    "rest = (vasc_data[~vasc_data.BodyPartID.isin(set(vasc_data['BodyPartID']).intersection(set(nodes['ontology_id'])))][['BodyPart', 'BodyPartID', \n",
    "                                                                                                                      'is_in_organ_table', 'not_in_organ_table', '#vessels']]\n",
    "                    .groupby(['BodyPart', 'BodyPartID']).sum()\n",
    "                    # .drop(index=[('testis', 'UBERON:0000473'), \n",
    "                    #              ('thyroid gland','UBERON:0002046'),\n",
    "                    #              ('heart chamber', 'UBERON:0004151')])\n",
    "                    .rename(columns={'is_in_organ_table': '#matching vessels', 'not_in_organ_table': '#vessels not in ASCT+B'})\n",
    "                   )\n",
    "                    \n",
    "rest"
   ]
  },
  {
   "cell_type": "markdown",
   "id": "dfee4215-f7a8-44b7-bfb1-13092aa95eae",
   "metadata": {},
   "source": [
    "### The four matching vessels from heart chamber are added to heart manually. The one vessel in pelvis is added to placenta. The one matching vessel in testis is matching with a vessel in the ovary. \n",
    "( There used to be 2 thyroid gland matching vessels that needed to be added manually but in the v1.3 version it is not needed anymore. There used to be 2 thyroid gland matching vessels that needed to be added manually but version>=1.3 it is not needed anymore.)"
   ]
  },
  {
   "cell_type": "markdown",
   "id": "3794f9a9-5cf7-4fa7-9c28-2e606308578c",
   "metadata": {},
   "source": [
    "### The query of these vessels can be seen below:"
   ]
  },
  {
   "cell_type": "markdown",
   "id": "2e38ed9f-18fb-471b-9c23-438782db2bcd",
   "metadata": {},
   "source": [
    "Vessels in the heart chamber:"
   ]
  },
  {
   "cell_type": "code",
   "execution_count": null,
   "id": "9660dbdc-e0f8-4d9d-894d-e4895e017bca",
   "metadata": {
    "tags": []
   },
   "outputs": [],
   "source": [
    "vasc_data[vasc_data.BodyPartID==\"UBERON:0004151\"]"
   ]
  },
  {
   "cell_type": "markdown",
   "id": "a5f89a91-dbe1-4988-8263-a0e9a140ad38",
   "metadata": {},
   "source": [
    "heart chamber in ASCT+B:"
   ]
  },
  {
   "cell_type": "code",
   "execution_count": null,
   "id": "b15e04b5-e7ef-4fad-96ab-aa6d66881d08",
   "metadata": {
    "tags": []
   },
   "outputs": [],
   "source": [
    "nodes[nodes.ontology_id.isin(['UBERON:0002079', 'UBERON:0002084', 'UBERON:0002078', 'UBERON:0002080'])]"
   ]
  },
  {
   "cell_type": "markdown",
   "id": "72530ab1-b904-4b2f-a9e8-3339717ae498",
   "metadata": {},
   "source": [
    "Vessels in pelvis"
   ]
  },
  {
   "cell_type": "code",
   "execution_count": null,
   "id": "c0b9cc89-bb23-47b8-822f-779db6643c18",
   "metadata": {
    "tags": []
   },
   "outputs": [],
   "source": [
    "vasc_data[vasc_data.BodyPartID==\"UBERON:0002355\"].sort_values('is_in_organ_table')"
   ]
  },
  {
   "cell_type": "markdown",
   "id": "f58de219-2ffa-4150-9346-0df57312a96f",
   "metadata": {},
   "source": [
    "Only 'umbilical artery' is in ASCT+B, and they are part of the placenta organ:"
   ]
  },
  {
   "cell_type": "code",
   "execution_count": null,
   "id": "1a534bc3-5445-49f5-8444-93e041a1c06d",
   "metadata": {
    "tags": []
   },
   "outputs": [],
   "source": [
    "nodes[nodes.ontology_id=='UBERON:0001310']"
   ]
  },
  {
   "cell_type": "code",
   "execution_count": null,
   "id": "ecc6977c-e291-416a-9a29-eed7c1e8f66e",
   "metadata": {
    "tags": []
   },
   "outputs": [],
   "source": [
    "nodes[nodes.name=='Placenta']"
   ]
  },
  {
   "cell_type": "markdown",
   "id": "0f1318b7-8014-4cf9-91ae-2b0cd7ff85d6",
   "metadata": {},
   "source": [
    "Vessels in testis:"
   ]
  },
  {
   "cell_type": "code",
   "execution_count": null,
   "id": "e8fd4abf-7d0b-480d-bf31-ca13b245639f",
   "metadata": {
    "tags": []
   },
   "outputs": [],
   "source": [
    "vasc_data[vasc_data.BodyPartID==\"UBERON:0000473\"]"
   ]
  },
  {
   "cell_type": "markdown",
   "id": "618b9aaf-d925-457d-a4b7-eb1766647e7d",
   "metadata": {},
   "source": [
    "Only 'pampiniform venous plexus' is matching, but this vessel is in ovary and not in testis:"
   ]
  },
  {
   "cell_type": "code",
   "execution_count": null,
   "id": "54fbbcde-8be2-49cc-8c10-d17ae2629767",
   "metadata": {
    "tags": []
   },
   "outputs": [],
   "source": [
    "nodes[nodes.ontology_id=='UBERON:0001330']"
   ]
  },
  {
   "cell_type": "markdown",
   "id": "677efc24-a8b8-4fa2-84f3-8e09782d7d96",
   "metadata": {},
   "source": [
    "Vessels in ovary"
   ]
  },
  {
   "cell_type": "code",
   "execution_count": null,
   "id": "43990b1c-b6de-4f03-b109-44b15326f7c8",
   "metadata": {
    "tags": []
   },
   "outputs": [],
   "source": [
    "vasc_data[vasc_data.BodyPartID==\"UBERON:0000992\"]"
   ]
  },
  {
   "cell_type": "markdown",
   "id": "150288fe-ae28-4179-a1ef-49ffa91de72d",
   "metadata": {},
   "source": [
    "There's only one vessel in ovary that is also in ASCT+B:"
   ]
  },
  {
   "cell_type": "code",
   "execution_count": null,
   "id": "b3c10267-6eef-44c9-bdaf-91ec46fc7578",
   "metadata": {
    "tags": []
   },
   "outputs": [],
   "source": [
    "nodes[nodes.ontology_id=='UBERON:0001190']"
   ]
  },
  {
   "cell_type": "markdown",
   "id": "aa6ca0cc-d9ab-438a-91de-afe8e99ce92d",
   "metadata": {},
   "source": [
    "After manually performed merge of brain & cerbellum, heart & heart chamber, and thyroid & lung, large intestine & rectum we get the following table:"
   ]
  },
  {
   "cell_type": "code",
   "execution_count": null,
   "id": "3de4f64a-8b7b-4d42-8c56-a4f6f9916514",
   "metadata": {
    "tags": []
   },
   "outputs": [],
   "source": [
    "circles = data_for_circles.reset_index(level=1).copy()\n",
    "\n",
    "rest_circles = rest.reset_index(level=1).copy()\n",
    "\n",
    "#brain + cerebellum\n",
    "circles.at['brain', '#matching vessels'] += circles.at['cerebellum', '#matching vessels']\n",
    "circles.at['brain', '#vessels not in ASCT+B'] += circles.at['cerebellum', '#vessels not in ASCT+B'] \n",
    "circles.at['brain', '#vessels'] += circles.at['cerebellum', '#vessels'] \n",
    "\n",
    "#large intestine + rectum\n",
    "circles.at['large intestine', '#matching vessels'] += circles.at['rectum', '#matching vessels']\n",
    "circles.at['large intestine', '#vessels not in ASCT+B'] += circles.at['rectum', '#vessels not in ASCT+B'] \n",
    "circles.at['large intestine', '#vessels'] += circles.at['rectum', '#vessels'] \n",
    "\n",
    "#heart + heart chamber\n",
    "circles.at['heart', '#matching vessels'] += rest_circles.at['heart chamber', '#matching vessels']\n",
    "circles.at['heart', '#vessels not in ASCT+B'] += rest_circles.at['heart chamber', '#vessels not in ASCT+B'] \n",
    "circles.at['heart', '#vessels'] += rest_circles.at['heart chamber', '#vessels']\n",
    "\n",
    "# ovary +1\n",
    "circles.at['ovary', '#matching vessels'] += 1\n",
    "circles.at['ovary', '#vessels'] += 1\n",
    "\n",
    "# placenta\n",
    "circles.loc['placenta'] = ['UBERON:0001987', 1, 0, 1] \n",
    "\n",
    "circles = circles.drop(index=['cerebellum', 'rectum'])"
   ]
  },
  {
   "cell_type": "code",
   "execution_count": null,
   "id": "89ef3609-2bdd-4f3a-85db-f91ec6468425",
   "metadata": {
    "tags": []
   },
   "outputs": [],
   "source": [
    "circles"
   ]
  },
  {
   "cell_type": "code",
   "execution_count": null,
   "id": "e72c4552-001d-47f0-9459-05df4f58c93e",
   "metadata": {
    "tags": []
   },
   "outputs": [],
   "source": [
    "match_vess = circles.to_dict()['#matching vessels']"
   ]
  },
  {
   "cell_type": "code",
   "execution_count": null,
   "id": "bb6e2478-8bd0-4ded-b895-a8efe564b1ff",
   "metadata": {
    "tags": []
   },
   "outputs": [],
   "source": [
    "nomatch_vess = circles.to_dict()['#vessels not in ASCT+B']"
   ]
  },
  {
   "cell_type": "code",
   "execution_count": null,
   "id": "8f4937d9-b5ce-4e7f-a021-569bf9f1904a",
   "metadata": {
    "tags": []
   },
   "outputs": [],
   "source": [
    "nomatch_vess"
   ]
  },
  {
   "cell_type": "markdown",
   "id": "4ecdfa24-825f-4d27-ac15-026daabb5b07",
   "metadata": {
    "jp-MarkdownHeadingCollapsed": true,
    "tags": []
   },
   "source": [
    "## Separate bubbles "
   ]
  },
  {
   "cell_type": "markdown",
   "id": "8147453f-7a62-4d17-b302-0098dcd977e1",
   "metadata": {},
   "source": [
    "Generation of the bubbles:"
   ]
  },
  {
   "cell_type": "code",
   "execution_count": null,
   "id": "aad59b20-1827-40fd-b5d6-0eee5b615719",
   "metadata": {},
   "outputs": [],
   "source": [
    "# for organ in match_vess.keys():\n",
    "#     plt.figure(frameon=False, figsize=(10,10))\n",
    "#     plt.axes().set_aspect('equal')\n",
    "#     plt.axis('off')\n",
    "#     plt.xlim(-0.025,0.025)\n",
    "#     plt.ylim(-0.025,0.025)\n",
    "#     size_scale = 500\n",
    "#     if match_vess[organ]<=nomatch_vess[organ]:\n",
    "#         big_d = nomatch_vess[organ]+.000001\n",
    "#         small_d = match_vess[organ]+.000001\n",
    "#         big_color='tab:red'\n",
    "#         small_color='black'\n",
    "#     else:\n",
    "#         big_d=match_vess[organ]\n",
    "#         small_d = nomatch_vess[organ]\n",
    "#         big_color='black'\n",
    "#         small_color='tab:red'\n",
    "#     plt.scatter([0], [0], s=big_d*size_scale, c=big_color, alpha=0.4)\n",
    "#     plt.scatter([0], [(-np.sqrt(big_d)+np.sqrt(small_d))/990], s=small_d*size_scale, c=small_color, alpha=0.4)\n",
    "#     plt.savefig(f'{griffin_organ_order.index(str(organ).replace(\" \", \"_\"))}_{organ}.svg', bbox_inches='tight', pad_inches=0)\n",
    "\n",
    "\n",
    "#     # show the graph\n",
    "#     plt.show()"
   ]
  },
  {
   "cell_type": "markdown",
   "id": "bf50d911-502e-440d-9bd9-2c562aa1d4b0",
   "metadata": {},
   "source": [
    "### Rotation angle of the bubbles"
   ]
  },
  {
   "cell_type": "markdown",
   "id": "674da4b6-d2b9-44ec-aa47-f7e604200419",
   "metadata": {},
   "source": [
    "We need to extract the positions of the nodes of the organs and from the coordinates we compute the angles for the rotations"
   ]
  },
  {
   "cell_type": "markdown",
   "id": "b8a44095-df59-46b3-b4b9-dfd8a7938613",
   "metadata": {},
   "source": [
    "__Female organs__"
   ]
  },
  {
   "cell_type": "code",
   "execution_count": null,
   "id": "628b38a6-f51d-4dd9-9e9b-d6932b5f4944",
   "metadata": {},
   "outputs": [],
   "source": [
    "with open('female_wing_viz_v13.json', encoding='utf8') as json_file:\n",
    "    viz = json.load(json_file)"
   ]
  },
  {
   "cell_type": "code",
   "execution_count": null,
   "id": "ca3cd2bf-9199-442f-b9ea-b2c44f76e405",
   "metadata": {},
   "outputs": [],
   "source": [
    "female_wing_viz = viz['data'][0]['values']"
   ]
  },
  {
   "cell_type": "code",
   "execution_count": null,
   "id": "69baf429-da5b-4050-9fd2-89accfd5a691",
   "metadata": {},
   "outputs": [],
   "source": [
    "body_x = female_wing_viz[0]['x']\n",
    "body_y = female_wing_viz[0]['y']\n",
    "fem_rots_for_organs = dict()\n",
    "coordinates = dict()\n",
    "for asct in female_wing_viz:\n",
    "     if asct['name'] in fem_nodes_c[fem_nodes_c['id_old']==1].name.values:\n",
    "        fem_rots_for_organs[asct['name']] = -round(np.arctan((asct['x']-body_x)/(body_y-asct['y']))*180/np.pi, 3)\n",
    "        coordinates[asct['name']] = (round(body_x + 14*(asct['x']-body_x),2), round(body_y + 14*(asct['y']-body_y), 2))"
   ]
  },
  {
   "cell_type": "code",
   "execution_count": null,
   "id": "3f8423ea-bd00-477d-aa05-6579f6c3af6a",
   "metadata": {},
   "outputs": [],
   "source": [
    "fem_rots_for_organs"
   ]
  },
  {
   "cell_type": "code",
   "execution_count": null,
   "id": "057b2382-5e80-485c-a850-a4abdcc00a93",
   "metadata": {},
   "outputs": [],
   "source": [
    "coordinates"
   ]
  },
  {
   "cell_type": "code",
   "execution_count": null,
   "id": "0cfa7f91-78f0-41e4-a89c-e1867b09ff37",
   "metadata": {},
   "outputs": [],
   "source": [
    "with open('male_wing.json', encoding='utf8') as json_file:\n",
    "    viz = json.load(json_file)"
   ]
  },
  {
   "cell_type": "code",
   "execution_count": null,
   "id": "cc4a7867-0ee1-4343-bb0a-fb2b153a4179",
   "metadata": {},
   "outputs": [],
   "source": [
    "male_wing_viz = viz['data'][0]['values']"
   ]
  },
  {
   "cell_type": "code",
   "execution_count": null,
   "id": "a0ed3ca4-9dcc-44a8-9eaa-6fff888e215c",
   "metadata": {},
   "outputs": [],
   "source": [
    "body_x = male_wing_viz[0]['x']\n",
    "body_y = male_wing_viz[0]['y']\n",
    "male_rots_for_organs = dict()\n",
    "coordinates = dict()\n",
    "for asct in male_wing_viz:\n",
    "    if asct['name'] in male_nodes_c[male_nodes_c['id_old']==1].name.values:\n",
    "        male_rots_for_organs[asct['name']] = -round(np.arctan((asct['x']-body_x)/(body_y-asct['y']))*180/np.pi, 3)\n",
    "        coordinates[asct['name']] = (round(body_x + 14*(asct['x']-body_x),2), round(body_y + 14*(asct['y']-body_y), 2))"
   ]
  },
  {
   "cell_type": "code",
   "execution_count": null,
   "id": "ca48ab7d-c2b5-4faa-9904-f5b8d5c3c606",
   "metadata": {},
   "outputs": [],
   "source": [
    "male_rots_for_organs"
   ]
  },
  {
   "cell_type": "code",
   "execution_count": null,
   "id": "90b1f6dd-358b-42e0-a639-f57080724d8c",
   "metadata": {},
   "outputs": [],
   "source": [
    "coordinates"
   ]
  },
  {
   "cell_type": "markdown",
   "id": "862cec7f-50b0-4c90-8ce3-ea36e1417c70",
   "metadata": {
    "jp-MarkdownHeadingCollapsed": true,
    "tags": []
   },
   "source": [
    "## Two layers of bubbles - no rotation is needed, first black then red "
   ]
  },
  {
   "cell_type": "code",
   "execution_count": null,
   "id": "017868b1-1027-48e5-b1ab-5df50c9da575",
   "metadata": {
    "ExecuteTime": {
     "end_time": "2023-10-03T14:44:29.193322300Z",
     "start_time": "2023-10-03T14:44:28.957863800Z"
    }
   },
   "outputs": [],
   "source": [
    "organ_order"
   ]
  },
  {
   "cell_type": "code",
   "execution_count": null,
   "id": "13a41727-1a6d-4005-bc75-8bdbc3ec226f",
   "metadata": {},
   "outputs": [],
   "source": [
    "with open('viz_v13/male_wing_viz_v13.json', encoding='utf8') as json_file:\n",
    "    viz = json.load(json_file)"
   ]
  },
  {
   "cell_type": "code",
   "execution_count": null,
   "id": "7863b60a-4f6a-4c97-a9d5-7152fbcd71f3",
   "metadata": {},
   "outputs": [],
   "source": [
    "male_wing_viz = viz['data'][0]['values']"
   ]
  },
  {
   "cell_type": "code",
   "execution_count": null,
   "id": "fab2cc5d-203e-4c6c-bb53-e6dd598399f4",
   "metadata": {},
   "outputs": [],
   "source": [
    "nomatch_vess"
   ]
  },
  {
   "cell_type": "code",
   "execution_count": null,
   "id": "7e901a9f-f9b6-47e0-8e85-7f281df82006",
   "metadata": {},
   "outputs": [],
   "source": [
    "match_vess"
   ]
  },
  {
   "cell_type": "code",
   "execution_count": null,
   "id": "71a28923-32a1-4d76-97c2-4a07fd6c3895",
   "metadata": {},
   "outputs": [],
   "source": [
    "pd.Series([asct['name'] for asct in male_wing_viz if asct['name'] in male_nodes[male_nodes['id_old']==1].name.values]).unique()"
   ]
  },
  {
   "cell_type": "code",
   "execution_count": null,
   "id": "fec5519c-1069-4000-a127-c19baa865bf6",
   "metadata": {},
   "outputs": [],
   "source": [
    "body_x = male_wing_viz[0]['x']\n",
    "body_y = male_wing_viz[0]['y']\n",
    "# print('Body original: ', body_x, body_y)\n",
    "# center_x = 1720/2\n",
    "# center_y = 1720/2\n",
    "# print('Center:', center_x, center_y)\n",
    "coordinates_black = dict()\n",
    "coordinates_red = dict()\n",
    "for asct in male_wing_viz:\n",
    "    if asct['name'] in male_nodes[male_nodes['id_old']==1].name.values:\n",
    "        # male_rots_for_organs[asct['name']] = -round(np.arctan((asct['x']-body_x)/(body_y-asct['y']))*180/np.pi, 3)\n",
    "        coordinates_red[asct['name']] = (round(body_x-10 + 13.3*(asct['x']-body_x),2), round(body_y + 13.3*(asct['y']-body_y), 2))\n",
    "        coordinates_black[asct['name']] = (round(body_x-10 + 12*(asct['x']-body_x),2), round(body_y + 12*(asct['y']-body_y), 2))\n",
    "\n",
    "mapping = {'Respiratory System': 'lung', 'heart': 'heart', 'brain': 'brain', 'eye': 'eye', 'skin': 'skin', 'thoracic thymus': 'thymus', 'lymph node': 'lymph node', \n",
    "           'spleen': 'spleen', 'liver': 'liver', 'Pancreas': 'pancreas', 'Small Intestine': 'small intestine', 'large intestine': 'large intestine', 'kidney': 'kidney', \n",
    "           'urinary bladder': 'urinary bladder', 'ureter': 'ureter', 'prostate gland': 'prostate gland', 'ovary': 'ovary', 'Fallopian tube':'fallopian_tube', \n",
    "           'Uterus': 'uterus', 'Placenta': 'placenta', 'knee': 'knee', 'Bone marrow': 'bone marrow'}\n",
    "\n",
    "plt.figure(frameon=False, figsize=(20,20))\n",
    "plt.axes().set_aspect('equal')\n",
    "plt.axis('off')\n",
    "plt.xlim(0,1720)\n",
    "plt.ylim(-1720,0)\n",
    "for organ in coordinates_black.keys():\n",
    "    size_scale = 40\n",
    "    if mapping[organ] in match_vess.keys():\n",
    "        red_diam = nomatch_vess[mapping[organ]]\n",
    "        if red_diam:\n",
    "            plt.scatter([coordinates_red[organ][0]], [-coordinates_red[organ][1]], s=red_diam*size_scale, c='tab:red', alpha=0.4)            \n",
    "        else: \n",
    "            plt.scatter([coordinates_red[organ][0]], [-coordinates_red[organ][1]], s=1*size_scale, facecolors='none', edgecolors='tab:red', alpha=0.4) \n",
    "            \n",
    "        black_diam = match_vess[mapping[organ]]\n",
    "        if black_diam:\n",
    "            plt.scatter([coordinates_black[organ][0]], [-coordinates_black[organ][1]], s=black_diam*size_scale, c='black', alpha=0.4)\n",
    "        else:\n",
    "            plt.scatter([coordinates_black[organ][0]], [-coordinates_black[organ][1]], s=1*size_scale,  facecolors='none', edgecolors='black', alpha=0.4)\n",
    "        \n",
    "    else:\n",
    "        plt.scatter([coordinates_red[organ][0]], [-coordinates_red[organ][1]], s=1*size_scale, facecolors='none', edgecolors='tab:red', alpha=0.4)\n",
    "        plt.scatter([coordinates_black[organ][0]], [-coordinates_black[organ][1]], s=1*size_scale,  facecolors='none', edgecolors='black', alpha=0.4)\n",
    "    \n",
    "plt.savefig(f'viz_v13/male_bubbles_v13.svg', bbox_inches='tight', pad_inches=0)\n",
    "   \n",
    "plt.show()"
   ]
  },
  {
   "cell_type": "code",
   "execution_count": null,
   "id": "d4210bd7-62c4-4699-8ad8-0567491cba1a",
   "metadata": {},
   "outputs": [],
   "source": [
    "with open('viz_v13/female_wing_viz_v13.json', encoding='utf8') as json_file:\n",
    "    viz = json.load(json_file)"
   ]
  },
  {
   "cell_type": "code",
   "execution_count": null,
   "id": "3cb6b901-a47e-42eb-87d6-f4b18b90bcc5",
   "metadata": {},
   "outputs": [],
   "source": [
    "female_wing_viz = viz['data'][0]['values']"
   ]
  },
  {
   "cell_type": "code",
   "execution_count": null,
   "id": "ea831546-dda0-407e-bb14-bae7bad6ca89",
   "metadata": {},
   "outputs": [],
   "source": [
    "body_x = female_wing_viz[0]['x']\n",
    "body_y = female_wing_viz[0]['y']\n",
    "# print('Body original: ', body_x, body_y)\n",
    "# center_x = 1720/2\n",
    "# center_y = 1720/2\n",
    "# print('Center:', center_x, center_y)\n",
    "coordinates_black = dict()\n",
    "coordinates_red = dict()\n",
    "for asct in female_wing_viz:\n",
    "    if asct['name'] in fem_nodes[fem_nodes['id_old']==1].name.values:\n",
    "        # male_rots_for_organs[asct['name']] = -round(np.arctan((asct['x']-body_x)/(body_y-asct['y']))*180/np.pi, 3)\n",
    "        coordinates_red[asct['name']] = (round(body_x-10 + 13.3*(asct['x']-body_x),2), round(body_y + 13.3*(asct['y']-body_y), 2))\n",
    "        coordinates_black[asct['name']] = (round(body_x-10 + 12*(asct['x']-body_x),2), round(body_y + 12*(asct['y']-body_y), 2))\n",
    "\n",
    "mapping = {'Respiratory System': 'lung', 'heart': 'heart', 'brain': 'brain', 'eye': 'eye', 'skin': 'skin', 'thoracic thymus': 'thymus', 'lymph node': 'lymph node', \n",
    "           'spleen': 'spleen', 'liver': 'liver', 'Pancreas': 'pancreas', 'Small Intestine': 'small intestine', 'large intestine': 'large intestine', 'kidney': 'kidney', \n",
    "           'urinary bladder': 'urinary bladder', 'ureter': 'ureter', 'prostate gland': 'prostate gland', 'ovary': 'ovary', 'Fallopian tube':'fallopian_tube', \n",
    "           'Uterus': 'uterus', 'Placenta': 'placenta', 'knee': 'knee', 'Bone marrow': 'bone marrow'}\n",
    "\n",
    "plt.figure(frameon=False, figsize=(20,20))\n",
    "plt.axes().set_aspect('equal')\n",
    "plt.axis('off')\n",
    "plt.xlim(0,1720)\n",
    "plt.ylim(-1720,0)\n",
    "for organ in coordinates_black.keys():\n",
    "    size_scale = 40\n",
    "    if mapping[organ] in match_vess.keys():\n",
    "        red_diam = nomatch_vess[mapping[organ]]\n",
    "        if red_diam:\n",
    "            plt.scatter([coordinates_red[organ][0]], [-coordinates_red[organ][1]], s=red_diam*size_scale, c='tab:red', alpha=0.4)            \n",
    "        else: \n",
    "            plt.scatter([coordinates_red[organ][0]], [-coordinates_red[organ][1]], s=1*size_scale, facecolors='none', edgecolors='tab:red', alpha=0.4) \n",
    "            \n",
    "        black_diam = match_vess[mapping[organ]]\n",
    "        if black_diam:\n",
    "            plt.scatter([coordinates_black[organ][0]], [-coordinates_black[organ][1]], s=black_diam*size_scale, c='black', alpha=0.4)\n",
    "        else:\n",
    "            plt.scatter([coordinates_black[organ][0]], [-coordinates_black[organ][1]], s=1*size_scale,  facecolors='none', edgecolors='black', alpha=0.4)\n",
    "        \n",
    "    else:\n",
    "        plt.scatter([coordinates_red[organ][0]], [-coordinates_red[organ][1]], s=1*size_scale, facecolors='none', edgecolors='tab:red', alpha=0.4)\n",
    "        plt.scatter([coordinates_black[organ][0]], [-coordinates_black[organ][1]], s=1*size_scale,  facecolors='none', edgecolors='black', alpha=0.4)\n",
    "    \n",
    "plt.savefig(f'viz_v13/female_bubbles_v13.svg', bbox_inches='tight', pad_inches=0)\n",
    "   \n",
    "plt.show()"
   ]
  },
  {
   "cell_type": "code",
   "execution_count": null,
   "id": "000ca838-994c-4d43-b34b-2962d6a13f35",
   "metadata": {},
   "outputs": [],
   "source": [
    "body_y"
   ]
  },
  {
   "cell_type": "markdown",
   "id": "a988941c-0afd-4b65-908c-3301fb048721",
   "metadata": {},
   "source": [
    "### Size legend"
   ]
  },
  {
   "cell_type": "code",
   "execution_count": null,
   "id": "ee899dff-1dd4-461b-9332-cd1caa4c9350",
   "metadata": {},
   "outputs": [],
   "source": [
    "body_x = female_wing_viz[0]['x']\n",
    "body_y = female_wing_viz[0]['y']\n",
    "# print('Body original: ', body_x, body_y)\n",
    "# center_x = 1720/2\n",
    "# center_y = 1720/2\n",
    "# print('Center:', center_x, center_y)\n",
    "# sizes_black = {'one': 1, 'twntyfour': 24, 'fortyeight': 48, 'seventyone': 71}\n",
    "# coordinates_black = {'one': (body_x, body_y-200), 'twntyfour': (body_x, body_y-100), 'fortyeight': (body_x, body_y), 'seventyone': (body_x, body_y+100)}\n",
    "sizes_black = {'one': 1, '35': 35, 'seventyone': 71}\n",
    "coordinates_black = {'one': (body_x, body_y-75), '35': (body_x, body_y), 'seventyone': (body_x, body_y+75)}\n",
    "\n",
    "plt.figure(frameon=False, figsize=(20,20))\n",
    "plt.axes().set_aspect('equal')\n",
    "plt.axis('off')\n",
    "plt.xlim(0,1720)\n",
    "plt.ylim(-1720,0)\n",
    "for organ in coordinates_black.keys():\n",
    "    size_scale = 40\n",
    "\n",
    "    plt.scatter([coordinates_black[organ][0]], [-coordinates_black[organ][1]], s=sizes_black[organ]*size_scale,alpha=0.5, c='tab:grey',)# facecolors='none', edgecolors='tab:grey')\n",
    "        \n",
    "    \n",
    "plt.savefig(f'viz_v13/bubblesizelegend.svg', bbox_inches='tight', pad_inches=0)\n",
    "   \n",
    "plt.show()"
   ]
  },
  {
   "cell_type": "markdown",
   "id": "ed42e0bf-bd29-4ba0-bf62-f2aabf341dc6",
   "metadata": {
    "tags": []
   },
   "source": [
    "# Vascular network "
   ]
  },
  {
   "cell_type": "code",
   "execution_count": null,
   "id": "cd0ac4aa-aedd-46c2-9cb1-e7ea79502bfd",
   "metadata": {
    "ExecuteTime": {
     "end_time": "2023-10-03T14:44:44.972384Z",
     "start_time": "2023-10-03T14:44:44.776309900Z"
    },
    "tags": []
   },
   "outputs": [],
   "source": [
    "matching_nodes = vasc_data[(vasc_data['is_in_organ_table']==1)&(vasc_data.BodyPart!='testis')]"
   ]
  },
  {
   "cell_type": "code",
   "execution_count": null,
   "id": "3b3dbc41-337b-4eee-b815-5de64b066e02",
   "metadata": {
    "ExecuteTime": {
     "end_time": "2023-10-03T14:44:45.601033700Z",
     "start_time": "2023-10-03T14:44:45.318713100Z"
    },
    "tags": []
   },
   "outputs": [],
   "source": [
    "vasc_edges = vasc_data[['BranchesFrom', 'Vessel', 'VesselType']].copy()"
   ]
  },
  {
   "cell_type": "code",
   "execution_count": null,
   "id": "ced63ed4-9671-4991-89bc-523720d8bc40",
   "metadata": {
    "ExecuteTime": {
     "end_time": "2023-10-03T14:44:46.001000400Z",
     "start_time": "2023-10-03T14:44:45.459186500Z"
    },
    "tags": []
   },
   "outputs": [],
   "source": [
    "# vasc_edges = pd.read_excel('./Blood_Vasculature_v1.3_EXTENDED.xlsx', sheet_name='Vessel')[['BranchesFrom', 'Vessel', 'VesselType']]\n",
    "vasc_edges"
   ]
  },
  {
   "cell_type": "code",
   "execution_count": null,
   "id": "56843075-172c-401c-90de-fba94d4dba8b",
   "metadata": {
    "ExecuteTime": {
     "end_time": "2023-10-03T14:44:46.181875500Z",
     "start_time": "2023-10-03T14:44:45.946289700Z"
    },
    "tags": []
   },
   "outputs": [],
   "source": [
    "matching_nodes"
   ]
  },
  {
   "cell_type": "code",
   "execution_count": null,
   "id": "18a7fc8a-06e2-4f9e-8d79-2d67bc1a7b3e",
   "metadata": {
    "ExecuteTime": {
     "end_time": "2023-10-03T14:44:47.014702900Z",
     "start_time": "2023-10-03T14:44:46.589769300Z"
    },
    "tags": []
   },
   "outputs": [],
   "source": [
    "vasc_edges = vasc_edges.rename(columns={'BranchesFrom':'source', 'Vessel': 'target'})\n",
    "# vasc_edges.to_excel('vasc_edgelist.xlsx')"
   ]
  },
  {
   "cell_type": "code",
   "execution_count": null,
   "id": "2dffa379-0782-4907-88fd-af9f032eaa85",
   "metadata": {
    "ExecuteTime": {
     "end_time": "2023-10-03T14:44:47.375387100Z",
     "start_time": "2023-10-03T14:44:46.787061600Z"
    },
    "tags": []
   },
   "outputs": [],
   "source": [
    "#Removal of the self-loops\n",
    "vasc_edges = vasc_edges[vasc_edges.source!=vasc_edges.target]"
   ]
  },
  {
   "cell_type": "code",
   "execution_count": null,
   "id": "cd3f5db0-559d-4c39-94db-3795f67487e8",
   "metadata": {
    "ExecuteTime": {
     "end_time": "2023-10-03T14:44:48.034887100Z",
     "start_time": "2023-10-03T14:44:47.719402500Z"
    },
    "tags": []
   },
   "outputs": [],
   "source": [
    "vasc_graph = nx.from_pandas_edgelist(vasc_edges)"
   ]
  },
  {
   "cell_type": "code",
   "execution_count": null,
   "id": "2259ff43-8e0a-44c8-abf2-3af7ab002a07",
   "metadata": {
    "ExecuteTime": {
     "end_time": "2023-10-03T14:44:50.170914500Z",
     "start_time": "2023-10-03T14:44:48.316986600Z"
    },
    "tags": []
   },
   "outputs": [],
   "source": [
    "layout_pos_full = nx.drawing.nx_agraph.graphviz_layout(vasc_graph)"
   ]
  },
  {
   "cell_type": "code",
   "execution_count": null,
   "id": "0d91462f-fc4a-4f4f-8374-8c7fac41881e",
   "metadata": {
    "ExecuteTime": {
     "end_time": "2023-10-03T14:44:50.410556900Z",
     "start_time": "2023-10-03T14:44:50.113501300Z"
    },
    "tags": []
   },
   "outputs": [],
   "source": [
    "plt.figure(figsize=(10,10))\n",
    "nx.draw(vasc_graph, pos=layout_pos_full, node_size=10)\n",
    "nx.draw_networkx_nodes(vasc_graph, layout_pos_full, nodelist=['right ventricle'], node_size=10, node_color='tab:orange')\n",
    "plt.show()"
   ]
  },
  {
   "cell_type": "markdown",
   "id": "6933fb2e-3186-4cd4-8046-0b064b62d61f",
   "metadata": {},
   "source": [
    "### Construction of the pruned graph"
   ]
  },
  {
   "cell_type": "markdown",
   "id": "199f75c2-e6d8-4b3e-a414-341a96167c4e",
   "metadata": {},
   "source": [
    "The graph has to be pruned at the matching nodes"
   ]
  },
  {
   "cell_type": "markdown",
   "id": "0b91df3f-ec2a-4537-93e5-6aea36996470",
   "metadata": {},
   "source": [
    "We start with the layer of matching nodes, and then in each iteration, we get the parent nodes (vessels), i.e. we are moving towards the core of the network in layers. "
   ]
  },
  {
   "cell_type": "code",
   "execution_count": null,
   "id": "8c9b71c2-e86d-4c26-896d-af4ff334096d",
   "metadata": {
    "ExecuteTime": {
     "end_time": "2023-10-03T14:44:53.462032100Z",
     "start_time": "2023-10-03T14:44:53.321288200Z"
    },
    "tags": []
   },
   "outputs": [],
   "source": [
    "layer = vasc_edges[vasc_edges.target.isin(matching_nodes.Vessel)]\n",
    "layers = [layer]\n",
    "indices = list(layer.index)\n",
    "while len(layer):\n",
    "    layer = vasc_edges[(vasc_edges.target.isin(layer.source)) & (~vasc_edges.index.isin(indices))]\n",
    "    layers += [layer]\n",
    "    indices += list(layer.index)"
   ]
  },
  {
   "cell_type": "code",
   "execution_count": null,
   "id": "04b53b9b-7ea1-4fcb-b399-2372dfadd03e",
   "metadata": {
    "ExecuteTime": {
     "end_time": "2023-10-03T14:44:54.064480100Z",
     "start_time": "2023-10-03T14:44:53.903238800Z"
    },
    "tags": []
   },
   "outputs": [],
   "source": [
    "pruned_vasc_edges = vasc_edges[vasc_edges.index.isin(indices)]"
   ]
  },
  {
   "cell_type": "code",
   "execution_count": null,
   "id": "30630840-9e14-460b-b8d8-c7eb3ecf8126",
   "metadata": {
    "ExecuteTime": {
     "end_time": "2023-10-03T14:44:54.616418400Z",
     "start_time": "2023-10-03T14:44:54.311067700Z"
    },
    "tags": []
   },
   "outputs": [],
   "source": [
    "len(pruned_vasc_edges)"
   ]
  },
  {
   "cell_type": "markdown",
   "id": "b96378ae-cd63-4b41-becd-a3ebb474a4c4",
   "metadata": {},
   "source": [
    "Nodes of the pruned network:"
   ]
  },
  {
   "cell_type": "code",
   "execution_count": null,
   "id": "d5e95fce-2f4e-4e99-a8bd-02e8ea0a3fd8",
   "metadata": {
    "ExecuteTime": {
     "end_time": "2023-10-03T14:44:55.680940100Z",
     "start_time": "2023-10-03T14:44:55.460688700Z"
    },
    "tags": []
   },
   "outputs": [],
   "source": [
    "vasc_data[vasc_data['Vessel'].isin(set(pruned_vasc_edges[['source', 'target']].values.flatten()))]"
   ]
  },
  {
   "cell_type": "code",
   "execution_count": null,
   "id": "1fb364a0-4bdd-4ab2-bacc-3c29ae58756e",
   "metadata": {
    "ExecuteTime": {
     "end_time": "2023-10-03T14:44:59.833708300Z",
     "start_time": "2023-10-03T14:44:59.484258100Z"
    },
    "tags": []
   },
   "outputs": [],
   "source": [
    "vasc_data[vasc_data['Vessel'].isin(set(pruned_vasc_edges[['source', 'target']].values.flatten()))][['BodyPart', 'Vessel', 'ASID', 'VesselType']].to_excel('./viz_v14/nodes_of_vascular_network_v14.xlsx')"
   ]
  },
  {
   "cell_type": "code",
   "execution_count": null,
   "id": "60d57705-87d3-4c09-95e5-38e6c7a36ebb",
   "metadata": {
    "ExecuteTime": {
     "end_time": "2023-10-03T14:45:03.602384800Z",
     "start_time": "2023-10-03T14:45:03.335021700Z"
    },
    "tags": []
   },
   "outputs": [],
   "source": [
    "pruned_vasc_edges.to_excel('viz_v14/vasc_edgelist_v14.xlsx')\n",
    "vasc_edges.to_excel('viz_v14/vasc_edgelist_all_v14.xlsx')"
   ]
  },
  {
   "cell_type": "code",
   "execution_count": null,
   "id": "849c4dbc-67f4-4d88-82db-6d00578726a8",
   "metadata": {
    "ExecuteTime": {
     "end_time": "2023-10-03T14:45:04.211992900Z",
     "start_time": "2023-10-03T14:45:04.038350900Z"
    },
    "tags": []
   },
   "outputs": [],
   "source": [
    "pruned_vasc_graph = nx.from_pandas_edgelist(pruned_vasc_edges)"
   ]
  },
  {
   "cell_type": "code",
   "execution_count": null,
   "id": "353d80e0-e106-441d-ae55-c485f20592e4",
   "metadata": {
    "ExecuteTime": {
     "end_time": "2023-10-03T14:45:05.015418900Z",
     "start_time": "2023-10-03T14:45:04.845457200Z"
    },
    "tags": []
   },
   "outputs": [],
   "source": [
    "len(pruned_vasc_graph)"
   ]
  },
  {
   "cell_type": "code",
   "execution_count": null,
   "id": "4f495336-c0a3-4943-b194-71faa1a185b8",
   "metadata": {
    "ExecuteTime": {
     "end_time": "2023-10-03T14:45:05.566482900Z",
     "start_time": "2023-10-03T14:45:05.408897300Z"
    },
    "tags": []
   },
   "outputs": [],
   "source": [
    "pruned_vasc_graph = nx.induced_subgraph(vasc_graph, set(pruned_vasc_graph.nodes).union(set(matching_nodes.Vessel.values)))"
   ]
  },
  {
   "cell_type": "code",
   "execution_count": null,
   "id": "07dadd3a-e9bb-4139-804a-b08938556fbc",
   "metadata": {
    "ExecuteTime": {
     "end_time": "2023-10-03T14:45:06.819459100Z",
     "start_time": "2023-10-03T14:45:06.620106800Z"
    },
    "tags": []
   },
   "outputs": [],
   "source": [
    "len(pruned_vasc_graph)"
   ]
  },
  {
   "cell_type": "markdown",
   "id": "931f1a05-a762-4db8-8dad-95db1f177a1f",
   "metadata": {},
   "source": [
    "Note that the network is not connected, hence we have to add manually the 'heart' node and connect it to the components"
   ]
  },
  {
   "cell_type": "code",
   "execution_count": null,
   "id": "4bcb83a3-f1c8-47a0-8029-b2bed4716992",
   "metadata": {
    "ExecuteTime": {
     "end_time": "2023-10-03T14:45:08.396344300Z",
     "start_time": "2023-10-03T14:45:08.144542400Z"
    },
    "tags": []
   },
   "outputs": [],
   "source": [
    "layout_pos = nx.drawing.nx_agraph.graphviz_layout(pruned_vasc_graph)\n",
    "nx.draw(pruned_vasc_graph, pos=layout_pos, node_size=10)"
   ]
  },
  {
   "cell_type": "markdown",
   "id": "ba247c44-12e6-4d72-9bf5-63ccc5d088b7",
   "metadata": {
    "tags": []
   },
   "source": [
    "### Get the coordinates from the Vega visualization "
   ]
  },
  {
   "cell_type": "code",
   "execution_count": null,
   "id": "1cdf4994-e6f3-43b5-8f5e-2b722b3e1bfd",
   "metadata": {
    "ExecuteTime": {
     "end_time": "2023-10-03T14:45:14.669666600Z",
     "start_time": "2023-10-03T14:45:14.459336Z"
    },
    "tags": []
   },
   "outputs": [],
   "source": [
    "with open('viz_v14/female_wing_viz_v14.json', encoding='utf8') as json_file:\n",
    "    viz = json.load(json_file)"
   ]
  },
  {
   "cell_type": "code",
   "execution_count": null,
   "id": "7fa3ed38-fd44-48af-812d-1587f4c64f24",
   "metadata": {
    "ExecuteTime": {
     "end_time": "2023-10-03T14:45:15.319165800Z",
     "start_time": "2023-10-03T14:45:14.999590200Z"
    },
    "tags": []
   },
   "outputs": [],
   "source": [
    "female_viz = viz['data'][0]['values']"
   ]
  },
  {
   "cell_type": "markdown",
   "id": "2a853587-07ea-4076-a0ad-d38390f43992",
   "metadata": {},
   "source": [
    "Merge of heart & heart chamber, thyroid gland & lung and rename pelvis to placenta"
   ]
  },
  {
   "cell_type": "code",
   "execution_count": null,
   "id": "65ddd16b-63b9-4dc9-a11e-a80afe4581d9",
   "metadata": {
    "ExecuteTime": {
     "end_time": "2023-10-03T14:45:15.992858800Z",
     "start_time": "2023-10-03T14:45:15.884124900Z"
    },
    "tags": []
   },
   "outputs": [],
   "source": [
    "matching_nodes['BodyPart'].value_counts()"
   ]
  },
  {
   "cell_type": "code",
   "execution_count": null,
   "id": "87701fba-edff-4a40-801f-ddfe829d078a",
   "metadata": {
    "ExecuteTime": {
     "end_time": "2023-10-03T14:45:17.235040900Z",
     "start_time": "2023-10-03T14:45:17.041686400Z"
    },
    "tags": []
   },
   "outputs": [],
   "source": [
    "organ_mapping = {'eye': 'eye', 'heart': 'heart', \n",
    "                 'heart chamber': 'heart', # heart chamber -> heart\n",
    "                 'kidney': 'kidney',  'liver': 'liver', 'lung': 'lung', 'ovary': 'ovary', \n",
    "                 'pelvis': 'placenta_full_term', #pelvis -> placenta\n",
    "                 'spleen': 'spleen', 'thymus': 'thymus', \n",
    "                 'thyroid gland': 'lung', #thyroid gland -> lung\n",
    "                 'uterus': 'uterus'}"
   ]
  },
  {
   "cell_type": "code",
   "execution_count": null,
   "id": "9c78fd77-6dd1-40b7-b389-77ccdfb60d80",
   "metadata": {
    "ExecuteTime": {
     "end_time": "2023-10-03T14:45:23.378372Z",
     "start_time": "2023-10-03T14:45:23.041467200Z"
    },
    "tags": []
   },
   "outputs": [],
   "source": [
    "matching_nodes['organ'] = matching_nodes['BodyPart'].apply(lambda x: organ_mapping[x])"
   ]
  },
  {
   "cell_type": "markdown",
   "id": "cebd933d-4210-4c4e-a267-5fa207b7009b",
   "metadata": {},
   "source": [
    "Get the coordinates for the vessels"
   ]
  },
  {
   "cell_type": "markdown",
   "id": "a8dfb446-5bc9-4ad3-9f0a-253db9b39054",
   "metadata": {
    "tags": []
   },
   "source": [
    "## Full graph"
   ]
  },
  {
   "cell_type": "code",
   "execution_count": null,
   "id": "448c8dd7-2e0e-469b-bc3f-943aec907419",
   "metadata": {
    "ExecuteTime": {
     "end_time": "2023-10-03T14:45:25.376626200Z",
     "start_time": "2023-10-03T14:45:25.200890400Z"
    },
    "tags": []
   },
   "outputs": [],
   "source": [
    "matching_nodes['ASID'].apply(transform_id).values"
   ]
  },
  {
   "cell_type": "code",
   "execution_count": null,
   "id": "daf25fe0-c9ac-45e7-9674-61be73e11404",
   "metadata": {
    "ExecuteTime": {
     "end_time": "2023-10-03T14:45:26.131906700Z",
     "start_time": "2023-10-03T14:45:25.940906100Z"
    },
    "tags": []
   },
   "outputs": [],
   "source": [
    "def get_coordinates_4_vessels(visualization, graph=pruned_vasc_graph):\n",
    "    name = []\n",
    "    name_in_vasc = []\n",
    "    coords=[]\n",
    "    organs = []\n",
    "    for node in visualization:\n",
    "        if transform_id(node['ontology_id']) in matching_nodes['ASID'].apply(transform_id).values: #if the node is in the vascular data \n",
    "            # if node['organ']==matching_nodes[matching_nodes['ASID'].apply(transform_id)==transform_id(node['ontology_id'])]['organ'].values[0]: # and if the organs match\n",
    "            name += [node['name']]\n",
    "            name_in_vasc += [matching_nodes[matching_nodes['ASID'].apply(transform_id)==transform_id(node['ontology_id'])]['Vessel'].values[0]]\n",
    "            coords += [np.array([node['x'], -node['y']])]\n",
    "            organs += [node['organ']]\n",
    "\n",
    "    for node in graph:\n",
    "        if node not in name_in_vasc:\n",
    "            name += [node]\n",
    "            name_in_vasc += [node]\n",
    "            coords += [np.nan]\n",
    "            organs += [np.nan]\n",
    "\n",
    "    art_data = pd.DataFrame.from_dict({'name': name, 'name_in_vasc': name_in_vasc,\n",
    "                                       'organ': organs, 'coords': coords})\n",
    "    \n",
    "    art_data = art_data.drop_duplicates(subset=['name_in_vasc', 'organ']).reset_index(drop=True) \n",
    "    \n",
    "    art_data = art_data[art_data.name_in_vasc.isin(graph.nodes())]\n",
    "    \n",
    "    return art_data"
   ]
  },
  {
   "cell_type": "code",
   "execution_count": null,
   "id": "80a873a8-4292-48dc-879f-973224620e1b",
   "metadata": {
    "ExecuteTime": {
     "end_time": "2023-10-03T14:45:27.234021Z",
     "start_time": "2023-10-03T14:45:27.013666100Z"
    },
    "tags": []
   },
   "outputs": [],
   "source": [
    "matching_nodes.to_excel('matching_nodes_v14.xlsx')"
   ]
  },
  {
   "cell_type": "code",
   "execution_count": null,
   "id": "bdde1c64-c681-4db7-bb18-e3d177823bf3",
   "metadata": {
    "ExecuteTime": {
     "end_time": "2023-10-03T14:45:28.128786800Z",
     "start_time": "2023-10-03T14:45:27.563059600Z"
    },
    "tags": []
   },
   "outputs": [],
   "source": [
    "coords = get_coordinates_4_vessels(female_viz)"
   ]
  },
  {
   "cell_type": "code",
   "execution_count": null,
   "id": "bb8fd9f3-f78e-4441-8cb5-acb8baeb2dc3",
   "metadata": {
    "ExecuteTime": {
     "end_time": "2023-10-03T14:45:28.175661100Z",
     "start_time": "2023-10-03T14:45:27.947664600Z"
    },
    "tags": []
   },
   "outputs": [],
   "source": [
    "coords"
   ]
  },
  {
   "cell_type": "code",
   "execution_count": null,
   "id": "c1f22bdd-1872-4a6d-8244-5757fa3a3f40",
   "metadata": {
    "ExecuteTime": {
     "end_time": "2023-10-03T14:45:28.916152700Z",
     "start_time": "2023-10-03T14:45:28.586041900Z"
    },
    "tags": []
   },
   "outputs": [],
   "source": [
    "len(matching_nodes)"
   ]
  },
  {
   "cell_type": "code",
   "execution_count": null,
   "id": "5d425155-b0e8-4a43-b3ef-520980121078",
   "metadata": {
    "ExecuteTime": {
     "end_time": "2023-10-03T14:45:29.532473900Z",
     "start_time": "2023-10-03T14:45:29.120388600Z"
    },
    "tags": []
   },
   "outputs": [],
   "source": [
    "len(coords.dropna())"
   ]
  },
  {
   "cell_type": "code",
   "execution_count": null,
   "id": "fd8f245d-ebb7-4495-98a3-6e6e75077489",
   "metadata": {
    "ExecuteTime": {
     "end_time": "2023-10-03T14:45:29.736926800Z",
     "start_time": "2023-10-03T14:45:29.358929200Z"
    },
    "tags": []
   },
   "outputs": [],
   "source": [
    "nodes_wo_coords = [node for node in coords[coords['coords'].isna()]['name_in_vasc'].values if node in matching_nodes['Vessel'].values ]\n",
    "nodes_wo_coords"
   ]
  },
  {
   "cell_type": "code",
   "execution_count": null,
   "id": "61991bc7-93b8-4b13-9c8e-6101807da07a",
   "metadata": {
    "ExecuteTime": {
     "end_time": "2023-10-03T14:45:30.914055700Z",
     "start_time": "2023-10-03T14:45:30.725147Z"
    },
    "tags": []
   },
   "outputs": [],
   "source": [
    "matching_nodes[matching_nodes['Vessel'].isin(nodes_wo_coords)]"
   ]
  },
  {
   "cell_type": "code",
   "execution_count": null,
   "id": "5ae25c00-9eb6-4623-9938-a6ac8c623144",
   "metadata": {
    "ExecuteTime": {
     "end_time": "2023-10-03T14:45:31.573344600Z",
     "start_time": "2023-10-03T14:45:31.291230700Z"
    },
    "tags": []
   },
   "outputs": [],
   "source": [
    "nodes[nodes['ontology_id'].apply(transform_id).isin(matching_nodes[matching_nodes['Vessel'].isin(nodes_wo_coords)]['ASID'].apply(transform_id).values)]"
   ]
  },
  {
   "cell_type": "code",
   "execution_count": null,
   "id": "8b2fe929-ad40-40fa-90db-dd38731ab275",
   "metadata": {
    "ExecuteTime": {
     "end_time": "2023-10-03T14:45:32.472064700Z",
     "start_time": "2023-10-03T14:45:31.816353200Z"
    }
   },
   "outputs": [],
   "source": []
  },
  {
   "cell_type": "code",
   "execution_count": null,
   "id": "8db8d691-0b6e-487a-b7df-efe74bff67fc",
   "metadata": {
    "ExecuteTime": {
     "end_time": "2023-10-03T14:45:32.912820300Z",
     "start_time": "2023-10-03T14:45:32.219991500Z"
    },
    "tags": []
   },
   "outputs": [],
   "source": [
    "relabel_mapping = coords['name_in_vasc'].to_dict()\n",
    "relabel_mapping = {v: k for k, v in relabel_mapping.items()}"
   ]
  },
  {
   "cell_type": "code",
   "execution_count": null,
   "id": "ee3777d6-b5c3-4d36-8305-21345608c123",
   "metadata": {
    "ExecuteTime": {
     "end_time": "2023-10-03T14:45:33.273946500Z",
     "start_time": "2023-10-03T14:45:32.724466100Z"
    },
    "tags": []
   },
   "outputs": [],
   "source": [
    "renamed_pruned_vasc = nx.relabel_nodes(pruned_vasc_graph, relabel_mapping)"
   ]
  },
  {
   "cell_type": "code",
   "execution_count": null,
   "id": "eaee5b32-c72f-47a1-ae0e-3958308986e7",
   "metadata": {
    "ExecuteTime": {
     "end_time": "2023-10-03T14:45:33.573144200Z",
     "start_time": "2023-10-03T14:45:33.114594100Z"
    },
    "tags": []
   },
   "outputs": [],
   "source": [
    "pos = coords['coords'].dropna().to_dict()"
   ]
  },
  {
   "cell_type": "code",
   "execution_count": null,
   "id": "96c01703-abf2-4a51-93bb-49c23caca3a6",
   "metadata": {
    "ExecuteTime": {
     "end_time": "2023-10-03T14:45:38.768841600Z",
     "start_time": "2023-10-03T14:45:38.376082800Z"
    },
    "tags": []
   },
   "outputs": [],
   "source": [
    "pos2 = nx.spring_layout(renamed_pruned_vasc, pos=pos, fixed=list(pos.keys()), iterations=1000)"
   ]
  },
  {
   "cell_type": "code",
   "execution_count": null,
   "id": "7c79c4ab-ca66-4955-bda9-7fbe5d11c0f1",
   "metadata": {
    "ExecuteTime": {
     "end_time": "2023-10-03T14:45:40.114473500Z",
     "start_time": "2023-10-03T14:45:39.878228800Z"
    },
    "tags": []
   },
   "outputs": [],
   "source": [
    "nx.draw(renamed_pruned_vasc, pos2, node_size=10)\n",
    "nx.draw_networkx_nodes(renamed_pruned_vasc, pos2, nodelist=list(pos.keys()), node_color='tab:orange', node_size=10)\n",
    "# plt.savefig('small_network.png', dpi=300)\n",
    "plt.show()"
   ]
  },
  {
   "cell_type": "code",
   "execution_count": null,
   "id": "4e750059-27ad-4dbd-869c-62b9320b89a8",
   "metadata": {
    "ExecuteTime": {
     "end_time": "2023-10-03T14:45:42.598768800Z",
     "start_time": "2023-10-03T14:45:42.154118100Z"
    },
    "tags": []
   },
   "outputs": [],
   "source": [
    "connected_comps = [pruned_vasc_graph.subgraph(c).copy() for c in nx.connected_components(pruned_vasc_graph)]"
   ]
  },
  {
   "cell_type": "code",
   "execution_count": null,
   "id": "8962dd4c-4eb5-4007-9bae-fea0cd758568",
   "metadata": {
    "ExecuteTime": {
     "end_time": "2023-10-03T14:45:42.944437900Z",
     "start_time": "2023-10-03T14:45:42.504533100Z"
    },
    "tags": []
   },
   "outputs": [],
   "source": [
    "for comp in connected_comps:\n",
    "    nx.draw(comp, node_size=10)\n",
    "    plt.show()"
   ]
  },
  {
   "cell_type": "code",
   "execution_count": null,
   "id": "fac98967-33e8-40a0-b402-ec9a6ea3a147",
   "metadata": {
    "ExecuteTime": {
     "end_time": "2023-10-03T14:45:45.117141200Z",
     "start_time": "2023-10-03T14:45:44.928525Z"
    },
    "tags": []
   },
   "outputs": [],
   "source": [
    "nx.draw(pruned_vasc_graph, pos=layout_pos, node_size=10)\n",
    "plt.show()"
   ]
  },
  {
   "cell_type": "code",
   "execution_count": null,
   "id": "3acb09b8-835e-445c-b030-07085e329b1a",
   "metadata": {
    "ExecuteTime": {
     "end_time": "2023-10-03T14:45:45.693569500Z",
     "start_time": "2023-10-03T14:45:45.302656800Z"
    },
    "tags": []
   },
   "outputs": [],
   "source": [
    "leaves_of_pruned = [node for node in pruned_vasc_graph if nx.degree(pruned_vasc_graph, node)<=1]"
   ]
  },
  {
   "cell_type": "code",
   "execution_count": null,
   "id": "374812b6-a941-41e5-84b4-3740dab1da35",
   "metadata": {
    "ExecuteTime": {
     "end_time": "2023-10-03T14:45:46.538387Z",
     "start_time": "2023-10-03T14:45:46.365454600Z"
    },
    "tags": []
   },
   "outputs": [],
   "source": [
    "len(leaves_of_pruned)"
   ]
  },
  {
   "cell_type": "code",
   "execution_count": null,
   "id": "dc7d7ada-3476-4788-81fd-e3d79a91f271",
   "metadata": {
    "ExecuteTime": {
     "end_time": "2023-10-03T14:45:47.104415900Z",
     "start_time": "2023-10-03T14:45:46.932536700Z"
    },
    "tags": []
   },
   "outputs": [],
   "source": [
    "matching_not_leaf = [node for node in matching_nodes.Vessel.values if node not in leaves_of_pruned]"
   ]
  },
  {
   "cell_type": "code",
   "execution_count": null,
   "id": "7e6389ea-af1a-4f6c-81da-cb36f0a69dee",
   "metadata": {
    "ExecuteTime": {
     "end_time": "2023-10-03T14:45:47.750853100Z",
     "start_time": "2023-10-03T14:45:47.356356700Z"
    },
    "tags": []
   },
   "outputs": [],
   "source": [
    "matching_leaf = [node for node in matching_nodes.Vessel.values if node in leaves_of_pruned]"
   ]
  },
  {
   "cell_type": "code",
   "execution_count": null,
   "id": "9d9dc811-1f3e-4b13-8473-ecb0a8fd50cf",
   "metadata": {
    "ExecuteTime": {
     "end_time": "2023-10-03T14:45:48.121220Z",
     "start_time": "2023-10-03T14:45:47.656318Z"
    },
    "tags": []
   },
   "outputs": [],
   "source": [
    "len(matching_not_leaf)+len(matching_leaf)"
   ]
  },
  {
   "cell_type": "code",
   "execution_count": null,
   "id": "6090a9ad-e412-40be-ad66-992dfa03ad72",
   "metadata": {
    "ExecuteTime": {
     "end_time": "2023-10-03T14:45:48.364636700Z",
     "start_time": "2023-10-03T14:45:48.049591700Z"
    },
    "tags": []
   },
   "outputs": [],
   "source": [
    "len(matching_nodes)"
   ]
  },
  {
   "cell_type": "code",
   "execution_count": null,
   "id": "c1903212-eae8-4dc0-b5d5-4b5b33302d72",
   "metadata": {
    "ExecuteTime": {
     "end_time": "2023-10-03T14:45:49.010517400Z",
     "start_time": "2023-10-03T14:45:48.664207600Z"
    },
    "tags": []
   },
   "outputs": [],
   "source": [
    "nx.draw(pruned_vasc_graph, pos=layout_pos, node_size=10)\n",
    "nx.draw_networkx_nodes(pruned_vasc_graph, layout_pos,\n",
    "                       nodelist=matching_not_leaf, \n",
    "                       node_color='tab:red', node_size=12)\n",
    "nx.draw_networkx_nodes(pruned_vasc_graph, layout_pos,\n",
    "                       nodelist=matching_leaf, \n",
    "                       node_color='tab:orange', node_size=12)\n",
    "plt.show()"
   ]
  },
  {
   "cell_type": "code",
   "execution_count": null,
   "id": "08dd99b2-2c3d-48e2-83c3-ccbc3a7278dd",
   "metadata": {
    "ExecuteTime": {
     "end_time": "2023-10-03T14:46:03.053828800Z",
     "start_time": "2023-10-03T14:45:59.763637500Z"
    },
    "tags": []
   },
   "outputs": [],
   "source": [
    "plt.figure(figsize=(20,20))\n",
    "nx.draw_networkx_nodes(vasc_graph, pos=layout_pos_full, node_size=5, node_color='tab:grey', alpha=0.3)\n",
    "nx.draw_networkx_edges(vasc_graph, pos=layout_pos_full, alpha=0.1)\n",
    "nx.draw_networkx_edges(pruned_vasc_graph, pos=layout_pos_full, alpha=0.5, edge_color='tab:red')\n",
    "nx.draw_networkx_nodes(pruned_vasc_graph, layout_pos_full,\n",
    "                       nodelist=pruned_vasc_graph.nodes, \n",
    "                       node_color='tab:red', node_size=12)\n",
    "nx.draw_networkx_nodes(pruned_vasc_graph, layout_pos_full,\n",
    "                       nodelist=matching_not_leaf, \n",
    "                       node_color='tab:orange', node_size=12)\n",
    "nx.draw_networkx_nodes(pruned_vasc_graph, layout_pos_full,\n",
    "                       nodelist=matching_leaf, \n",
    "                       node_color='tab:orange', node_size=12)\n",
    "plt.tight_layout()\n",
    "plt.savefig('vascular_v14.png', dpi=300)\n",
    "plt.show()"
   ]
  },
  {
   "cell_type": "markdown",
   "id": "a5faf24b-9518-4e99-b861-7cef11d76cc4",
   "metadata": {
    "tags": []
   },
   "source": [
    "# Connect the components of the vascular network "
   ]
  },
  {
   "cell_type": "code",
   "execution_count": null,
   "id": "45bdf586-0bc0-47a0-a2ae-b87bc6287f5c",
   "metadata": {
    "ExecuteTime": {
     "end_time": "2023-10-03T14:46:05.092234900Z",
     "start_time": "2023-10-03T14:46:04.809199600Z"
    },
    "tags": []
   },
   "outputs": [],
   "source": [
    "# Load json files \n",
    "json_data_asctb_blood = {}\n",
    "for filename in listdir('./asct+b/v14/'):\n",
    "    if '.json' in filename:\n",
    "        # print(filename)\n",
    "        with open(f'./asct+b/v14/{filename}', encoding='utf8') as json_file:\n",
    "            data = json.load(json_file)\n",
    "\n",
    "        json_data_asctb_blood[filename[:-5]] = data"
   ]
  },
  {
   "cell_type": "code",
   "execution_count": null,
   "id": "413f2bf1-f3e6-45ca-815e-5447c1106123",
   "metadata": {
    "ExecuteTime": {
     "end_time": "2023-10-03T14:46:05.737350Z",
     "start_time": "2023-10-03T14:46:05.312366200Z"
    },
    "tags": []
   },
   "outputs": [],
   "source": [
    "json_data_asctb_blood.keys()"
   ]
  },
  {
   "cell_type": "code",
   "execution_count": null,
   "id": "e7970813-93b6-4f47-8315-1f34c0302d73",
   "metadata": {
    "ExecuteTime": {
     "end_time": "2023-10-03T14:46:15.179514700Z",
     "start_time": "2023-10-03T14:46:05.706079800Z"
    },
    "tags": []
   },
   "outputs": [],
   "source": [
    "nodes, edges = combine_data(json_data_asctb_blood, remove_ctct=True, combine=False, blood=True)"
   ]
  },
  {
   "cell_type": "code",
   "execution_count": null,
   "id": "250177ba-96e0-4c25-9417-f223cf6d70a3",
   "metadata": {
    "ExecuteTime": {
     "end_time": "2023-10-03T14:46:15.179514700Z",
     "start_time": "2023-10-03T14:46:15.146919500Z"
    },
    "tags": []
   },
   "outputs": [],
   "source": [
    "blood_vasc_nodes = nodes['blood_vasculature']"
   ]
  },
  {
   "cell_type": "code",
   "execution_count": null,
   "id": "773e426f-b200-401c-8182-3772abef462f",
   "metadata": {
    "ExecuteTime": {
     "end_time": "2023-10-03T14:46:15.179514700Z",
     "start_time": "2023-10-03T14:46:15.147425600Z"
    },
    "tags": []
   },
   "outputs": [],
   "source": [
    "blood_vasc_edges = edges['blood_vasculature']"
   ]
  },
  {
   "cell_type": "code",
   "execution_count": null,
   "id": "b891e9a7-7777-4a8d-b331-3aaececc9fa3",
   "metadata": {
    "ExecuteTime": {
     "end_time": "2023-10-03T14:46:15.179514700Z",
     "start_time": "2023-10-03T14:46:15.154950Z"
    },
    "tags": []
   },
   "outputs": [],
   "source": [
    "blood_vasc_nodes"
   ]
  },
  {
   "cell_type": "code",
   "execution_count": null,
   "id": "c98f4ef1-e0a2-450a-9405-2e80d6fdde89",
   "metadata": {
    "ExecuteTime": {
     "end_time": "2023-10-03T14:46:15.179514700Z",
     "start_time": "2023-10-03T14:46:15.166360400Z"
    },
    "tags": []
   },
   "outputs": [],
   "source": [
    "blood_vasc_graph = nx.from_pandas_edgelist(blood_vasc_edges)"
   ]
  },
  {
   "cell_type": "code",
   "execution_count": null,
   "id": "dec1abe4-0169-4aa7-b99a-06ebbebe8e1a",
   "metadata": {
    "ExecuteTime": {
     "end_time": "2023-10-03T14:46:15.540392800Z",
     "start_time": "2023-10-03T14:46:15.179514700Z"
    },
    "tags": []
   },
   "outputs": [],
   "source": [
    "blood_vasc_graph = nx.relabel_nodes(blood_vasc_graph, blood_vasc_nodes['name'].to_dict())"
   ]
  },
  {
   "cell_type": "code",
   "execution_count": null,
   "id": "d78d0253-f432-4bc2-9308-2fe4b574df57",
   "metadata": {
    "ExecuteTime": {
     "end_time": "2023-10-03T14:46:39.759292600Z",
     "start_time": "2023-10-03T14:46:15.195960400Z"
    },
    "tags": []
   },
   "outputs": [],
   "source": [
    "pos = nx.drawing.nx_pydot.graphviz_layout(G=blood_vasc_graph, root='blood vasculature')"
   ]
  },
  {
   "cell_type": "code",
   "execution_count": null,
   "id": "2b7cdf03-6392-41d7-b51c-b5ad0df9962c",
   "metadata": {
    "ExecuteTime": {
     "end_time": "2023-10-03T14:46:39.790575500Z",
     "start_time": "2023-10-03T14:46:39.634074400Z"
    }
   },
   "outputs": [],
   "source": []
  },
  {
   "cell_type": "code",
   "execution_count": null,
   "id": "2663afaf-d803-41d1-a5bb-2937960120d1",
   "metadata": {
    "ExecuteTime": {
     "end_time": "2023-10-03T14:46:39.790575500Z",
     "start_time": "2023-10-03T14:46:39.638141700Z"
    },
    "tags": []
   },
   "outputs": [],
   "source": [
    "[node for node in pruned_vasc_graph if node not in blood_vasc_graph]"
   ]
  },
  {
   "cell_type": "code",
   "execution_count": null,
   "id": "c659c232-01e0-491c-bf7d-efb1ef0daf3b",
   "metadata": {
    "ExecuteTime": {
     "end_time": "2023-10-03T14:46:39.790575500Z",
     "start_time": "2023-10-03T14:46:39.648878300Z"
    },
    "tags": []
   },
   "outputs": [],
   "source": [
    "subgraph = nx.induced_subgraph(blood_vasc_graph, list(pruned_vasc_graph.nodes)+['blood vasculature'])"
   ]
  },
  {
   "cell_type": "code",
   "execution_count": null,
   "id": "2ef8db8d-adf6-469b-9f00-d58c90a00863",
   "metadata": {
    "ExecuteTime": {
     "end_time": "2023-10-03T14:46:41.018226800Z",
     "start_time": "2023-10-03T14:46:39.649390Z"
    },
    "tags": []
   },
   "outputs": [],
   "source": [
    "pos = nx.drawing.nx_pydot.graphviz_layout(subgraph, root='blood vasculature')"
   ]
  },
  {
   "cell_type": "code",
   "execution_count": null,
   "id": "833b8c78-a119-46ad-a988-4aed5545ad8c",
   "metadata": {
    "ExecuteTime": {
     "end_time": "2023-10-03T14:46:41.256003400Z",
     "start_time": "2023-10-03T14:46:41.018226800Z"
    },
    "tags": []
   },
   "outputs": [],
   "source": [
    "pos_of_pruned = nx.spring_layout(pruned_vasc_graph, pos=pos, fixed=pos.keys(), iterations=1000, dim=2, k=0.01/np.sqrt(len(pruned_vasc_graph)))"
   ]
  },
  {
   "cell_type": "code",
   "execution_count": null,
   "id": "31c25c5d-2ee3-436f-9fef-010cac3afa35",
   "metadata": {
    "ExecuteTime": {
     "end_time": "2023-10-03T14:46:41.294091800Z",
     "start_time": "2023-10-03T14:46:41.256003400Z"
    },
    "tags": []
   },
   "outputs": [],
   "source": [
    "connected_comps = [pruned_vasc_graph.subgraph(c).copy() for c in nx.connected_components(pruned_vasc_graph)]"
   ]
  },
  {
   "cell_type": "code",
   "execution_count": null,
   "id": "f1ed8049-4c97-4df1-9458-c33bc3be52fc",
   "metadata": {
    "ExecuteTime": {
     "end_time": "2023-10-03T14:46:41.388560700Z",
     "start_time": "2023-10-03T14:46:41.288075300Z"
    },
    "tags": []
   },
   "outputs": [],
   "source": [
    "new_edges = [edge for edge in subgraph.edges if edge not in pruned_vasc_graph.edges]"
   ]
  },
  {
   "cell_type": "code",
   "execution_count": null,
   "id": "6b710a3a-5728-4b0c-8b65-e3f481464552",
   "metadata": {
    "ExecuteTime": {
     "end_time": "2023-10-03T14:46:44.427249300Z",
     "start_time": "2023-10-03T14:46:44.269410Z"
    },
    "tags": []
   },
   "outputs": [],
   "source": [
    "connected_comps[3].nodes"
   ]
  },
  {
   "cell_type": "code",
   "execution_count": null,
   "id": "4e46b379-32f7-4746-bbac-bd5c48b1ccbb",
   "metadata": {
    "ExecuteTime": {
     "end_time": "2023-10-03T14:46:52.642511700Z",
     "start_time": "2023-10-03T14:46:48.637725400Z"
    },
    "tags": []
   },
   "outputs": [],
   "source": [
    "plt.figure(figsize=(20,20))\n",
    "nx.draw_networkx_nodes(subgraph, pos=pos, node_size=5, node_color='tab:grey', alpha=0.3)\n",
    "nx.draw_networkx_labels(subgraph, pos=pos, font_size=8)\n",
    "nx.draw_networkx_edges(subgraph, pos=pos, edgelist=new_edges, alpha=0.9)\n",
    "\n",
    "colors = ['tab:red', 'tab:blue', 'tab:blue', 'tab:red']\n",
    "for idx, comp in enumerate(connected_comps):\n",
    "    nx.draw_networkx_edges(comp, pos=pos_of_pruned, alpha=0.3, edge_color=colors[idx])\n",
    "\n",
    "plt.tight_layout()\n",
    "plt.savefig('completed_vascular_v14.png', dpi=350)\n",
    "plt.show()"
   ]
  },
  {
   "cell_type": "code",
   "execution_count": null,
   "id": "721f624f-dd2f-45dd-b0f6-6fce576c4cae",
   "metadata": {
    "ExecuteTime": {
     "end_time": "2023-10-03T14:46:52.799752600Z",
     "start_time": "2023-10-03T14:46:52.610611300Z"
    },
    "tags": []
   },
   "outputs": [],
   "source": [
    "new_edges"
   ]
  },
  {
   "cell_type": "code",
   "execution_count": null,
   "id": "a72aaae8-ab23-4719-9f81-35d6373c4c32",
   "metadata": {
    "ExecuteTime": {
     "end_time": "2023-10-03T14:46:55.016662700Z",
     "start_time": "2023-10-03T14:46:54.765056900Z"
    },
    "tags": []
   },
   "outputs": [],
   "source": [
    "[edge for edge in pruned_vasc_graph.edges if edge[0] in ['hepatic portal vein']]"
   ]
  },
  {
   "cell_type": "markdown",
   "id": "ed709855-8bda-42e7-8c43-3c8c0df77774",
   "metadata": {},
   "source": [
    "### add edges"
   ]
  },
  {
   "cell_type": "code",
   "execution_count": null,
   "id": "4abd4814-31f2-4347-a8c6-ea407677b51d",
   "metadata": {
    "ExecuteTime": {
     "end_time": "2023-10-03T14:47:01.029446500Z",
     "start_time": "2023-10-03T14:47:00.888514400Z"
    },
    "tags": []
   },
   "outputs": [],
   "source": [
    "pruned_vasc_graph_comp = pruned_vasc_graph.copy()"
   ]
  },
  {
   "cell_type": "code",
   "execution_count": null,
   "id": "2deaeb8c-c267-418a-a727-c0692eeb930e",
   "metadata": {
    "ExecuteTime": {
     "end_time": "2023-10-03T14:47:02.601709400Z",
     "start_time": "2023-10-03T14:47:02.459964100Z"
    },
    "tags": []
   },
   "outputs": [],
   "source": [
    "pruned_vasc_graph_comp.add_edges_from([('blood vasculature', 'left atrium'),('blood vasculature', 'left ventricle'),\n",
    "                                       ('blood vasculature', 'right atrium'), ('blood vasculature', 'right ventricle')])"
   ]
  },
  {
   "cell_type": "code",
   "execution_count": null,
   "id": "9956d23f-8b37-4b06-b9e0-470af0adeb0d",
   "metadata": {
    "ExecuteTime": {
     "end_time": "2023-10-03T14:47:03.310992100Z",
     "start_time": "2023-10-03T14:47:03.138370100Z"
    },
    "tags": []
   },
   "outputs": [],
   "source": [
    "connected_comps[2].nodes"
   ]
  },
  {
   "cell_type": "code",
   "execution_count": null,
   "id": "7778c9c4-981f-460b-8242-8fd3f626a644",
   "metadata": {
    "ExecuteTime": {
     "end_time": "2023-10-03T14:47:06.515113100Z",
     "start_time": "2023-10-03T14:47:06.393794800Z"
    },
    "tags": []
   },
   "outputs": [],
   "source": [
    "veins = [node for node in pruned_vasc_graph_comp if (node not in connected_comps[0]) and (node not in connected_comps[3])]"
   ]
  },
  {
   "cell_type": "code",
   "execution_count": null,
   "id": "0d3812c1-8772-4e70-8c89-210de93ef66c",
   "metadata": {
    "ExecuteTime": {
     "end_time": "2023-10-03T14:47:07.316747Z",
     "start_time": "2023-10-03T14:47:06.814574200Z"
    },
    "tags": []
   },
   "outputs": [],
   "source": [
    "veins"
   ]
  },
  {
   "cell_type": "code",
   "execution_count": null,
   "id": "4f62f1a9-70b7-4531-8042-56d23aa81dbb",
   "metadata": {
    "ExecuteTime": {
     "end_time": "2023-10-03T14:47:07.726165Z",
     "start_time": "2023-10-03T14:47:07.285161800Z"
    },
    "tags": []
   },
   "outputs": [],
   "source": [
    "arteries = [node for node in pruned_vasc_graph_comp if (node not in connected_comps[1]) and (node not in connected_comps[2])]"
   ]
  },
  {
   "cell_type": "code",
   "execution_count": null,
   "id": "363f30b5-cdef-4415-903f-511d7cc944ac",
   "metadata": {
    "ExecuteTime": {
     "end_time": "2023-10-03T14:47:07.930552300Z",
     "start_time": "2023-10-03T14:47:07.647429500Z"
    },
    "tags": []
   },
   "outputs": [],
   "source": [
    "arteries"
   ]
  },
  {
   "cell_type": "code",
   "execution_count": null,
   "id": "9ff148da-c45a-4210-8e6d-6ffcfc578c0b",
   "metadata": {
    "ExecuteTime": {
     "end_time": "2023-10-03T14:47:11.521766800Z",
     "start_time": "2023-10-03T14:47:10.654874Z"
    },
    "tags": []
   },
   "outputs": [],
   "source": [
    "pos = nx.drawing.nx_pydot.graphviz_layout(pruned_vasc_graph_comp, root='blood vasculature')"
   ]
  },
  {
   "cell_type": "code",
   "execution_count": null,
   "id": "c1826c70-d21b-4b8e-82f9-06d378af58e6",
   "metadata": {
    "ExecuteTime": {
     "end_time": "2023-10-03T14:47:18.297817800Z",
     "start_time": "2023-10-03T14:47:13.804150400Z"
    },
    "tags": []
   },
   "outputs": [],
   "source": [
    "plt.figure(figsize=(20,20))\n",
    "nx.draw_networkx_nodes(pruned_vasc_graph_comp, pos=pos, node_size=5, node_color='tab:grey', alpha=0.3)\n",
    "nx.draw_networkx_labels(pruned_vasc_graph_comp, pos=pos, font_size=8)\n",
    "# nx.draw_networkx_edges(subgraph, pos=pos, edgelist=new_edges, alpha=0.9)\n",
    "\n",
    "nx.draw_networkx_edges(nx.induced_subgraph(pruned_vasc_graph_comp, veins), pos=pos, alpha=0.5, edge_color='tab:blue')\n",
    "nx.draw_networkx_edges(nx.induced_subgraph(pruned_vasc_graph_comp, arteries), pos=pos, alpha=0.5, edge_color='tab:red')\n",
    "\n",
    "plt.tight_layout()\n",
    "plt.savefig('completed_vascular_v14.png', dpi=350)\n",
    "plt.show()"
   ]
  },
  {
   "cell_type": "markdown",
   "id": "ffebb760-a58a-41bb-a16e-21b672399d65",
   "metadata": {},
   "source": [
    "# Female and male vascular network "
   ]
  },
  {
   "cell_type": "code",
   "execution_count": null,
   "id": "3545d415-8eed-4df8-9d04-da8942dee5d7",
   "metadata": {
    "ExecuteTime": {
     "end_time": "2023-10-03T14:47:18.313481300Z",
     "start_time": "2023-10-03T14:47:18.283118900Z"
    },
    "tags": []
   },
   "outputs": [],
   "source": [
    "vasc_data.BodyPart.unique()"
   ]
  },
  {
   "cell_type": "code",
   "execution_count": null,
   "id": "dd4d3030-e879-428d-8baf-24a20d3d9d9e",
   "metadata": {
    "ExecuteTime": {
     "end_time": "2023-10-03T15:06:41.618540900Z",
     "start_time": "2023-10-03T15:06:41.398843500Z"
    },
    "tags": []
   },
   "outputs": [],
   "source": [
    "female_vessels = vasc_data[vasc_data.BodyPart.isin(['clitoris', 'ovary', 'uterus', 'vagina'])] "
   ]
  },
  {
   "cell_type": "code",
   "execution_count": null,
   "id": "40c6d8b8-0365-408b-8bfa-a3c9c0d23ff3",
   "metadata": {
    "ExecuteTime": {
     "end_time": "2023-10-03T15:06:42.563368800Z",
     "start_time": "2023-10-03T15:06:42.406513800Z"
    },
    "tags": []
   },
   "outputs": [],
   "source": [
    "male_vessels = vasc_data[vasc_data.BodyPart.isin(['penis', 'scrotum', 'testis'])]"
   ]
  },
  {
   "cell_type": "code",
   "execution_count": null,
   "id": "6fb28f72-8143-4fe0-8ce0-37974cd368c1",
   "metadata": {
    "ExecuteTime": {
     "end_time": "2023-10-03T15:06:49.272219800Z",
     "start_time": "2023-10-03T15:06:48.866869500Z"
    },
    "tags": []
   },
   "outputs": [],
   "source": [
    "pruned_vasc_graph_comp_male = nx.induced_subgraph(pruned_vasc_graph_comp, [node for node in pruned_vasc_graph_comp if node not in female_vessels.Vessel.values])"
   ]
  },
  {
   "cell_type": "code",
   "execution_count": null,
   "id": "adbbb021-3363-41e1-a4b5-634ad9a12f26",
   "metadata": {
    "ExecuteTime": {
     "end_time": "2023-10-03T15:06:49.633339Z",
     "start_time": "2023-10-03T15:06:49.201296400Z"
    },
    "tags": []
   },
   "outputs": [],
   "source": [
    "pruned_vasc_graph_comp_female = nx.induced_subgraph(pruned_vasc_graph_comp, [node for node in pruned_vasc_graph_comp if node not in male_vessels.Vessel.values])"
   ]
  },
  {
   "cell_type": "code",
   "execution_count": null,
   "id": "1bb0fa62-4fb6-4c7a-a464-00d17b37525f",
   "metadata": {
    "ExecuteTime": {
     "end_time": "2023-10-03T15:06:49.995788900Z",
     "start_time": "2023-10-03T15:06:49.444524500Z"
    },
    "tags": []
   },
   "outputs": [],
   "source": [
    "nx.write_gml(pruned_vasc_graph_comp_female, './viz_v14/pruned_vasc_graph_comp_female.gml')"
   ]
  },
  {
   "cell_type": "code",
   "execution_count": null,
   "id": "08b3d8cb-072e-4adc-9230-c88511713046",
   "metadata": {
    "ExecuteTime": {
     "end_time": "2023-10-03T15:06:50.419808Z",
     "start_time": "2023-10-03T15:06:49.885135500Z"
    },
    "tags": []
   },
   "outputs": [],
   "source": [
    "nx.write_gml(pruned_vasc_graph_comp_male, './viz_v14/pruned_vasc_graph_comp_male.gml')"
   ]
  },
  {
   "cell_type": "code",
   "execution_count": null,
   "id": "12148411-5e11-404c-90bc-2d80cbbeba71",
   "metadata": {
    "ExecuteTime": {
     "end_time": "2023-10-03T15:06:50.801931600Z",
     "start_time": "2023-10-03T15:06:50.372539900Z"
    },
    "tags": []
   },
   "outputs": [],
   "source": [
    "readojfwfoj=nx.read_gml('./viz_v14/pruned_vasc_graph_comp_male.gml')"
   ]
  },
  {
   "cell_type": "code",
   "execution_count": null,
   "id": "114b7b12-a191-424b-b56e-e28694ad1408",
   "metadata": {
    "ExecuteTime": {
     "end_time": "2023-10-03T15:06:51.002015300Z",
     "start_time": "2023-10-03T15:06:50.718035900Z"
    },
    "tags": []
   },
   "outputs": [],
   "source": [
    "set(list(readojfwfoj.edges()))==set(list(pruned_vasc_graph_comp_male.edges()))"
   ]
  },
  {
   "cell_type": "code",
   "execution_count": null,
   "id": "4e9ac231-de42-45bd-80b7-48ef1d1c98b1",
   "metadata": {
    "ExecuteTime": {
     "end_time": "2023-10-03T15:06:51.881793500Z",
     "start_time": "2023-10-03T15:06:51.456551300Z"
    }
   },
   "outputs": [],
   "source": []
  },
  {
   "cell_type": "code",
   "execution_count": null,
   "id": "2aa138bb-7332-4eaf-beec-c41b7c7bd7ce",
   "metadata": {
    "ExecuteTime": {
     "end_time": "2023-10-03T15:06:52.038757500Z",
     "start_time": "2023-10-03T15:06:51.786980500Z"
    },
    "tags": []
   },
   "outputs": [],
   "source": [
    "pruned_vasc_graph_comp_female.number_of_edges()"
   ]
  },
  {
   "cell_type": "code",
   "execution_count": null,
   "id": "3209bcf1-dee3-4d50-8280-123a6bf9d9fe",
   "metadata": {
    "ExecuteTime": {
     "end_time": "2023-10-03T15:06:53.742111200Z",
     "start_time": "2023-10-03T15:06:53.577542900Z"
    },
    "tags": []
   },
   "outputs": [],
   "source": [
    "len(pruned_vasc_graph_comp_male)"
   ]
  },
  {
   "cell_type": "code",
   "execution_count": null,
   "id": "08d04ec0-bcb9-4fe6-b41d-75ef7bcf94b1",
   "metadata": {
    "ExecuteTime": {
     "end_time": "2023-10-03T15:06:54.451415600Z",
     "start_time": "2023-10-03T15:06:54.182487100Z"
    },
    "tags": []
   },
   "outputs": [],
   "source": [
    "len(pruned_vasc_graph_comp_female)"
   ]
  },
  {
   "cell_type": "code",
   "execution_count": null,
   "id": "53ceb7d7-fb5c-4bc4-a09f-4b69106037f3",
   "metadata": {
    "ExecuteTime": {
     "end_time": "2023-10-03T15:06:55.227364100Z",
     "start_time": "2023-10-03T15:06:55.054487600Z"
    },
    "tags": []
   },
   "outputs": [],
   "source": [
    "len(pruned_vasc_graph_comp)"
   ]
  },
  {
   "cell_type": "markdown",
   "id": "2295c23f-7eb2-49c1-b176-b787a46d8757",
   "metadata": {},
   "source": [
    "## Unfortunately, this does not work well for the matplotlib inline backend in Jupyter because that backend uses a different default of rcParams['figure.dpi'] = 72. Additionally, it saves the figure with bbox_inches='tight', which crops the figure and makes the actual size unpredictable.\n",
    "\n",
    "https://matplotlib.org/stable/gallery/subplots_axes_and_figures/figure_size_units.html"
   ]
  },
  {
   "cell_type": "markdown",
   "id": "99f09790-4cde-4fd8-b4f6-7d30bab9f3ed",
   "metadata": {},
   "source": [
    "# So it is not recommended to run in Jupyter but it works fine in PyCharm / DataSpell"
   ]
  },
  {
   "cell_type": "code",
   "execution_count": null,
   "id": "7a4d02aa-2107-4e3d-b8f5-b359b73d7fbf",
   "metadata": {
    "ExecuteTime": {
     "end_time": "2023-10-03T15:07:03.507352100Z",
     "start_time": "2023-10-03T15:07:03.177450500Z"
    }
   },
   "outputs": [],
   "source": [
    "def plot_fixed_graph2(graph, viz, bundle_edges=False, draw_labels=False, filename='vasculature'):\n",
    "    graphs = {'veins': nx.induced_subgraph(graph, veins), 'arteries': nx.induced_subgraph(graph, arteries)}\n",
    "    coords = {'veins': get_coordinates_4_vessels(viz, graphs['veins']), 'arteries': get_coordinates_4_vessels(viz, graphs['arteries'])}\n",
    "    relabel_mapping_inv = {'veins': coords['veins']['name_in_vasc'].to_dict(), 'arteries': coords['arteries']['name_in_vasc'].to_dict()}\n",
    "    relabel_mapping =  {'veins': {v: k for k, v in relabel_mapping_inv['veins'].items()}, 'arteries':{v: k for k, v in relabel_mapping_inv['arteries'].items()}}\n",
    "    # {'veins': , 'arteries': }\n",
    "    renamed_comp = {'veins': nx.relabel_nodes(graphs['veins'], relabel_mapping['veins']), 'arteries': nx.relabel_nodes(graphs['arteries'], relabel_mapping['arteries']) } \n",
    "    \n",
    "    pos = {'veins': coords['veins']['coords'].dropna().to_dict(), 'arteries': coords['arteries']['coords'].dropna().to_dict()}\n",
    "    pos['veins'][relabel_mapping['veins']['blood vasculature']] = np.array([body_x-10, -body_y])\n",
    "    pos['arteries'][relabel_mapping['arteries']['blood vasculature']] = np.array([body_x-10, -body_y])\n",
    "    pos2 = {'veins': nx.spring_layout(renamed_comp['veins'], pos=pos['veins'], fixed=list(pos['veins'].keys()), seed=10, iterations=1000, dim=2, k=0.01/np.sqrt(len(graphs['veins']))), \n",
    "            'arteries': nx.spring_layout(renamed_comp['arteries'], pos=pos['arteries'], fixed=list(pos['arteries'].keys()), seed=10, iterations=1000, dim=2, k=0.01/np.sqrt(len(graphs['arteries'])))}\n",
    "    \n",
    "    if not bundle_edges:\n",
    "        plt.figure(figsize=(17.2,17.2))\n",
    "        plt.axes().set_aspect('equal')\n",
    "        plt.margins(x=0, y=0)\n",
    "        plt.xlim(0,1720)\n",
    "        plt.ylim(-1720, 0)\n",
    "        plt.subplots_adjust(left=0, right=1, top=1, bottom=0, hspace=0, wspace=0)\n",
    "        plt.tight_layout(pad=0, h_pad=0, w_pad=0, rect=(0,0,1,1))\n",
    "        plt.axis('off') \n",
    "        nx.draw(renamed_comp['veins'], pos2['veins'], node_size=10, edge_color='tab:blue', node_color='tab:blue')\n",
    "        nx.draw(renamed_comp['arteries'], pos2['arteries'], node_size=10, edge_color='tab:red', node_color='tab:red')\n",
    "        if draw_labels:\n",
    "            nx.draw_networkx_labels(renamed_comp['veins'], pos2['veins'], labels=relabel_mapping_inv['veins'], font_size=3)\n",
    "            nx.draw_networkx_labels(renamed_comp['arteries'], pos2['arteries'], labels=relabel_mapping_inv['arteries'], font_size=3)\n",
    "        # nx.draw_networkx_nodes(renamed_comp, pos2, nodelist=list(pos.keys()), node_color='tab:orange', node_size=10)\n",
    "        plt.subplots_adjust(left=0, right=1, top=1, bottom=0)\n",
    "        plt.tight_layout(pad=0, h_pad=0, w_pad=0, rect=(0,0,1,1))\n",
    "        plt.axis('off')\n",
    "        plt.gca().set_axis_off()\n",
    "        plt.subplots_adjust(top = 1, bottom = 0, right = 1, left = 0, hspace = 0, wspace = 0)\n",
    "        plt.margins(0,0)\n",
    "        plt.gca().xaxis.set_major_locator(plt.NullLocator())\n",
    "        plt.gca().yaxis.set_major_locator(plt.NullLocator())\n",
    "        plt.savefig(f'./viz_v14/{filename}_v14.pdf',  transparent=True, pad_inches=0.0, bbox_inches=0)\n",
    "        plt.show()\n",
    "    else:\n",
    "        nodes_only = {'veins': pd.DataFrame.from_dict(relabel_mapping_inv['veins'], orient='index').rename(columns={0:'name'}), \n",
    "                      'arteries': pd.DataFrame.from_dict(relabel_mapping_inv['arteries'], orient='index').rename(columns={0:'name'})}\n",
    "        \n",
    "        nodes = {'veins': pd.DataFrame.from_dict(pos2['veins']).T.rename(columns={0:'x', 1:'y'}).join(nodes_only['veins'])[['name', 'x', 'y']], \n",
    "                 'arteries': pd.DataFrame.from_dict(pos2['arteries']).T.rename(columns={0:'x', 1:'y'}).join(nodes_only['arteries'])[['name', 'x', 'y']]}\n",
    "        \n",
    "        edges = {'veins': nx.to_pandas_edgelist(renamed_comp['veins'])[['source', 'target']], \n",
    "                 'arteries': nx.to_pandas_edgelist(renamed_comp['arteries'])[['source', 'target']]}\n",
    "        # hb = hammer_bundle(nodes, edges, initial_bandwidth=0.03,tension=0.9, accuracy=8000)\n",
    "        hb = {'veins': hammer_bundle(nodes['veins'], edges['veins'], initial_bandwidth=.015, decay=0.8, tension=0.99, accuracy=1000), \n",
    "              'arteries': hammer_bundle(nodes['arteries'], edges['arteries'], initial_bandwidth=.015, decay=0.8, tension=0.99, accuracy=1000)}\n",
    "        \n",
    "        plt.figure(figsize=(17.2, 17.2))\n",
    "        plt.axes().set_aspect('equal', anchor=\"NW\")\n",
    "        plt.margins(x=0, y=0)\n",
    "        plt.xlim(0,1720)\n",
    "        plt.ylim(-1720, 0)\n",
    "        plt.subplots_adjust(left=0, right=1, top=1, bottom=0, hspace=0, wspace=0)  \n",
    "        plt.plot(hb['veins']['x'], hb['veins']['y'], color='tab:blue', alpha=0.8)\n",
    "        plt.plot(hb['arteries']['x'], hb['arteries']['y'], color='tab:red', alpha=0.8)\n",
    "        plt.subplots_adjust(left=0, right=1, top=1, bottom=0)\n",
    "        plt.tight_layout(pad=0, h_pad=0, w_pad=0, rect=(0,0,1,1))\n",
    "        plt.axis('off')\n",
    "        plt.gca().set_axis_off()\n",
    "        plt.subplots_adjust(top=1, bottom=0, right=1, left=0, hspace=0, wspace=0)\n",
    "        plt.margins(0,0)\n",
    "        plt.gca().xaxis.set_major_locator(plt.NullLocator())\n",
    "        plt.gca().yaxis.set_major_locator(plt.NullLocator())\n",
    "        plt.savefig(f'./viz_v14/{filename}_bundled_v14.pdf', pad_inches=0.0, transparent=True, bbox_inches=0)\n",
    "        plt.show()"
   ]
  },
  {
   "cell_type": "code",
   "execution_count": null,
   "id": "14ec8ae5-837e-4848-910c-b4f4869a8dce",
   "metadata": {
    "ExecuteTime": {
     "end_time": "2023-10-03T15:07:04.926862300Z",
     "start_time": "2023-10-03T15:07:04.770340Z"
    }
   },
   "outputs": [],
   "source": [
    "dpi = plt.rcParams['figure.dpi']"
   ]
  },
  {
   "cell_type": "code",
   "execution_count": null,
   "id": "1300d797-4460-42f9-87f6-27c52bf2c42a",
   "metadata": {
    "ExecuteTime": {
     "end_time": "2023-10-03T15:07:05.476750900Z",
     "start_time": "2023-10-03T15:07:05.272634600Z"
    }
   },
   "outputs": [],
   "source": [
    "dpi"
   ]
  },
  {
   "cell_type": "code",
   "execution_count": null,
   "id": "ffefea97-7e14-476f-897d-3ac8fb186301",
   "metadata": {
    "ExecuteTime": {
     "end_time": "2023-10-03T15:07:06.117574300Z",
     "start_time": "2023-10-03T15:07:05.892536400Z"
    }
   },
   "outputs": [],
   "source": []
  },
  {
   "cell_type": "code",
   "execution_count": null,
   "id": "6186b42f-e8a3-4741-8110-bd9b5721cd68",
   "metadata": {
    "ExecuteTime": {
     "end_time": "2023-10-03T15:08:24.541633600Z",
     "start_time": "2023-10-03T15:08:23.896531300Z"
    }
   },
   "outputs": [],
   "source": [
    "with open('viz_v14/female_wing_viz_v14.json', encoding='utf8') as json_file:\n",
    "    viz = json.load(json_file)"
   ]
  },
  {
   "cell_type": "code",
   "execution_count": null,
   "id": "ed799150-9412-4a3f-8cf1-e4c4e97a2495",
   "metadata": {
    "ExecuteTime": {
     "end_time": "2023-10-03T15:08:24.872417400Z",
     "start_time": "2023-10-03T15:08:24.179716800Z"
    }
   },
   "outputs": [],
   "source": [
    "female_wing_viz = viz['data'][0]['values']"
   ]
  },
  {
   "cell_type": "code",
   "execution_count": null,
   "id": "b548a8751655b10",
   "metadata": {
    "ExecuteTime": {
     "end_time": "2023-10-03T15:08:25.453775100Z",
     "start_time": "2023-10-03T15:08:24.257541300Z"
    },
    "collapsed": false,
    "jupyter": {
     "outputs_hidden": false
    }
   },
   "outputs": [],
   "source": [
    "body_x = female_wing_viz[0]['x']\n",
    "body_y = female_wing_viz[0]['y']"
   ]
  },
  {
   "cell_type": "code",
   "execution_count": null,
   "id": "a7ac0aded21440ce",
   "metadata": {
    "ExecuteTime": {
     "end_time": "2023-10-03T15:08:26.130409600Z",
     "start_time": "2023-10-03T15:08:24.468094600Z"
    },
    "collapsed": false,
    "jupyter": {
     "outputs_hidden": false
    }
   },
   "outputs": [],
   "source": [
    "plt.figure(figsize=(21,13))\n",
    "nx.draw_networkx(pruned_vasc_graph_comp_female, pos=nx.nx_agraph.graphviz_layout(pruned_vasc_graph_comp_female), node_size=10, font_size=9)"
   ]
  },
  {
   "cell_type": "code",
   "execution_count": null,
   "id": "8a78db0688600af4",
   "metadata": {
    "ExecuteTime": {
     "end_time": "2023-10-03T15:08:26.459674700Z",
     "start_time": "2023-10-03T15:08:24.919859600Z"
    },
    "collapsed": false,
    "jupyter": {
     "outputs_hidden": false
    }
   },
   "outputs": [],
   "source": [
    "plt.figure(figsize=(21,13))\n",
    "nx.draw_networkx(pruned_vasc_graph_comp_male, pos=nx.nx_agraph.graphviz_layout(pruned_vasc_graph_comp_male), node_size=10, font_size=9)"
   ]
  },
  {
   "cell_type": "code",
   "execution_count": null,
   "id": "8c4def4d-4110-41d3-83ac-9ddca7804c0b",
   "metadata": {
    "ExecuteTime": {
     "end_time": "2023-10-03T15:08:41.388794600Z",
     "start_time": "2023-10-03T15:08:40.013244900Z"
    }
   },
   "outputs": [],
   "source": [
    "plot_fixed_graph2(pruned_vasc_graph_comp_female, female_wing_viz, draw_labels=True, filename='female_wing')"
   ]
  },
  {
   "cell_type": "code",
   "execution_count": null,
   "id": "d62cfdbd-7866-46c3-943a-27a79569554d",
   "metadata": {
    "ExecuteTime": {
     "end_time": "2023-10-03T15:08:43.305757900Z",
     "start_time": "2023-10-03T15:08:41.341917600Z"
    }
   },
   "outputs": [],
   "source": [
    "plot_fixed_graph2(pruned_vasc_graph_comp_female, female_wing_viz, bundle_edges=True, filename='female_wing')"
   ]
  },
  {
   "cell_type": "code",
   "execution_count": null,
   "id": "3cf9e03c-c2c3-413f-903c-24b614a37a0c",
   "metadata": {
    "ExecuteTime": {
     "end_time": "2023-10-03T15:08:43.305757900Z",
     "start_time": "2023-10-03T15:08:43.120287200Z"
    }
   },
   "outputs": [],
   "source": []
  },
  {
   "cell_type": "code",
   "execution_count": null,
   "id": "093707f9-991e-4c7e-b45c-8301fcd14bb6",
   "metadata": {
    "ExecuteTime": {
     "end_time": "2023-10-03T15:08:43.321421200Z",
     "start_time": "2023-10-03T15:08:43.120287200Z"
    }
   },
   "outputs": [],
   "source": [
    "with open('viz_v14/male_wing_viz_v14.json', encoding='utf8') as json_file:\n",
    "    viz = json.load(json_file)"
   ]
  },
  {
   "cell_type": "code",
   "execution_count": null,
   "id": "fe0395c8-6a3c-4971-8128-e5066b8f3d33",
   "metadata": {
    "ExecuteTime": {
     "end_time": "2023-10-03T15:08:43.337114500Z",
     "start_time": "2023-10-03T15:08:43.152479800Z"
    }
   },
   "outputs": [],
   "source": [
    "male_wing_viz = viz['data'][0]['values']"
   ]
  },
  {
   "cell_type": "code",
   "execution_count": null,
   "id": "29c084d0-a878-4098-917a-15545b5d8535",
   "metadata": {
    "ExecuteTime": {
     "end_time": "2023-10-03T15:08:44.700915600Z",
     "start_time": "2023-10-03T15:08:43.258262700Z"
    }
   },
   "outputs": [],
   "source": [
    "plot_fixed_graph2(pruned_vasc_graph_comp_male, male_wing_viz, draw_labels=True, filename='male_wing')"
   ]
  },
  {
   "cell_type": "code",
   "execution_count": null,
   "id": "bd110826-012a-4e96-be1f-c068b741e578",
   "metadata": {
    "ExecuteTime": {
     "end_time": "2023-10-03T15:08:46.867658Z",
     "start_time": "2023-10-03T15:08:44.732597500Z"
    }
   },
   "outputs": [],
   "source": [
    "plot_fixed_graph2(pruned_vasc_graph_comp_male, male_wing_viz, bundle_edges=True, filename='male_wing')"
   ]
  },
  {
   "cell_type": "markdown",
   "id": "963a2c14-993c-466e-a0af-a188defdd029",
   "metadata": {},
   "source": [
    "# Adobe Illustrator"
   ]
  },
  {
   "cell_type": "markdown",
   "id": "2e5c75c8-9f34-476c-a2cf-c416260de33d",
   "metadata": {},
   "source": [
    "1. Canvas size: 1780 x 1780\n",
    "2. Import female wing: \n",
    "    * X: 920\n",
    "    * Y: 890\n",
    "    * W: 1720\n",
    "    * H: 1720\n",
    "3. Import famele vascular network and do the layover\n",
    "    * X: 920\n",
    "    * Y: 890\n",
    "    * W: 1720\n",
    "    * H: 1720\n",
    "4. Import the female bubbles \n",
    "5. Group the female wing and its components and mirror it \n",
    "6. Import male wing, vascular network, and bubbles"
   ]
  },
  {
   "cell_type": "code",
   "execution_count": null,
   "id": "058160aa-7ef7-4ffc-b2a6-a833f7ce835a",
   "metadata": {},
   "outputs": [],
   "source": []
  }
 ],
 "metadata": {
  "kernelspec": {
   "display_name": "Python 3 (ipykernel)",
   "language": "python",
   "name": "python3"
  },
  "language_info": {
   "codemirror_mode": {
    "name": "ipython",
    "version": 3
   },
   "file_extension": ".py",
   "mimetype": "text/x-python",
   "name": "python",
   "nbconvert_exporter": "python",
   "pygments_lexer": "ipython3",
   "version": "3.7.9"
  }
 },
 "nbformat": 4,
 "nbformat_minor": 5
}
