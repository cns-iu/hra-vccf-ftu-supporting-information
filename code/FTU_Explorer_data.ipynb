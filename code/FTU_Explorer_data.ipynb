{
 "cells": [
  {
   "cell_type": "markdown",
   "id": "f50e10c3",
   "metadata": {},
   "source": [
    "### Import libraries"
   ]
  },
  {
   "cell_type": "code",
   "execution_count": 24,
   "id": "9cc62454-fb1b-4294-94a7-f216bef01956",
   "metadata": {
    "tags": []
   },
   "outputs": [],
   "source": [
    "import numpy as np\n",
    "import pandas as pd\n",
    "import scanpy as sc\n",
    "import anndata as ad\n",
    "import csv"
   ]
  },
  {
   "cell_type": "markdown",
   "id": "d86ac20a",
   "metadata": {},
   "source": [
    "### Process Kidney data"
   ]
  },
  {
   "cell_type": "markdown",
   "id": "f76370f8",
   "metadata": {},
   "source": [
    "##### Load gene expression matrix"
   ]
  },
  {
   "cell_type": "code",
   "execution_count": 25,
   "id": "e7f6d771",
   "metadata": {},
   "outputs": [],
   "source": [
    "anndata_kidney = sc.read_mtx('D:\\\\vostro\\\\Degree\\\\PhD\\\\RA\\\\Publication\\\\Kidney\\\\E-CURD-119-quantification-raw-files\\\\E-CURD-119.aggregated_filtered_counts.mtx')"
   ]
  },
  {
   "cell_type": "code",
   "execution_count": 26,
   "id": "e7f2b4c9",
   "metadata": {},
   "outputs": [],
   "source": [
    "df_kidney = anndata_kidney.to_df()"
   ]
  },
  {
   "cell_type": "code",
   "execution_count": 27,
   "id": "f5cebec3",
   "metadata": {},
   "outputs": [
    {
     "data": {
      "text/html": [
       "<div>\n",
       "<style scoped>\n",
       "    .dataframe tbody tr th:only-of-type {\n",
       "        vertical-align: middle;\n",
       "    }\n",
       "\n",
       "    .dataframe tbody tr th {\n",
       "        vertical-align: top;\n",
       "    }\n",
       "\n",
       "    .dataframe thead th {\n",
       "        text-align: right;\n",
       "    }\n",
       "</style>\n",
       "<table border=\"1\" class=\"dataframe\">\n",
       "  <thead>\n",
       "    <tr style=\"text-align: right;\">\n",
       "      <th></th>\n",
       "      <th>0</th>\n",
       "      <th>1</th>\n",
       "      <th>2</th>\n",
       "      <th>3</th>\n",
       "      <th>4</th>\n",
       "      <th>5</th>\n",
       "      <th>6</th>\n",
       "      <th>7</th>\n",
       "      <th>8</th>\n",
       "      <th>9</th>\n",
       "      <th>...</th>\n",
       "      <th>12647</th>\n",
       "      <th>12648</th>\n",
       "      <th>12649</th>\n",
       "      <th>12650</th>\n",
       "      <th>12651</th>\n",
       "      <th>12652</th>\n",
       "      <th>12653</th>\n",
       "      <th>12654</th>\n",
       "      <th>12655</th>\n",
       "      <th>12656</th>\n",
       "    </tr>\n",
       "  </thead>\n",
       "  <tbody>\n",
       "    <tr>\n",
       "      <th>0</th>\n",
       "      <td>0.0</td>\n",
       "      <td>0.0</td>\n",
       "      <td>0.0</td>\n",
       "      <td>0.0</td>\n",
       "      <td>0.0</td>\n",
       "      <td>0.0</td>\n",
       "      <td>0.0</td>\n",
       "      <td>0.0</td>\n",
       "      <td>0.0</td>\n",
       "      <td>0.0</td>\n",
       "      <td>...</td>\n",
       "      <td>1.0</td>\n",
       "      <td>0.0</td>\n",
       "      <td>0.0</td>\n",
       "      <td>0.0</td>\n",
       "      <td>0.0</td>\n",
       "      <td>0.0</td>\n",
       "      <td>0.0</td>\n",
       "      <td>0.0</td>\n",
       "      <td>0.0</td>\n",
       "      <td>0.0</td>\n",
       "    </tr>\n",
       "    <tr>\n",
       "      <th>1</th>\n",
       "      <td>0.0</td>\n",
       "      <td>0.0</td>\n",
       "      <td>0.0</td>\n",
       "      <td>0.0</td>\n",
       "      <td>0.0</td>\n",
       "      <td>0.0</td>\n",
       "      <td>0.0</td>\n",
       "      <td>0.0</td>\n",
       "      <td>0.0</td>\n",
       "      <td>0.0</td>\n",
       "      <td>...</td>\n",
       "      <td>0.0</td>\n",
       "      <td>0.0</td>\n",
       "      <td>0.0</td>\n",
       "      <td>0.0</td>\n",
       "      <td>0.0</td>\n",
       "      <td>0.0</td>\n",
       "      <td>0.0</td>\n",
       "      <td>0.0</td>\n",
       "      <td>0.0</td>\n",
       "      <td>0.0</td>\n",
       "    </tr>\n",
       "    <tr>\n",
       "      <th>2</th>\n",
       "      <td>1.0</td>\n",
       "      <td>0.0</td>\n",
       "      <td>0.0</td>\n",
       "      <td>0.0</td>\n",
       "      <td>0.0</td>\n",
       "      <td>0.0</td>\n",
       "      <td>0.0</td>\n",
       "      <td>2.0</td>\n",
       "      <td>0.0</td>\n",
       "      <td>0.0</td>\n",
       "      <td>...</td>\n",
       "      <td>0.0</td>\n",
       "      <td>0.0</td>\n",
       "      <td>0.0</td>\n",
       "      <td>0.0</td>\n",
       "      <td>0.0</td>\n",
       "      <td>0.0</td>\n",
       "      <td>0.0</td>\n",
       "      <td>0.0</td>\n",
       "      <td>0.0</td>\n",
       "      <td>0.0</td>\n",
       "    </tr>\n",
       "    <tr>\n",
       "      <th>3</th>\n",
       "      <td>0.0</td>\n",
       "      <td>0.0</td>\n",
       "      <td>0.0</td>\n",
       "      <td>0.0</td>\n",
       "      <td>1.0</td>\n",
       "      <td>0.0</td>\n",
       "      <td>0.0</td>\n",
       "      <td>0.0</td>\n",
       "      <td>0.0</td>\n",
       "      <td>0.0</td>\n",
       "      <td>...</td>\n",
       "      <td>1.0</td>\n",
       "      <td>0.0</td>\n",
       "      <td>0.0</td>\n",
       "      <td>0.0</td>\n",
       "      <td>0.0</td>\n",
       "      <td>0.0</td>\n",
       "      <td>0.0</td>\n",
       "      <td>0.0</td>\n",
       "      <td>0.0</td>\n",
       "      <td>0.0</td>\n",
       "    </tr>\n",
       "    <tr>\n",
       "      <th>4</th>\n",
       "      <td>0.0</td>\n",
       "      <td>0.0</td>\n",
       "      <td>0.0</td>\n",
       "      <td>0.0</td>\n",
       "      <td>0.0</td>\n",
       "      <td>0.0</td>\n",
       "      <td>0.0</td>\n",
       "      <td>0.0</td>\n",
       "      <td>0.0</td>\n",
       "      <td>0.0</td>\n",
       "      <td>...</td>\n",
       "      <td>0.0</td>\n",
       "      <td>0.0</td>\n",
       "      <td>0.0</td>\n",
       "      <td>0.0</td>\n",
       "      <td>0.0</td>\n",
       "      <td>0.0</td>\n",
       "      <td>0.0</td>\n",
       "      <td>0.0</td>\n",
       "      <td>0.0</td>\n",
       "      <td>0.0</td>\n",
       "    </tr>\n",
       "    <tr>\n",
       "      <th>...</th>\n",
       "      <td>...</td>\n",
       "      <td>...</td>\n",
       "      <td>...</td>\n",
       "      <td>...</td>\n",
       "      <td>...</td>\n",
       "      <td>...</td>\n",
       "      <td>...</td>\n",
       "      <td>...</td>\n",
       "      <td>...</td>\n",
       "      <td>...</td>\n",
       "      <td>...</td>\n",
       "      <td>...</td>\n",
       "      <td>...</td>\n",
       "      <td>...</td>\n",
       "      <td>...</td>\n",
       "      <td>...</td>\n",
       "      <td>...</td>\n",
       "      <td>...</td>\n",
       "      <td>...</td>\n",
       "      <td>...</td>\n",
       "      <td>...</td>\n",
       "    </tr>\n",
       "    <tr>\n",
       "      <th>22787</th>\n",
       "      <td>0.0</td>\n",
       "      <td>0.0</td>\n",
       "      <td>0.0</td>\n",
       "      <td>0.0</td>\n",
       "      <td>0.0</td>\n",
       "      <td>0.0</td>\n",
       "      <td>0.5</td>\n",
       "      <td>0.0</td>\n",
       "      <td>0.0</td>\n",
       "      <td>0.0</td>\n",
       "      <td>...</td>\n",
       "      <td>0.0</td>\n",
       "      <td>0.0</td>\n",
       "      <td>0.0</td>\n",
       "      <td>0.0</td>\n",
       "      <td>0.0</td>\n",
       "      <td>0.0</td>\n",
       "      <td>0.0</td>\n",
       "      <td>0.0</td>\n",
       "      <td>0.0</td>\n",
       "      <td>0.0</td>\n",
       "    </tr>\n",
       "    <tr>\n",
       "      <th>22788</th>\n",
       "      <td>0.0</td>\n",
       "      <td>0.0</td>\n",
       "      <td>0.0</td>\n",
       "      <td>0.0</td>\n",
       "      <td>0.0</td>\n",
       "      <td>0.0</td>\n",
       "      <td>0.0</td>\n",
       "      <td>0.0</td>\n",
       "      <td>0.0</td>\n",
       "      <td>0.0</td>\n",
       "      <td>...</td>\n",
       "      <td>0.0</td>\n",
       "      <td>0.0</td>\n",
       "      <td>0.0</td>\n",
       "      <td>0.0</td>\n",
       "      <td>0.0</td>\n",
       "      <td>0.0</td>\n",
       "      <td>0.0</td>\n",
       "      <td>0.0</td>\n",
       "      <td>0.0</td>\n",
       "      <td>0.0</td>\n",
       "    </tr>\n",
       "    <tr>\n",
       "      <th>22789</th>\n",
       "      <td>0.0</td>\n",
       "      <td>0.0</td>\n",
       "      <td>0.0</td>\n",
       "      <td>0.0</td>\n",
       "      <td>0.0</td>\n",
       "      <td>0.0</td>\n",
       "      <td>0.0</td>\n",
       "      <td>0.0</td>\n",
       "      <td>0.0</td>\n",
       "      <td>0.0</td>\n",
       "      <td>...</td>\n",
       "      <td>0.0</td>\n",
       "      <td>0.0</td>\n",
       "      <td>0.0</td>\n",
       "      <td>0.0</td>\n",
       "      <td>0.0</td>\n",
       "      <td>0.0</td>\n",
       "      <td>0.0</td>\n",
       "      <td>0.0</td>\n",
       "      <td>0.0</td>\n",
       "      <td>0.0</td>\n",
       "    </tr>\n",
       "    <tr>\n",
       "      <th>22790</th>\n",
       "      <td>0.0</td>\n",
       "      <td>0.0</td>\n",
       "      <td>0.0</td>\n",
       "      <td>0.0</td>\n",
       "      <td>0.0</td>\n",
       "      <td>0.0</td>\n",
       "      <td>0.0</td>\n",
       "      <td>0.0</td>\n",
       "      <td>0.0</td>\n",
       "      <td>0.0</td>\n",
       "      <td>...</td>\n",
       "      <td>0.0</td>\n",
       "      <td>0.0</td>\n",
       "      <td>0.0</td>\n",
       "      <td>0.0</td>\n",
       "      <td>0.0</td>\n",
       "      <td>0.0</td>\n",
       "      <td>0.0</td>\n",
       "      <td>0.0</td>\n",
       "      <td>0.0</td>\n",
       "      <td>0.0</td>\n",
       "    </tr>\n",
       "    <tr>\n",
       "      <th>22791</th>\n",
       "      <td>0.0</td>\n",
       "      <td>0.0</td>\n",
       "      <td>0.0</td>\n",
       "      <td>0.0</td>\n",
       "      <td>1.0</td>\n",
       "      <td>0.0</td>\n",
       "      <td>0.0</td>\n",
       "      <td>0.0</td>\n",
       "      <td>0.0</td>\n",
       "      <td>0.0</td>\n",
       "      <td>...</td>\n",
       "      <td>0.0</td>\n",
       "      <td>0.0</td>\n",
       "      <td>0.0</td>\n",
       "      <td>0.0</td>\n",
       "      <td>0.0</td>\n",
       "      <td>0.0</td>\n",
       "      <td>1.0</td>\n",
       "      <td>0.0</td>\n",
       "      <td>0.0</td>\n",
       "      <td>0.0</td>\n",
       "    </tr>\n",
       "  </tbody>\n",
       "</table>\n",
       "<p>22792 rows × 12657 columns</p>\n",
       "</div>"
      ],
      "text/plain": [
       "         0    1    2    3    4    5    6    7    8    9  ...  12647  12648  \\\n",
       "0      0.0  0.0  0.0  0.0  0.0  0.0  0.0  0.0  0.0  0.0  ...    1.0    0.0   \n",
       "1      0.0  0.0  0.0  0.0  0.0  0.0  0.0  0.0  0.0  0.0  ...    0.0    0.0   \n",
       "2      1.0  0.0  0.0  0.0  0.0  0.0  0.0  2.0  0.0  0.0  ...    0.0    0.0   \n",
       "3      0.0  0.0  0.0  0.0  1.0  0.0  0.0  0.0  0.0  0.0  ...    1.0    0.0   \n",
       "4      0.0  0.0  0.0  0.0  0.0  0.0  0.0  0.0  0.0  0.0  ...    0.0    0.0   \n",
       "...    ...  ...  ...  ...  ...  ...  ...  ...  ...  ...  ...    ...    ...   \n",
       "22787  0.0  0.0  0.0  0.0  0.0  0.0  0.5  0.0  0.0  0.0  ...    0.0    0.0   \n",
       "22788  0.0  0.0  0.0  0.0  0.0  0.0  0.0  0.0  0.0  0.0  ...    0.0    0.0   \n",
       "22789  0.0  0.0  0.0  0.0  0.0  0.0  0.0  0.0  0.0  0.0  ...    0.0    0.0   \n",
       "22790  0.0  0.0  0.0  0.0  0.0  0.0  0.0  0.0  0.0  0.0  ...    0.0    0.0   \n",
       "22791  0.0  0.0  0.0  0.0  1.0  0.0  0.0  0.0  0.0  0.0  ...    0.0    0.0   \n",
       "\n",
       "       12649  12650  12651  12652  12653  12654  12655  12656  \n",
       "0        0.0    0.0    0.0    0.0    0.0    0.0    0.0    0.0  \n",
       "1        0.0    0.0    0.0    0.0    0.0    0.0    0.0    0.0  \n",
       "2        0.0    0.0    0.0    0.0    0.0    0.0    0.0    0.0  \n",
       "3        0.0    0.0    0.0    0.0    0.0    0.0    0.0    0.0  \n",
       "4        0.0    0.0    0.0    0.0    0.0    0.0    0.0    0.0  \n",
       "...      ...    ...    ...    ...    ...    ...    ...    ...  \n",
       "22787    0.0    0.0    0.0    0.0    0.0    0.0    0.0    0.0  \n",
       "22788    0.0    0.0    0.0    0.0    0.0    0.0    0.0    0.0  \n",
       "22789    0.0    0.0    0.0    0.0    0.0    0.0    0.0    0.0  \n",
       "22790    0.0    0.0    0.0    0.0    0.0    0.0    0.0    0.0  \n",
       "22791    0.0    0.0    0.0    0.0    1.0    0.0    0.0    0.0  \n",
       "\n",
       "[22792 rows x 12657 columns]"
      ]
     },
     "execution_count": 27,
     "metadata": {},
     "output_type": "execute_result"
    }
   ],
   "source": [
    "df_kidney"
   ]
  },
  {
   "cell_type": "markdown",
   "id": "b4fde9a0",
   "metadata": {},
   "source": [
    "##### Load genes and cell type information for kidney"
   ]
  },
  {
   "cell_type": "code",
   "execution_count": 28,
   "id": "509f046b",
   "metadata": {},
   "outputs": [],
   "source": [
    "index_kidney = pd.read_csv('D:\\\\vostro\\\\Degree\\\\PhD\\\\RA\\\\Publication\\\\Kidney\\\\E-CURD-119-quantification-raw-files\\\\E-CURD-119.aggregated_filtered_counts.mtx_rows', names = ['col1', 'col2'], sep = '\\t')\n",
    "cols_kidney = pd.read_csv('D:\\\\vostro\\\\Degree\\\\PhD\\\\RA\\\\Publication\\\\Kidney\\\\E-CURD-119-quantification-raw-files\\\\E-CURD-119.aggregated_filtered_counts.mtx_cols', names = ['col1'])"
   ]
  },
  {
   "cell_type": "code",
   "execution_count": 29,
   "id": "40d0255f",
   "metadata": {},
   "outputs": [
    {
     "data": {
      "text/html": [
       "<div>\n",
       "<style scoped>\n",
       "    .dataframe tbody tr th:only-of-type {\n",
       "        vertical-align: middle;\n",
       "    }\n",
       "\n",
       "    .dataframe tbody tr th {\n",
       "        vertical-align: top;\n",
       "    }\n",
       "\n",
       "    .dataframe thead th {\n",
       "        text-align: right;\n",
       "    }\n",
       "</style>\n",
       "<table border=\"1\" class=\"dataframe\">\n",
       "  <thead>\n",
       "    <tr style=\"text-align: right;\">\n",
       "      <th></th>\n",
       "      <th>col1</th>\n",
       "    </tr>\n",
       "  </thead>\n",
       "  <tbody>\n",
       "    <tr>\n",
       "      <th>0</th>\n",
       "      <td>ENSG00000000003</td>\n",
       "    </tr>\n",
       "    <tr>\n",
       "      <th>1</th>\n",
       "      <td>ENSG00000000005</td>\n",
       "    </tr>\n",
       "    <tr>\n",
       "      <th>2</th>\n",
       "      <td>ENSG00000000419</td>\n",
       "    </tr>\n",
       "    <tr>\n",
       "      <th>3</th>\n",
       "      <td>ENSG00000000457</td>\n",
       "    </tr>\n",
       "    <tr>\n",
       "      <th>4</th>\n",
       "      <td>ENSG00000000460</td>\n",
       "    </tr>\n",
       "    <tr>\n",
       "      <th>...</th>\n",
       "      <td>...</td>\n",
       "    </tr>\n",
       "    <tr>\n",
       "      <th>22787</th>\n",
       "      <td>ENSG00000289695</td>\n",
       "    </tr>\n",
       "    <tr>\n",
       "      <th>22788</th>\n",
       "      <td>ENSG00000289697</td>\n",
       "    </tr>\n",
       "    <tr>\n",
       "      <th>22789</th>\n",
       "      <td>ENSG00000289700</td>\n",
       "    </tr>\n",
       "    <tr>\n",
       "      <th>22790</th>\n",
       "      <td>ENSG00000289701</td>\n",
       "    </tr>\n",
       "    <tr>\n",
       "      <th>22791</th>\n",
       "      <td>ENSG00000289716</td>\n",
       "    </tr>\n",
       "  </tbody>\n",
       "</table>\n",
       "<p>22792 rows × 1 columns</p>\n",
       "</div>"
      ],
      "text/plain": [
       "                  col1\n",
       "0      ENSG00000000003\n",
       "1      ENSG00000000005\n",
       "2      ENSG00000000419\n",
       "3      ENSG00000000457\n",
       "4      ENSG00000000460\n",
       "...                ...\n",
       "22787  ENSG00000289695\n",
       "22788  ENSG00000289697\n",
       "22789  ENSG00000289700\n",
       "22790  ENSG00000289701\n",
       "22791  ENSG00000289716\n",
       "\n",
       "[22792 rows x 1 columns]"
      ]
     },
     "execution_count": 29,
     "metadata": {},
     "output_type": "execute_result"
    }
   ],
   "source": [
    "index_kidney = index_kidney.drop(['col2'], axis = 1)\n",
    "index_kidney"
   ]
  },
  {
   "cell_type": "code",
   "execution_count": 30,
   "id": "0f80ab94",
   "metadata": {},
   "outputs": [
    {
     "data": {
      "text/html": [
       "<div>\n",
       "<style scoped>\n",
       "    .dataframe tbody tr th:only-of-type {\n",
       "        vertical-align: middle;\n",
       "    }\n",
       "\n",
       "    .dataframe tbody tr th {\n",
       "        vertical-align: top;\n",
       "    }\n",
       "\n",
       "    .dataframe thead th {\n",
       "        text-align: right;\n",
       "    }\n",
       "</style>\n",
       "<table border=\"1\" class=\"dataframe\">\n",
       "  <thead>\n",
       "    <tr style=\"text-align: right;\">\n",
       "      <th></th>\n",
       "      <th>col1</th>\n",
       "    </tr>\n",
       "  </thead>\n",
       "  <tbody>\n",
       "    <tr>\n",
       "      <th>0</th>\n",
       "      <td>SAMN15040593-AAACCTGCATGCCTAA</td>\n",
       "    </tr>\n",
       "    <tr>\n",
       "      <th>1</th>\n",
       "      <td>SAMN15040593-AAACGGGAGTACATGA</td>\n",
       "    </tr>\n",
       "    <tr>\n",
       "      <th>2</th>\n",
       "      <td>SAMN15040593-AAACGGGCAAAGCGGT</td>\n",
       "    </tr>\n",
       "    <tr>\n",
       "      <th>3</th>\n",
       "      <td>SAMN15040593-AAAGCAACAAAGGAAG</td>\n",
       "    </tr>\n",
       "    <tr>\n",
       "      <th>4</th>\n",
       "      <td>SAMN15040593-AAAGCAACAACGATGG</td>\n",
       "    </tr>\n",
       "  </tbody>\n",
       "</table>\n",
       "</div>"
      ],
      "text/plain": [
       "                            col1\n",
       "0  SAMN15040593-AAACCTGCATGCCTAA\n",
       "1  SAMN15040593-AAACGGGAGTACATGA\n",
       "2  SAMN15040593-AAACGGGCAAAGCGGT\n",
       "3  SAMN15040593-AAAGCAACAAAGGAAG\n",
       "4  SAMN15040593-AAAGCAACAACGATGG"
      ]
     },
     "execution_count": 30,
     "metadata": {},
     "output_type": "execute_result"
    }
   ],
   "source": [
    "cols_kidney.head()"
   ]
  },
  {
   "cell_type": "markdown",
   "id": "3432f513",
   "metadata": {},
   "source": [
    "##### Load Reference data of Kidney"
   ]
  },
  {
   "cell_type": "code",
   "execution_count": 31,
   "id": "8a44f056",
   "metadata": {},
   "outputs": [],
   "source": [
    "ref_data_kidney = pd.read_csv('D:\\\\vostro\\\\Degree\\\\PhD\\\\RA\\\\Publication\\\\Kidney\\\\ExpDesign-E-CURD-119.tsv', sep = '\\t')"
   ]
  },
  {
   "cell_type": "code",
   "execution_count": 32,
   "id": "f3e3b86b",
   "metadata": {},
   "outputs": [
    {
     "data": {
      "text/html": [
       "<div>\n",
       "<style scoped>\n",
       "    .dataframe tbody tr th:only-of-type {\n",
       "        vertical-align: middle;\n",
       "    }\n",
       "\n",
       "    .dataframe tbody tr th {\n",
       "        vertical-align: top;\n",
       "    }\n",
       "\n",
       "    .dataframe thead th {\n",
       "        text-align: right;\n",
       "    }\n",
       "</style>\n",
       "<table border=\"1\" class=\"dataframe\">\n",
       "  <thead>\n",
       "    <tr style=\"text-align: right;\">\n",
       "      <th></th>\n",
       "      <th>Assay</th>\n",
       "      <th>Sample Characteristic[organism]</th>\n",
       "      <th>Sample Characteristic Ontology Term[organism]</th>\n",
       "      <th>Sample Characteristic[individual]</th>\n",
       "      <th>Sample Characteristic Ontology Term[individual]</th>\n",
       "      <th>Sample Characteristic[ethnic group]</th>\n",
       "      <th>Sample Characteristic Ontology Term[ethnic group]</th>\n",
       "      <th>Sample Characteristic[sex]</th>\n",
       "      <th>Sample Characteristic Ontology Term[sex]</th>\n",
       "      <th>Sample Characteristic[age]</th>\n",
       "      <th>...</th>\n",
       "      <th>Sample Characteristic[organism part]</th>\n",
       "      <th>Sample Characteristic Ontology Term[organism part]</th>\n",
       "      <th>Sample Characteristic[clinical information]</th>\n",
       "      <th>Sample Characteristic Ontology Term[clinical information]</th>\n",
       "      <th>Factor Value[sex]</th>\n",
       "      <th>Factor Value Ontology Term[sex]</th>\n",
       "      <th>Factor Value[inferred cell type - ontology labels]</th>\n",
       "      <th>Factor Value Ontology Term[inferred cell type - ontology labels]</th>\n",
       "      <th>Factor Value[inferred cell type - authors labels]</th>\n",
       "      <th>Factor Value Ontology Term[inferred cell type - authors labels]</th>\n",
       "    </tr>\n",
       "  </thead>\n",
       "  <tbody>\n",
       "    <tr>\n",
       "      <th>0</th>\n",
       "      <td>SAMN15040593-AAACCTGCATGCCTAA</td>\n",
       "      <td>Homo sapiens</td>\n",
       "      <td>http://purl.obolibrary.org/obo/NCBITaxon_9606</td>\n",
       "      <td>Healthy5</td>\n",
       "      <td>NaN</td>\n",
       "      <td>European</td>\n",
       "      <td>http://purl.obolibrary.org/obo/HANCESTRO_0005</td>\n",
       "      <td>female</td>\n",
       "      <td>http://purl.obolibrary.org/obo/PATO_0000383</td>\n",
       "      <td>52 year</td>\n",
       "      <td>...</td>\n",
       "      <td>cortex of kidney</td>\n",
       "      <td>http://purl.obolibrary.org/obo/UBERON_0001225</td>\n",
       "      <td>glomerular filtration rate 98 ml/min/1.73âm2...</td>\n",
       "      <td>NaN</td>\n",
       "      <td>female</td>\n",
       "      <td>http://purl.obolibrary.org/obo/PATO_0000383</td>\n",
       "      <td>NaN</td>\n",
       "      <td>NaN</td>\n",
       "      <td>NaN</td>\n",
       "      <td>NaN</td>\n",
       "    </tr>\n",
       "    <tr>\n",
       "      <th>1</th>\n",
       "      <td>SAMN15040593-AAACGGGAGTACATGA</td>\n",
       "      <td>Homo sapiens</td>\n",
       "      <td>http://purl.obolibrary.org/obo/NCBITaxon_9606</td>\n",
       "      <td>Healthy5</td>\n",
       "      <td>NaN</td>\n",
       "      <td>European</td>\n",
       "      <td>http://purl.obolibrary.org/obo/HANCESTRO_0005</td>\n",
       "      <td>female</td>\n",
       "      <td>http://purl.obolibrary.org/obo/PATO_0000383</td>\n",
       "      <td>52 year</td>\n",
       "      <td>...</td>\n",
       "      <td>cortex of kidney</td>\n",
       "      <td>http://purl.obolibrary.org/obo/UBERON_0001225</td>\n",
       "      <td>glomerular filtration rate 98 ml/min/1.73âm2...</td>\n",
       "      <td>NaN</td>\n",
       "      <td>female</td>\n",
       "      <td>http://purl.obolibrary.org/obo/PATO_0000383</td>\n",
       "      <td>kidney loop of Henle thick ascending limb epit...</td>\n",
       "      <td>NaN</td>\n",
       "      <td>thick ascending limb</td>\n",
       "      <td>NaN</td>\n",
       "    </tr>\n",
       "    <tr>\n",
       "      <th>2</th>\n",
       "      <td>SAMN15040593-AAACGGGCAAAGCGGT</td>\n",
       "      <td>Homo sapiens</td>\n",
       "      <td>http://purl.obolibrary.org/obo/NCBITaxon_9606</td>\n",
       "      <td>Healthy5</td>\n",
       "      <td>NaN</td>\n",
       "      <td>European</td>\n",
       "      <td>http://purl.obolibrary.org/obo/HANCESTRO_0005</td>\n",
       "      <td>female</td>\n",
       "      <td>http://purl.obolibrary.org/obo/PATO_0000383</td>\n",
       "      <td>52 year</td>\n",
       "      <td>...</td>\n",
       "      <td>cortex of kidney</td>\n",
       "      <td>http://purl.obolibrary.org/obo/UBERON_0001225</td>\n",
       "      <td>glomerular filtration rate 98 ml/min/1.73âm2...</td>\n",
       "      <td>NaN</td>\n",
       "      <td>female</td>\n",
       "      <td>http://purl.obolibrary.org/obo/PATO_0000383</td>\n",
       "      <td>fibroblast</td>\n",
       "      <td>http://purl.obolibrary.org/obo/CL_0000057</td>\n",
       "      <td>fibroblast</td>\n",
       "      <td>http://purl.obolibrary.org/obo/CL_0000057</td>\n",
       "    </tr>\n",
       "    <tr>\n",
       "      <th>3</th>\n",
       "      <td>SAMN15040593-AAAGCAACAAAGGAAG</td>\n",
       "      <td>Homo sapiens</td>\n",
       "      <td>http://purl.obolibrary.org/obo/NCBITaxon_9606</td>\n",
       "      <td>Healthy5</td>\n",
       "      <td>NaN</td>\n",
       "      <td>European</td>\n",
       "      <td>http://purl.obolibrary.org/obo/HANCESTRO_0005</td>\n",
       "      <td>female</td>\n",
       "      <td>http://purl.obolibrary.org/obo/PATO_0000383</td>\n",
       "      <td>52 year</td>\n",
       "      <td>...</td>\n",
       "      <td>cortex of kidney</td>\n",
       "      <td>http://purl.obolibrary.org/obo/UBERON_0001225</td>\n",
       "      <td>glomerular filtration rate 98 ml/min/1.73âm2...</td>\n",
       "      <td>NaN</td>\n",
       "      <td>female</td>\n",
       "      <td>http://purl.obolibrary.org/obo/PATO_0000383</td>\n",
       "      <td>NaN</td>\n",
       "      <td>NaN</td>\n",
       "      <td>NaN</td>\n",
       "      <td>NaN</td>\n",
       "    </tr>\n",
       "    <tr>\n",
       "      <th>4</th>\n",
       "      <td>SAMN15040593-AAAGCAACAACGATGG</td>\n",
       "      <td>Homo sapiens</td>\n",
       "      <td>http://purl.obolibrary.org/obo/NCBITaxon_9606</td>\n",
       "      <td>Healthy5</td>\n",
       "      <td>NaN</td>\n",
       "      <td>European</td>\n",
       "      <td>http://purl.obolibrary.org/obo/HANCESTRO_0005</td>\n",
       "      <td>female</td>\n",
       "      <td>http://purl.obolibrary.org/obo/PATO_0000383</td>\n",
       "      <td>52 year</td>\n",
       "      <td>...</td>\n",
       "      <td>cortex of kidney</td>\n",
       "      <td>http://purl.obolibrary.org/obo/UBERON_0001225</td>\n",
       "      <td>glomerular filtration rate 98 ml/min/1.73âm2...</td>\n",
       "      <td>NaN</td>\n",
       "      <td>female</td>\n",
       "      <td>http://purl.obolibrary.org/obo/PATO_0000383</td>\n",
       "      <td>kidney distal convoluted tubule epithelial cell</td>\n",
       "      <td>NaN</td>\n",
       "      <td>distal convoluted tubule 1</td>\n",
       "      <td>http://purl.obolibrary.org/obo/UBERON_0001292</td>\n",
       "    </tr>\n",
       "  </tbody>\n",
       "</table>\n",
       "<p>5 rows × 25 columns</p>\n",
       "</div>"
      ],
      "text/plain": [
       "                           Assay Sample Characteristic[organism]  \\\n",
       "0  SAMN15040593-AAACCTGCATGCCTAA                    Homo sapiens   \n",
       "1  SAMN15040593-AAACGGGAGTACATGA                    Homo sapiens   \n",
       "2  SAMN15040593-AAACGGGCAAAGCGGT                    Homo sapiens   \n",
       "3  SAMN15040593-AAAGCAACAAAGGAAG                    Homo sapiens   \n",
       "4  SAMN15040593-AAAGCAACAACGATGG                    Homo sapiens   \n",
       "\n",
       "   Sample Characteristic Ontology Term[organism]  \\\n",
       "0  http://purl.obolibrary.org/obo/NCBITaxon_9606   \n",
       "1  http://purl.obolibrary.org/obo/NCBITaxon_9606   \n",
       "2  http://purl.obolibrary.org/obo/NCBITaxon_9606   \n",
       "3  http://purl.obolibrary.org/obo/NCBITaxon_9606   \n",
       "4  http://purl.obolibrary.org/obo/NCBITaxon_9606   \n",
       "\n",
       "  Sample Characteristic[individual]  \\\n",
       "0                          Healthy5   \n",
       "1                          Healthy5   \n",
       "2                          Healthy5   \n",
       "3                          Healthy5   \n",
       "4                          Healthy5   \n",
       "\n",
       "   Sample Characteristic Ontology Term[individual]  \\\n",
       "0                                              NaN   \n",
       "1                                              NaN   \n",
       "2                                              NaN   \n",
       "3                                              NaN   \n",
       "4                                              NaN   \n",
       "\n",
       "  Sample Characteristic[ethnic group]  \\\n",
       "0                            European   \n",
       "1                            European   \n",
       "2                            European   \n",
       "3                            European   \n",
       "4                            European   \n",
       "\n",
       "  Sample Characteristic Ontology Term[ethnic group]  \\\n",
       "0     http://purl.obolibrary.org/obo/HANCESTRO_0005   \n",
       "1     http://purl.obolibrary.org/obo/HANCESTRO_0005   \n",
       "2     http://purl.obolibrary.org/obo/HANCESTRO_0005   \n",
       "3     http://purl.obolibrary.org/obo/HANCESTRO_0005   \n",
       "4     http://purl.obolibrary.org/obo/HANCESTRO_0005   \n",
       "\n",
       "  Sample Characteristic[sex]     Sample Characteristic Ontology Term[sex]  \\\n",
       "0                     female  http://purl.obolibrary.org/obo/PATO_0000383   \n",
       "1                     female  http://purl.obolibrary.org/obo/PATO_0000383   \n",
       "2                     female  http://purl.obolibrary.org/obo/PATO_0000383   \n",
       "3                     female  http://purl.obolibrary.org/obo/PATO_0000383   \n",
       "4                     female  http://purl.obolibrary.org/obo/PATO_0000383   \n",
       "\n",
       "  Sample Characteristic[age]  ...  Sample Characteristic[organism part]  \\\n",
       "0                    52 year  ...                      cortex of kidney   \n",
       "1                    52 year  ...                      cortex of kidney   \n",
       "2                    52 year  ...                      cortex of kidney   \n",
       "3                    52 year  ...                      cortex of kidney   \n",
       "4                    52 year  ...                      cortex of kidney   \n",
       "\n",
       "  Sample Characteristic Ontology Term[organism part]  \\\n",
       "0      http://purl.obolibrary.org/obo/UBERON_0001225   \n",
       "1      http://purl.obolibrary.org/obo/UBERON_0001225   \n",
       "2      http://purl.obolibrary.org/obo/UBERON_0001225   \n",
       "3      http://purl.obolibrary.org/obo/UBERON_0001225   \n",
       "4      http://purl.obolibrary.org/obo/UBERON_0001225   \n",
       "\n",
       "         Sample Characteristic[clinical information]  \\\n",
       "0  glomerular filtration rate 98 ml/min/1.73âm2...   \n",
       "1  glomerular filtration rate 98 ml/min/1.73âm2...   \n",
       "2  glomerular filtration rate 98 ml/min/1.73âm2...   \n",
       "3  glomerular filtration rate 98 ml/min/1.73âm2...   \n",
       "4  glomerular filtration rate 98 ml/min/1.73âm2...   \n",
       "\n",
       "  Sample Characteristic Ontology Term[clinical information] Factor Value[sex]  \\\n",
       "0                                                NaN                   female   \n",
       "1                                                NaN                   female   \n",
       "2                                                NaN                   female   \n",
       "3                                                NaN                   female   \n",
       "4                                                NaN                   female   \n",
       "\n",
       "               Factor Value Ontology Term[sex]  \\\n",
       "0  http://purl.obolibrary.org/obo/PATO_0000383   \n",
       "1  http://purl.obolibrary.org/obo/PATO_0000383   \n",
       "2  http://purl.obolibrary.org/obo/PATO_0000383   \n",
       "3  http://purl.obolibrary.org/obo/PATO_0000383   \n",
       "4  http://purl.obolibrary.org/obo/PATO_0000383   \n",
       "\n",
       "  Factor Value[inferred cell type - ontology labels]  \\\n",
       "0                                                NaN   \n",
       "1  kidney loop of Henle thick ascending limb epit...   \n",
       "2                                         fibroblast   \n",
       "3                                                NaN   \n",
       "4    kidney distal convoluted tubule epithelial cell   \n",
       "\n",
       "  Factor Value Ontology Term[inferred cell type - ontology labels]  \\\n",
       "0                                                NaN                 \n",
       "1                                                NaN                 \n",
       "2          http://purl.obolibrary.org/obo/CL_0000057                 \n",
       "3                                                NaN                 \n",
       "4                                                NaN                 \n",
       "\n",
       "   Factor Value[inferred cell type - authors labels]  \\\n",
       "0                                                NaN   \n",
       "1                               thick ascending limb   \n",
       "2                                         fibroblast   \n",
       "3                                                NaN   \n",
       "4                         distal convoluted tubule 1   \n",
       "\n",
       "  Factor Value Ontology Term[inferred cell type - authors labels]  \n",
       "0                                                NaN               \n",
       "1                                                NaN               \n",
       "2          http://purl.obolibrary.org/obo/CL_0000057               \n",
       "3                                                NaN               \n",
       "4      http://purl.obolibrary.org/obo/UBERON_0001292               \n",
       "\n",
       "[5 rows x 25 columns]"
      ]
     },
     "execution_count": 32,
     "metadata": {},
     "output_type": "execute_result"
    }
   ],
   "source": [
    "ref_data_kidney.head()"
   ]
  },
  {
   "cell_type": "code",
   "execution_count": 33,
   "id": "4bb91a6d",
   "metadata": {},
   "outputs": [
    {
     "data": {
      "text/plain": [
       "Index(['Assay', 'Sample Characteristic[organism]',\n",
       "       'Sample Characteristic Ontology Term[organism]',\n",
       "       'Sample Characteristic[individual]',\n",
       "       'Sample Characteristic Ontology Term[individual]',\n",
       "       'Sample Characteristic[ethnic group]',\n",
       "       'Sample Characteristic Ontology Term[ethnic group]',\n",
       "       'Sample Characteristic[sex]',\n",
       "       'Sample Characteristic Ontology Term[sex]',\n",
       "       'Sample Characteristic[age]',\n",
       "       'Sample Characteristic Ontology Term[age]',\n",
       "       'Sample Characteristic[developmental stage]',\n",
       "       'Sample Characteristic Ontology Term[developmental stage]',\n",
       "       'Sample Characteristic[disease]',\n",
       "       'Sample Characteristic Ontology Term[disease]',\n",
       "       'Sample Characteristic[organism part]',\n",
       "       'Sample Characteristic Ontology Term[organism part]',\n",
       "       'Sample Characteristic[clinical information]',\n",
       "       'Sample Characteristic Ontology Term[clinical information]',\n",
       "       'Factor Value[sex]', 'Factor Value Ontology Term[sex]',\n",
       "       'Factor Value[inferred cell type - ontology labels]',\n",
       "       'Factor Value Ontology Term[inferred cell type - ontology labels]',\n",
       "       'Factor Value[inferred cell type - authors labels]',\n",
       "       'Factor Value Ontology Term[inferred cell type - authors labels]'],\n",
       "      dtype='object')"
      ]
     },
     "execution_count": 33,
     "metadata": {},
     "output_type": "execute_result"
    }
   ],
   "source": [
    "ref_data_kidney.columns"
   ]
  },
  {
   "cell_type": "code",
   "execution_count": 34,
   "id": "beb08967",
   "metadata": {},
   "outputs": [],
   "source": [
    "ref_data_kidney = ref_data_kidney.rename(columns={'Factor Value[inferred cell type - authors labels]' : 'Cell_Type', 'Factor Value Ontology Term[inferred cell type - authors labels]' : 'CL_ID'})"
   ]
  },
  {
   "cell_type": "code",
   "execution_count": 35,
   "id": "25a7e8bd",
   "metadata": {},
   "outputs": [],
   "source": [
    "ref_data_mod_kidney = ref_data_kidney[['Assay', 'Cell_Type', 'CL_ID']]"
   ]
  },
  {
   "cell_type": "code",
   "execution_count": 36,
   "id": "db338a95",
   "metadata": {},
   "outputs": [
    {
     "name": "stderr",
     "output_type": "stream",
     "text": [
      "C:\\Users\\Supriya\\AppData\\Local\\Temp\\ipykernel_9988\\2313623117.py:1: SettingWithCopyWarning: \n",
      "A value is trying to be set on a copy of a slice from a DataFrame.\n",
      "Try using .loc[row_indexer,col_indexer] = value instead\n",
      "\n",
      "See the caveats in the documentation: https://pandas.pydata.org/pandas-docs/stable/user_guide/indexing.html#returning-a-view-versus-a-copy\n",
      "  ref_data_mod_kidney['CL_ID'] = ref_data_mod_kidney['CL_ID'].str.split('/').str[-1]\n",
      "C:\\Users\\Supriya\\AppData\\Local\\Temp\\ipykernel_9988\\2313623117.py:3: SettingWithCopyWarning: \n",
      "A value is trying to be set on a copy of a slice from a DataFrame.\n",
      "Try using .loc[row_indexer,col_indexer] = value instead\n",
      "\n",
      "See the caveats in the documentation: https://pandas.pydata.org/pandas-docs/stable/user_guide/indexing.html#returning-a-view-versus-a-copy\n",
      "  ref_data_mod_kidney['CL_ID'] = ref_data_mod_kidney['CL_ID'].str.replace('_', ':')\n"
     ]
    },
    {
     "data": {
      "text/html": [
       "<div>\n",
       "<style scoped>\n",
       "    .dataframe tbody tr th:only-of-type {\n",
       "        vertical-align: middle;\n",
       "    }\n",
       "\n",
       "    .dataframe tbody tr th {\n",
       "        vertical-align: top;\n",
       "    }\n",
       "\n",
       "    .dataframe thead th {\n",
       "        text-align: right;\n",
       "    }\n",
       "</style>\n",
       "<table border=\"1\" class=\"dataframe\">\n",
       "  <thead>\n",
       "    <tr style=\"text-align: right;\">\n",
       "      <th></th>\n",
       "      <th>Assay</th>\n",
       "      <th>Cell_Type</th>\n",
       "      <th>CL_ID</th>\n",
       "    </tr>\n",
       "  </thead>\n",
       "  <tbody>\n",
       "    <tr>\n",
       "      <th>0</th>\n",
       "      <td>SAMN15040593-AAACCTGCATGCCTAA</td>\n",
       "      <td>NaN</td>\n",
       "      <td>NaN</td>\n",
       "    </tr>\n",
       "    <tr>\n",
       "      <th>1</th>\n",
       "      <td>SAMN15040593-AAACGGGAGTACATGA</td>\n",
       "      <td>thick ascending limb</td>\n",
       "      <td>NaN</td>\n",
       "    </tr>\n",
       "    <tr>\n",
       "      <th>2</th>\n",
       "      <td>SAMN15040593-AAACGGGCAAAGCGGT</td>\n",
       "      <td>fibroblast</td>\n",
       "      <td>CL:0000057</td>\n",
       "    </tr>\n",
       "    <tr>\n",
       "      <th>3</th>\n",
       "      <td>SAMN15040593-AAAGCAACAAAGGAAG</td>\n",
       "      <td>NaN</td>\n",
       "      <td>NaN</td>\n",
       "    </tr>\n",
       "    <tr>\n",
       "      <th>4</th>\n",
       "      <td>SAMN15040593-AAAGCAACAACGATGG</td>\n",
       "      <td>distal convoluted tubule 1</td>\n",
       "      <td>UBERON:0001292</td>\n",
       "    </tr>\n",
       "    <tr>\n",
       "      <th>...</th>\n",
       "      <td>...</td>\n",
       "      <td>...</td>\n",
       "      <td>...</td>\n",
       "    </tr>\n",
       "    <tr>\n",
       "      <th>12652</th>\n",
       "      <td>SAMN15040597-TTTGTCAGTTCCGTCT</td>\n",
       "      <td>principle cell</td>\n",
       "      <td>NaN</td>\n",
       "    </tr>\n",
       "    <tr>\n",
       "      <th>12653</th>\n",
       "      <td>SAMN15040597-TTTGTCATCACCAGGC</td>\n",
       "      <td>NaN</td>\n",
       "      <td>NaN</td>\n",
       "    </tr>\n",
       "    <tr>\n",
       "      <th>12654</th>\n",
       "      <td>SAMN15040597-TTTGTCATCACCGTAA</td>\n",
       "      <td>connecting tubule</td>\n",
       "      <td>NaN</td>\n",
       "    </tr>\n",
       "    <tr>\n",
       "      <th>12655</th>\n",
       "      <td>SAMN15040597-TTTGTCATCCTACAGA</td>\n",
       "      <td>distal convoluted tubule 1</td>\n",
       "      <td>UBERON:0001292</td>\n",
       "    </tr>\n",
       "    <tr>\n",
       "      <th>12656</th>\n",
       "      <td>SAMN15040597-TTTGTCATCGGCGCTA</td>\n",
       "      <td>distal convoluted tubule 1</td>\n",
       "      <td>UBERON:0001292</td>\n",
       "    </tr>\n",
       "  </tbody>\n",
       "</table>\n",
       "<p>12657 rows × 3 columns</p>\n",
       "</div>"
      ],
      "text/plain": [
       "                               Assay                   Cell_Type  \\\n",
       "0      SAMN15040593-AAACCTGCATGCCTAA                         NaN   \n",
       "1      SAMN15040593-AAACGGGAGTACATGA        thick ascending limb   \n",
       "2      SAMN15040593-AAACGGGCAAAGCGGT                  fibroblast   \n",
       "3      SAMN15040593-AAAGCAACAAAGGAAG                         NaN   \n",
       "4      SAMN15040593-AAAGCAACAACGATGG  distal convoluted tubule 1   \n",
       "...                              ...                         ...   \n",
       "12652  SAMN15040597-TTTGTCAGTTCCGTCT              principle cell   \n",
       "12653  SAMN15040597-TTTGTCATCACCAGGC                         NaN   \n",
       "12654  SAMN15040597-TTTGTCATCACCGTAA           connecting tubule   \n",
       "12655  SAMN15040597-TTTGTCATCCTACAGA  distal convoluted tubule 1   \n",
       "12656  SAMN15040597-TTTGTCATCGGCGCTA  distal convoluted tubule 1   \n",
       "\n",
       "                CL_ID  \n",
       "0                 NaN  \n",
       "1                 NaN  \n",
       "2          CL:0000057  \n",
       "3                 NaN  \n",
       "4      UBERON:0001292  \n",
       "...               ...  \n",
       "12652             NaN  \n",
       "12653             NaN  \n",
       "12654             NaN  \n",
       "12655  UBERON:0001292  \n",
       "12656  UBERON:0001292  \n",
       "\n",
       "[12657 rows x 3 columns]"
      ]
     },
     "execution_count": 36,
     "metadata": {},
     "output_type": "execute_result"
    }
   ],
   "source": [
    "ref_data_mod_kidney['CL_ID'] = ref_data_mod_kidney['CL_ID'].str.split('/').str[-1]\n",
    "\n",
    "ref_data_mod_kidney['CL_ID'] = ref_data_mod_kidney['CL_ID'].str.replace('_', ':')\n",
    "\n",
    "ref_data_mod_kidney"
   ]
  },
  {
   "cell_type": "code",
   "execution_count": 37,
   "id": "1dccffb6",
   "metadata": {},
   "outputs": [
    {
     "name": "stdout",
     "output_type": "stream",
     "text": [
      "                             col1\n",
      "0                             NaN\n",
      "1            thick ascending limb\n",
      "2                      fibroblast\n",
      "3                             NaN\n",
      "4      distal convoluted tubule 1\n",
      "...                           ...\n",
      "12652              principle cell\n",
      "12653                         NaN\n",
      "12654           connecting tubule\n",
      "12655  distal convoluted tubule 1\n",
      "12656  distal convoluted tubule 1\n",
      "\n",
      "[12657 rows x 1 columns]\n"
     ]
    }
   ],
   "source": [
    "# Create a mapping using dataframe2\n",
    "mapping = ref_data_mod_kidney.set_index('Assay')['Cell_Type']\n",
    "\n",
    "# Use the map function to replace values in dataframe1\n",
    "cols_kidney['col1'] = cols_kidney['col1'].map(mapping)\n",
    "\n",
    "# Display the modified dataframe1\n",
    "print(cols_kidney)"
   ]
  },
  {
   "cell_type": "code",
   "execution_count": 38,
   "id": "2b749578",
   "metadata": {},
   "outputs": [
    {
     "data": {
      "text/plain": [
       "col1                                 \n",
       "thick ascending limb                     2533\n",
       "proximal tubule                          1835\n",
       "distal convoluted tubule 1               1573\n",
       "connecting tubule                        1052\n",
       "Type A intercalated cell                  746\n",
       "principle cell                            562\n",
       "endothelial cell                          344\n",
       "podocyte                                  341\n",
       "distal convoluted tubule 2                305\n",
       "parietal epithelial cell                  266\n",
       "proximal tubule with VCAM1 expression     233\n",
       "Type B intercalated cell                  209\n",
       "mesangial cell                             99\n",
       "fibroblast                                 70\n",
       "leukocyte                                  10\n",
       "Name: count, dtype: int64"
      ]
     },
     "execution_count": 38,
     "metadata": {},
     "output_type": "execute_result"
    }
   ],
   "source": [
    "cols_kidney.value_counts()"
   ]
  },
  {
   "cell_type": "markdown",
   "id": "2083a150",
   "metadata": {},
   "source": [
    "### Process Liver data"
   ]
  },
  {
   "cell_type": "code",
   "execution_count": 39,
   "id": "24904e09-aac7-414d-83a4-e06896cba347",
   "metadata": {
    "tags": []
   },
   "outputs": [],
   "source": [
    "anndata_liver = sc.read_mtx('D:\\\\vostro\\\\Degree\\\\PhD\\\\RA\\\\Publication\\\\2-experiment-files\\\\E-MTAB-10553\\\\E-MTAB-10553.aggregated_filtered_normalised_counts.mtx')"
   ]
  },
  {
   "cell_type": "code",
   "execution_count": 40,
   "id": "31cb7229-6140-426a-8a54-4ad4eda5500c",
   "metadata": {
    "tags": []
   },
   "outputs": [],
   "source": [
    "df_liver = anndata_liver.to_df()"
   ]
  },
  {
   "cell_type": "code",
   "execution_count": 41,
   "id": "039a82bb-23b7-45ce-926f-1334e2669e57",
   "metadata": {
    "tags": []
   },
   "outputs": [
    {
     "data": {
      "text/plain": [
       "(22813, 17123)"
      ]
     },
     "execution_count": 41,
     "metadata": {},
     "output_type": "execute_result"
    }
   ],
   "source": [
    "df_liver.shape"
   ]
  },
  {
   "cell_type": "code",
   "execution_count": 42,
   "id": "731b1c2e-32b2-47c3-a975-65bdab237caf",
   "metadata": {
    "tags": []
   },
   "outputs": [
    {
     "data": {
      "text/html": [
       "<div>\n",
       "<style scoped>\n",
       "    .dataframe tbody tr th:only-of-type {\n",
       "        vertical-align: middle;\n",
       "    }\n",
       "\n",
       "    .dataframe tbody tr th {\n",
       "        vertical-align: top;\n",
       "    }\n",
       "\n",
       "    .dataframe thead th {\n",
       "        text-align: right;\n",
       "    }\n",
       "</style>\n",
       "<table border=\"1\" class=\"dataframe\">\n",
       "  <thead>\n",
       "    <tr style=\"text-align: right;\">\n",
       "      <th></th>\n",
       "      <th>0</th>\n",
       "      <th>1</th>\n",
       "      <th>2</th>\n",
       "      <th>3</th>\n",
       "      <th>4</th>\n",
       "      <th>5</th>\n",
       "      <th>6</th>\n",
       "      <th>7</th>\n",
       "      <th>8</th>\n",
       "      <th>9</th>\n",
       "      <th>...</th>\n",
       "      <th>17113</th>\n",
       "      <th>17114</th>\n",
       "      <th>17115</th>\n",
       "      <th>17116</th>\n",
       "      <th>17117</th>\n",
       "      <th>17118</th>\n",
       "      <th>17119</th>\n",
       "      <th>17120</th>\n",
       "      <th>17121</th>\n",
       "      <th>17122</th>\n",
       "    </tr>\n",
       "  </thead>\n",
       "  <tbody>\n",
       "    <tr>\n",
       "      <th>count</th>\n",
       "      <td>22813.000000</td>\n",
       "      <td>22813.000000</td>\n",
       "      <td>22813.000000</td>\n",
       "      <td>22813.000000</td>\n",
       "      <td>22813.000000</td>\n",
       "      <td>22813.000000</td>\n",
       "      <td>22813.000000</td>\n",
       "      <td>22813.000000</td>\n",
       "      <td>22813.000000</td>\n",
       "      <td>22813.000000</td>\n",
       "      <td>...</td>\n",
       "      <td>22813.000000</td>\n",
       "      <td>22813.000000</td>\n",
       "      <td>22813.000000</td>\n",
       "      <td>22813.000000</td>\n",
       "      <td>22813.000000</td>\n",
       "      <td>22813.000000</td>\n",
       "      <td>22813.000000</td>\n",
       "      <td>22813.000000</td>\n",
       "      <td>22813.000000</td>\n",
       "      <td>22813.000000</td>\n",
       "    </tr>\n",
       "    <tr>\n",
       "      <th>mean</th>\n",
       "      <td>43.834660</td>\n",
       "      <td>43.834656</td>\n",
       "      <td>43.834660</td>\n",
       "      <td>43.834656</td>\n",
       "      <td>43.834652</td>\n",
       "      <td>43.834656</td>\n",
       "      <td>43.834656</td>\n",
       "      <td>43.834652</td>\n",
       "      <td>43.834652</td>\n",
       "      <td>43.834660</td>\n",
       "      <td>...</td>\n",
       "      <td>43.834656</td>\n",
       "      <td>43.834652</td>\n",
       "      <td>43.834656</td>\n",
       "      <td>43.834656</td>\n",
       "      <td>43.834656</td>\n",
       "      <td>43.834656</td>\n",
       "      <td>43.834656</td>\n",
       "      <td>43.834652</td>\n",
       "      <td>43.834652</td>\n",
       "      <td>43.834660</td>\n",
       "    </tr>\n",
       "    <tr>\n",
       "      <th>std</th>\n",
       "      <td>785.774841</td>\n",
       "      <td>1326.309448</td>\n",
       "      <td>371.045776</td>\n",
       "      <td>339.496094</td>\n",
       "      <td>855.597534</td>\n",
       "      <td>254.496109</td>\n",
       "      <td>420.876526</td>\n",
       "      <td>293.130219</td>\n",
       "      <td>410.202118</td>\n",
       "      <td>347.245880</td>\n",
       "      <td>...</td>\n",
       "      <td>383.561523</td>\n",
       "      <td>423.601593</td>\n",
       "      <td>354.239777</td>\n",
       "      <td>409.092865</td>\n",
       "      <td>337.313141</td>\n",
       "      <td>390.767426</td>\n",
       "      <td>475.131195</td>\n",
       "      <td>355.193146</td>\n",
       "      <td>391.404785</td>\n",
       "      <td>408.754547</td>\n",
       "    </tr>\n",
       "    <tr>\n",
       "      <th>min</th>\n",
       "      <td>0.000000</td>\n",
       "      <td>0.000000</td>\n",
       "      <td>0.000000</td>\n",
       "      <td>0.000000</td>\n",
       "      <td>0.000000</td>\n",
       "      <td>0.000000</td>\n",
       "      <td>0.000000</td>\n",
       "      <td>0.000000</td>\n",
       "      <td>0.000000</td>\n",
       "      <td>0.000000</td>\n",
       "      <td>...</td>\n",
       "      <td>0.000000</td>\n",
       "      <td>0.000000</td>\n",
       "      <td>0.000000</td>\n",
       "      <td>0.000000</td>\n",
       "      <td>0.000000</td>\n",
       "      <td>0.000000</td>\n",
       "      <td>0.000000</td>\n",
       "      <td>0.000000</td>\n",
       "      <td>0.000000</td>\n",
       "      <td>0.000000</td>\n",
       "    </tr>\n",
       "    <tr>\n",
       "      <th>25%</th>\n",
       "      <td>0.000000</td>\n",
       "      <td>0.000000</td>\n",
       "      <td>0.000000</td>\n",
       "      <td>0.000000</td>\n",
       "      <td>0.000000</td>\n",
       "      <td>0.000000</td>\n",
       "      <td>0.000000</td>\n",
       "      <td>0.000000</td>\n",
       "      <td>0.000000</td>\n",
       "      <td>0.000000</td>\n",
       "      <td>...</td>\n",
       "      <td>0.000000</td>\n",
       "      <td>0.000000</td>\n",
       "      <td>0.000000</td>\n",
       "      <td>0.000000</td>\n",
       "      <td>0.000000</td>\n",
       "      <td>0.000000</td>\n",
       "      <td>0.000000</td>\n",
       "      <td>0.000000</td>\n",
       "      <td>0.000000</td>\n",
       "      <td>0.000000</td>\n",
       "    </tr>\n",
       "    <tr>\n",
       "      <th>50%</th>\n",
       "      <td>0.000000</td>\n",
       "      <td>0.000000</td>\n",
       "      <td>0.000000</td>\n",
       "      <td>0.000000</td>\n",
       "      <td>0.000000</td>\n",
       "      <td>0.000000</td>\n",
       "      <td>0.000000</td>\n",
       "      <td>0.000000</td>\n",
       "      <td>0.000000</td>\n",
       "      <td>0.000000</td>\n",
       "      <td>...</td>\n",
       "      <td>0.000000</td>\n",
       "      <td>0.000000</td>\n",
       "      <td>0.000000</td>\n",
       "      <td>0.000000</td>\n",
       "      <td>0.000000</td>\n",
       "      <td>0.000000</td>\n",
       "      <td>0.000000</td>\n",
       "      <td>0.000000</td>\n",
       "      <td>0.000000</td>\n",
       "      <td>0.000000</td>\n",
       "    </tr>\n",
       "    <tr>\n",
       "      <th>75%</th>\n",
       "      <td>0.000000</td>\n",
       "      <td>0.000000</td>\n",
       "      <td>0.000000</td>\n",
       "      <td>0.000000</td>\n",
       "      <td>0.000000</td>\n",
       "      <td>0.000000</td>\n",
       "      <td>0.000000</td>\n",
       "      <td>0.000000</td>\n",
       "      <td>0.000000</td>\n",
       "      <td>0.000000</td>\n",
       "      <td>...</td>\n",
       "      <td>0.000000</td>\n",
       "      <td>0.000000</td>\n",
       "      <td>0.000000</td>\n",
       "      <td>0.000000</td>\n",
       "      <td>0.000000</td>\n",
       "      <td>0.000000</td>\n",
       "      <td>0.000000</td>\n",
       "      <td>0.000000</td>\n",
       "      <td>0.000000</td>\n",
       "      <td>0.000000</td>\n",
       "    </tr>\n",
       "    <tr>\n",
       "      <th>max</th>\n",
       "      <td>51764.710938</td>\n",
       "      <td>177121.765625</td>\n",
       "      <td>17745.564453</td>\n",
       "      <td>13677.338867</td>\n",
       "      <td>83333.328125</td>\n",
       "      <td>9573.541992</td>\n",
       "      <td>21337.126953</td>\n",
       "      <td>15471.166992</td>\n",
       "      <td>23597.619141</td>\n",
       "      <td>18018.019531</td>\n",
       "      <td>...</td>\n",
       "      <td>21052.632812</td>\n",
       "      <td>19729.136719</td>\n",
       "      <td>14090.018555</td>\n",
       "      <td>18114.257812</td>\n",
       "      <td>19554.773438</td>\n",
       "      <td>18820.123047</td>\n",
       "      <td>32651.488281</td>\n",
       "      <td>16708.353516</td>\n",
       "      <td>21068.859375</td>\n",
       "      <td>16702.546875</td>\n",
       "    </tr>\n",
       "  </tbody>\n",
       "</table>\n",
       "<p>8 rows × 17123 columns</p>\n",
       "</div>"
      ],
      "text/plain": [
       "                  0              1             2             3             4  \\\n",
       "count  22813.000000   22813.000000  22813.000000  22813.000000  22813.000000   \n",
       "mean      43.834660      43.834656     43.834660     43.834656     43.834652   \n",
       "std      785.774841    1326.309448    371.045776    339.496094    855.597534   \n",
       "min        0.000000       0.000000      0.000000      0.000000      0.000000   \n",
       "25%        0.000000       0.000000      0.000000      0.000000      0.000000   \n",
       "50%        0.000000       0.000000      0.000000      0.000000      0.000000   \n",
       "75%        0.000000       0.000000      0.000000      0.000000      0.000000   \n",
       "max    51764.710938  177121.765625  17745.564453  13677.338867  83333.328125   \n",
       "\n",
       "                  5             6             7             8             9  \\\n",
       "count  22813.000000  22813.000000  22813.000000  22813.000000  22813.000000   \n",
       "mean      43.834656     43.834656     43.834652     43.834652     43.834660   \n",
       "std      254.496109    420.876526    293.130219    410.202118    347.245880   \n",
       "min        0.000000      0.000000      0.000000      0.000000      0.000000   \n",
       "25%        0.000000      0.000000      0.000000      0.000000      0.000000   \n",
       "50%        0.000000      0.000000      0.000000      0.000000      0.000000   \n",
       "75%        0.000000      0.000000      0.000000      0.000000      0.000000   \n",
       "max     9573.541992  21337.126953  15471.166992  23597.619141  18018.019531   \n",
       "\n",
       "       ...         17113         17114         17115         17116  \\\n",
       "count  ...  22813.000000  22813.000000  22813.000000  22813.000000   \n",
       "mean   ...     43.834656     43.834652     43.834656     43.834656   \n",
       "std    ...    383.561523    423.601593    354.239777    409.092865   \n",
       "min    ...      0.000000      0.000000      0.000000      0.000000   \n",
       "25%    ...      0.000000      0.000000      0.000000      0.000000   \n",
       "50%    ...      0.000000      0.000000      0.000000      0.000000   \n",
       "75%    ...      0.000000      0.000000      0.000000      0.000000   \n",
       "max    ...  21052.632812  19729.136719  14090.018555  18114.257812   \n",
       "\n",
       "              17117         17118         17119         17120         17121  \\\n",
       "count  22813.000000  22813.000000  22813.000000  22813.000000  22813.000000   \n",
       "mean      43.834656     43.834656     43.834656     43.834652     43.834652   \n",
       "std      337.313141    390.767426    475.131195    355.193146    391.404785   \n",
       "min        0.000000      0.000000      0.000000      0.000000      0.000000   \n",
       "25%        0.000000      0.000000      0.000000      0.000000      0.000000   \n",
       "50%        0.000000      0.000000      0.000000      0.000000      0.000000   \n",
       "75%        0.000000      0.000000      0.000000      0.000000      0.000000   \n",
       "max    19554.773438  18820.123047  32651.488281  16708.353516  21068.859375   \n",
       "\n",
       "              17122  \n",
       "count  22813.000000  \n",
       "mean      43.834660  \n",
       "std      408.754547  \n",
       "min        0.000000  \n",
       "25%        0.000000  \n",
       "50%        0.000000  \n",
       "75%        0.000000  \n",
       "max    16702.546875  \n",
       "\n",
       "[8 rows x 17123 columns]"
      ]
     },
     "execution_count": 42,
     "metadata": {},
     "output_type": "execute_result"
    }
   ],
   "source": [
    "df_liver.describe()"
   ]
  },
  {
   "cell_type": "markdown",
   "id": "d27507f9",
   "metadata": {},
   "source": [
    "##### Load genes and cell type information  for liver"
   ]
  },
  {
   "cell_type": "code",
   "execution_count": 44,
   "id": "2b33304a-8eb6-4e32-b66e-ee2b53b62b32",
   "metadata": {
    "tags": []
   },
   "outputs": [],
   "source": [
    "index_liver = pd.read_csv('D:\\\\vostro\\\\Degree\\\\PhD\\\\RA\\\\Publication\\\\2-experiment-files\\\\E-MTAB-10553\\\\E-MTAB-10553.aggregated_filtered_normalised_counts.mtx_rows', names = ['col1', 'col2'], sep = '\\t')\n",
    "cols_liver = pd.read_csv('D:\\\\vostro\\\\Degree\\\\PhD\\\\RA\\\\Publication\\\\2-experiment-files\\\\E-MTAB-10553\\\\E-MTAB-10553.aggregated_filtered_normalised_counts.mtx_cols', names = ['col1'])"
   ]
  },
  {
   "cell_type": "code",
   "execution_count": 53,
   "id": "952d27e9-211b-4e6b-9988-ff8f4c947aee",
   "metadata": {
    "tags": []
   },
   "outputs": [
    {
     "data": {
      "text/html": [
       "<div>\n",
       "<style scoped>\n",
       "    .dataframe tbody tr th:only-of-type {\n",
       "        vertical-align: middle;\n",
       "    }\n",
       "\n",
       "    .dataframe tbody tr th {\n",
       "        vertical-align: top;\n",
       "    }\n",
       "\n",
       "    .dataframe thead th {\n",
       "        text-align: right;\n",
       "    }\n",
       "</style>\n",
       "<table border=\"1\" class=\"dataframe\">\n",
       "  <thead>\n",
       "    <tr style=\"text-align: right;\">\n",
       "      <th></th>\n",
       "      <th>col1</th>\n",
       "    </tr>\n",
       "  </thead>\n",
       "  <tbody>\n",
       "    <tr>\n",
       "      <th>0</th>\n",
       "      <td>ENSG00000000003</td>\n",
       "    </tr>\n",
       "    <tr>\n",
       "      <th>1</th>\n",
       "      <td>ENSG00000000005</td>\n",
       "    </tr>\n",
       "    <tr>\n",
       "      <th>2</th>\n",
       "      <td>ENSG00000000419</td>\n",
       "    </tr>\n",
       "    <tr>\n",
       "      <th>3</th>\n",
       "      <td>ENSG00000000457</td>\n",
       "    </tr>\n",
       "    <tr>\n",
       "      <th>4</th>\n",
       "      <td>ENSG00000000460</td>\n",
       "    </tr>\n",
       "    <tr>\n",
       "      <th>...</th>\n",
       "      <td>...</td>\n",
       "    </tr>\n",
       "    <tr>\n",
       "      <th>22808</th>\n",
       "      <td>ENSG00000289695</td>\n",
       "    </tr>\n",
       "    <tr>\n",
       "      <th>22809</th>\n",
       "      <td>ENSG00000289697</td>\n",
       "    </tr>\n",
       "    <tr>\n",
       "      <th>22810</th>\n",
       "      <td>ENSG00000289700</td>\n",
       "    </tr>\n",
       "    <tr>\n",
       "      <th>22811</th>\n",
       "      <td>ENSG00000289701</td>\n",
       "    </tr>\n",
       "    <tr>\n",
       "      <th>22812</th>\n",
       "      <td>ENSG00000289716</td>\n",
       "    </tr>\n",
       "  </tbody>\n",
       "</table>\n",
       "<p>22813 rows × 1 columns</p>\n",
       "</div>"
      ],
      "text/plain": [
       "                  col1\n",
       "0      ENSG00000000003\n",
       "1      ENSG00000000005\n",
       "2      ENSG00000000419\n",
       "3      ENSG00000000457\n",
       "4      ENSG00000000460\n",
       "...                ...\n",
       "22808  ENSG00000289695\n",
       "22809  ENSG00000289697\n",
       "22810  ENSG00000289700\n",
       "22811  ENSG00000289701\n",
       "22812  ENSG00000289716\n",
       "\n",
       "[22813 rows x 1 columns]"
      ]
     },
     "execution_count": 53,
     "metadata": {},
     "output_type": "execute_result"
    }
   ],
   "source": [
    "index_liver = index_liver.drop(['col2'], axis = 1)\n",
    "index_liver"
   ]
  },
  {
   "cell_type": "markdown",
   "id": "19be4e27",
   "metadata": {},
   "source": [
    "##### Load Reference data of Kidney"
   ]
  },
  {
   "cell_type": "code",
   "execution_count": 46,
   "id": "a979baea-dea6-4133-b4a4-1f9e586ba4b1",
   "metadata": {
    "tags": []
   },
   "outputs": [],
   "source": [
    "ref_data_liver = pd.read_csv('D:\\\\vostro\\\\Degree\\\\PhD\\\\RA\\\\Publication\\\\2-experiment-files\\\\E-MTAB-10553\\\\ExpDesign-E-MTAB-10553.tsv', sep = '\\t')"
   ]
  },
  {
   "cell_type": "code",
   "execution_count": 47,
   "id": "73c70195",
   "metadata": {},
   "outputs": [
    {
     "data": {
      "text/plain": [
       "Index(['Assay', 'Sample Characteristic[organism]',\n",
       "       'Sample Characteristic Ontology Term[organism]',\n",
       "       'Sample Characteristic[individual]',\n",
       "       'Sample Characteristic Ontology Term[individual]',\n",
       "       'Sample Characteristic[sex]',\n",
       "       'Sample Characteristic Ontology Term[sex]',\n",
       "       'Sample Characteristic[age]',\n",
       "       'Sample Characteristic Ontology Term[age]',\n",
       "       'Sample Characteristic[developmental stage]',\n",
       "       'Sample Characteristic Ontology Term[developmental stage]',\n",
       "       'Sample Characteristic[disease]',\n",
       "       'Sample Characteristic Ontology Term[disease]',\n",
       "       'Sample Characteristic[organism part]',\n",
       "       'Sample Characteristic Ontology Term[organism part]',\n",
       "       'Sample Characteristic[cell type]',\n",
       "       'Sample Characteristic Ontology Term[cell type]',\n",
       "       'Factor Value[cell type]', 'Factor Value Ontology Term[cell type]',\n",
       "       'Factor Value[inferred cell type - ontology labels]',\n",
       "       'Factor Value Ontology Term[inferred cell type - ontology labels]',\n",
       "       'Factor Value[inferred cell type - authors labels]',\n",
       "       'Factor Value Ontology Term[inferred cell type - authors labels]'],\n",
       "      dtype='object')"
      ]
     },
     "execution_count": 47,
     "metadata": {},
     "output_type": "execute_result"
    }
   ],
   "source": [
    "ref_data_liver.columns"
   ]
  },
  {
   "cell_type": "code",
   "execution_count": 48,
   "id": "63b7b7a4-5ce7-4309-8139-4b1a82e52a1d",
   "metadata": {
    "tags": []
   },
   "outputs": [],
   "source": [
    "ref_data_liver = ref_data_liver.rename(columns={'Factor Value[inferred cell type - authors labels]': 'Cell_Type', 'Factor Value Ontology Term[inferred cell type - authors labels]' : 'CL_ID'})"
   ]
  },
  {
   "cell_type": "code",
   "execution_count": 49,
   "id": "c04ae454",
   "metadata": {},
   "outputs": [],
   "source": [
    "ref_data_1_liver = ref_data_liver[['Assay', 'Cell_Type', 'CL_ID']]"
   ]
  },
  {
   "cell_type": "code",
   "execution_count": 50,
   "id": "c2d53c8f-c6b2-493e-82b8-1012f10f63e6",
   "metadata": {
    "tags": []
   },
   "outputs": [
    {
     "name": "stderr",
     "output_type": "stream",
     "text": [
      "C:\\Users\\Supriya\\AppData\\Local\\Temp\\ipykernel_9988\\3746975067.py:1: SettingWithCopyWarning: \n",
      "A value is trying to be set on a copy of a slice from a DataFrame.\n",
      "Try using .loc[row_indexer,col_indexer] = value instead\n",
      "\n",
      "See the caveats in the documentation: https://pandas.pydata.org/pandas-docs/stable/user_guide/indexing.html#returning-a-view-versus-a-copy\n",
      "  ref_data_1_liver['CL_ID'] = ref_data_1_liver['CL_ID'].str.split('/').str[-1]\n"
     ]
    }
   ],
   "source": [
    "ref_data_1_liver['CL_ID'] = ref_data_1_liver['CL_ID'].str.split('/').str[-1]"
   ]
  },
  {
   "cell_type": "code",
   "execution_count": 51,
   "id": "35297eda-b6ae-425a-899a-0740eebdc049",
   "metadata": {
    "tags": []
   },
   "outputs": [
    {
     "name": "stderr",
     "output_type": "stream",
     "text": [
      "C:\\Users\\Supriya\\AppData\\Local\\Temp\\ipykernel_9988\\2463954554.py:1: SettingWithCopyWarning: \n",
      "A value is trying to be set on a copy of a slice from a DataFrame.\n",
      "Try using .loc[row_indexer,col_indexer] = value instead\n",
      "\n",
      "See the caveats in the documentation: https://pandas.pydata.org/pandas-docs/stable/user_guide/indexing.html#returning-a-view-versus-a-copy\n",
      "  ref_data_1_liver['CL_ID'] = ref_data_1_liver['CL_ID'].str.replace('_', ':')\n"
     ]
    }
   ],
   "source": [
    "ref_data_1_liver['CL_ID'] = ref_data_1_liver['CL_ID'].str.replace('_', ':')"
   ]
  },
  {
   "cell_type": "code",
   "execution_count": 52,
   "id": "77e48f8d",
   "metadata": {},
   "outputs": [
    {
     "data": {
      "text/html": [
       "<div>\n",
       "<style scoped>\n",
       "    .dataframe tbody tr th:only-of-type {\n",
       "        vertical-align: middle;\n",
       "    }\n",
       "\n",
       "    .dataframe tbody tr th {\n",
       "        vertical-align: top;\n",
       "    }\n",
       "\n",
       "    .dataframe thead th {\n",
       "        text-align: right;\n",
       "    }\n",
       "</style>\n",
       "<table border=\"1\" class=\"dataframe\">\n",
       "  <thead>\n",
       "    <tr style=\"text-align: right;\">\n",
       "      <th></th>\n",
       "      <th>Assay</th>\n",
       "      <th>Cell_Type</th>\n",
       "      <th>CL_ID</th>\n",
       "    </tr>\n",
       "  </thead>\n",
       "  <tbody>\n",
       "    <tr>\n",
       "      <th>0</th>\n",
       "      <td>SAMEA11294524-AAAACTCGTCCGAAGA</td>\n",
       "      <td>NaN</td>\n",
       "      <td>NaN</td>\n",
       "    </tr>\n",
       "    <tr>\n",
       "      <th>1</th>\n",
       "      <td>SAMEA11294524-AAACCTGAGTCTCCTC</td>\n",
       "      <td>hepatocyte</td>\n",
       "      <td>CL:0000182</td>\n",
       "    </tr>\n",
       "    <tr>\n",
       "      <th>2</th>\n",
       "      <td>SAMEA11294524-AAACCTGCAATGTAAG</td>\n",
       "      <td>monocyte-derived macrophage</td>\n",
       "      <td>CL:0000235</td>\n",
       "    </tr>\n",
       "    <tr>\n",
       "      <th>3</th>\n",
       "      <td>SAMEA11294524-AAACCTGCACCGATAT</td>\n",
       "      <td>T cell</td>\n",
       "      <td>CL:0000084</td>\n",
       "    </tr>\n",
       "    <tr>\n",
       "      <th>4</th>\n",
       "      <td>SAMEA11294524-AAACCTGCAGTAAGCG</td>\n",
       "      <td>NaN</td>\n",
       "      <td>NaN</td>\n",
       "    </tr>\n",
       "    <tr>\n",
       "      <th>...</th>\n",
       "      <td>...</td>\n",
       "      <td>...</td>\n",
       "      <td>...</td>\n",
       "    </tr>\n",
       "    <tr>\n",
       "      <th>17118</th>\n",
       "      <td>SAMEA11294531-TTTGGTTCACGGTTTA</td>\n",
       "      <td>T cell</td>\n",
       "      <td>CL:0000084</td>\n",
       "    </tr>\n",
       "    <tr>\n",
       "      <th>17119</th>\n",
       "      <td>SAMEA11294531-TTTGGTTGTGACGCCT</td>\n",
       "      <td>NaN</td>\n",
       "      <td>NaN</td>\n",
       "    </tr>\n",
       "    <tr>\n",
       "      <th>17120</th>\n",
       "      <td>SAMEA11294531-TTTGGTTTCCAAATGC</td>\n",
       "      <td>monocyte-derived macrophage</td>\n",
       "      <td>CL:0000235</td>\n",
       "    </tr>\n",
       "    <tr>\n",
       "      <th>17121</th>\n",
       "      <td>SAMEA11294531-TTTGTCAAGATCTGCT</td>\n",
       "      <td>Kupffer cell</td>\n",
       "      <td>CL:0000091</td>\n",
       "    </tr>\n",
       "    <tr>\n",
       "      <th>17122</th>\n",
       "      <td>SAMEA11294531-TTTGTCAAGCTAGTCT</td>\n",
       "      <td>B cell</td>\n",
       "      <td>CL:0000236</td>\n",
       "    </tr>\n",
       "  </tbody>\n",
       "</table>\n",
       "<p>17123 rows × 3 columns</p>\n",
       "</div>"
      ],
      "text/plain": [
       "                                Assay                    Cell_Type       CL_ID\n",
       "0      SAMEA11294524-AAAACTCGTCCGAAGA                          NaN         NaN\n",
       "1      SAMEA11294524-AAACCTGAGTCTCCTC                   hepatocyte  CL:0000182\n",
       "2      SAMEA11294524-AAACCTGCAATGTAAG  monocyte-derived macrophage  CL:0000235\n",
       "3      SAMEA11294524-AAACCTGCACCGATAT                       T cell  CL:0000084\n",
       "4      SAMEA11294524-AAACCTGCAGTAAGCG                          NaN         NaN\n",
       "...                               ...                          ...         ...\n",
       "17118  SAMEA11294531-TTTGGTTCACGGTTTA                       T cell  CL:0000084\n",
       "17119  SAMEA11294531-TTTGGTTGTGACGCCT                          NaN         NaN\n",
       "17120  SAMEA11294531-TTTGGTTTCCAAATGC  monocyte-derived macrophage  CL:0000235\n",
       "17121  SAMEA11294531-TTTGTCAAGATCTGCT                 Kupffer cell  CL:0000091\n",
       "17122  SAMEA11294531-TTTGTCAAGCTAGTCT                       B cell  CL:0000236\n",
       "\n",
       "[17123 rows x 3 columns]"
      ]
     },
     "execution_count": 52,
     "metadata": {},
     "output_type": "execute_result"
    }
   ],
   "source": [
    "ref_data_1_liver"
   ]
  },
  {
   "cell_type": "code",
   "execution_count": 69,
   "id": "dacf2440",
   "metadata": {},
   "outputs": [
    {
     "data": {
      "text/plain": [
       "Cell_Type\n",
       "T cell                               7676\n",
       "liver sinusoidal endothelial cell    2337\n",
       "monocyte-derived macrophage          1635\n",
       "natural killer cell                   919\n",
       "hepatocyte                            802\n",
       "Kupffer cell                          623\n",
       "B cell                                405\n",
       "cholangiocyte                         309\n",
       "plasma cell                           164\n",
       "cycling cell                           61\n",
       "vascular endothelial cell 1            24\n",
       "activated HSC                          24\n",
       "vascular endothelial cell 2            17\n",
       "quiescent HSC                           3\n",
       "mesothelial cell                        1\n",
       "Name: count, dtype: int64"
      ]
     },
     "execution_count": 69,
     "metadata": {},
     "output_type": "execute_result"
    }
   ],
   "source": [
    "ref_data_1_liver['Cell_Type'].value_counts()"
   ]
  },
  {
   "cell_type": "code",
   "execution_count": 54,
   "id": "2bae89e8",
   "metadata": {},
   "outputs": [
    {
     "name": "stdout",
     "output_type": "stream",
     "text": [
      "                              col1\n",
      "0                              NaN\n",
      "1                       hepatocyte\n",
      "2      monocyte-derived macrophage\n",
      "3                           T cell\n",
      "4                              NaN\n",
      "...                            ...\n",
      "17118                       T cell\n",
      "17119                          NaN\n",
      "17120  monocyte-derived macrophage\n",
      "17121                 Kupffer cell\n",
      "17122                       B cell\n",
      "\n",
      "[17123 rows x 1 columns]\n"
     ]
    }
   ],
   "source": [
    "# Create a mapping using dataframe2\n",
    "mapping = ref_data_1_liver.set_index('Assay')['Cell_Type']\n",
    "\n",
    "# Use the map function to replace values in dataframe1\n",
    "cols_liver['col1'] = cols_liver['col1'].map(mapping)\n",
    "\n",
    "# Display the modified dataframe1\n",
    "print(cols_liver)"
   ]
  },
  {
   "cell_type": "markdown",
   "id": "71d7f0ec",
   "metadata": {},
   "source": [
    "### Loading Lung data"
   ]
  },
  {
   "cell_type": "code",
   "execution_count": 55,
   "id": "cd2c958a",
   "metadata": {},
   "outputs": [],
   "source": [
    "anndata_lung = sc.read_mtx('D:\\\\vostro\\\\Degree\\\\PhD\\\\RA\\\\Publication\\\\1-experiment-files\\\\E-GEOD-130148\\\\E-GEOD-130148.aggregated_filtered_normalised_counts.mtx')"
   ]
  },
  {
   "cell_type": "code",
   "execution_count": 56,
   "id": "5fd777df",
   "metadata": {},
   "outputs": [],
   "source": [
    "df_lung = anndata_lung.to_df()"
   ]
  },
  {
   "cell_type": "code",
   "execution_count": 57,
   "id": "3e638083",
   "metadata": {},
   "outputs": [
    {
     "data": {
      "text/html": [
       "<div>\n",
       "<style scoped>\n",
       "    .dataframe tbody tr th:only-of-type {\n",
       "        vertical-align: middle;\n",
       "    }\n",
       "\n",
       "    .dataframe tbody tr th {\n",
       "        vertical-align: top;\n",
       "    }\n",
       "\n",
       "    .dataframe thead th {\n",
       "        text-align: right;\n",
       "    }\n",
       "</style>\n",
       "<table border=\"1\" class=\"dataframe\">\n",
       "  <thead>\n",
       "    <tr style=\"text-align: right;\">\n",
       "      <th></th>\n",
       "      <th>0</th>\n",
       "      <th>1</th>\n",
       "      <th>2</th>\n",
       "      <th>3</th>\n",
       "      <th>4</th>\n",
       "      <th>5</th>\n",
       "      <th>6</th>\n",
       "      <th>7</th>\n",
       "      <th>8</th>\n",
       "      <th>9</th>\n",
       "      <th>...</th>\n",
       "      <th>3556</th>\n",
       "      <th>3557</th>\n",
       "      <th>3558</th>\n",
       "      <th>3559</th>\n",
       "      <th>3560</th>\n",
       "      <th>3561</th>\n",
       "      <th>3562</th>\n",
       "      <th>3563</th>\n",
       "      <th>3564</th>\n",
       "      <th>3565</th>\n",
       "    </tr>\n",
       "  </thead>\n",
       "  <tbody>\n",
       "    <tr>\n",
       "      <th>0</th>\n",
       "      <td>0.0000</td>\n",
       "      <td>0.0</td>\n",
       "      <td>0.0</td>\n",
       "      <td>0.000000</td>\n",
       "      <td>0.000000</td>\n",
       "      <td>0.0</td>\n",
       "      <td>0.0</td>\n",
       "      <td>0.000000</td>\n",
       "      <td>0.00000</td>\n",
       "      <td>0.0</td>\n",
       "      <td>...</td>\n",
       "      <td>0.0</td>\n",
       "      <td>0.0</td>\n",
       "      <td>0.000000</td>\n",
       "      <td>0.000000</td>\n",
       "      <td>0.0</td>\n",
       "      <td>0.000000</td>\n",
       "      <td>0.000000</td>\n",
       "      <td>0.0</td>\n",
       "      <td>0.0</td>\n",
       "      <td>0.0</td>\n",
       "    </tr>\n",
       "    <tr>\n",
       "      <th>1</th>\n",
       "      <td>0.0000</td>\n",
       "      <td>0.0</td>\n",
       "      <td>0.0</td>\n",
       "      <td>0.000000</td>\n",
       "      <td>0.000000</td>\n",
       "      <td>0.0</td>\n",
       "      <td>0.0</td>\n",
       "      <td>0.000000</td>\n",
       "      <td>0.00000</td>\n",
       "      <td>0.0</td>\n",
       "      <td>...</td>\n",
       "      <td>0.0</td>\n",
       "      <td>0.0</td>\n",
       "      <td>0.000000</td>\n",
       "      <td>0.000000</td>\n",
       "      <td>0.0</td>\n",
       "      <td>0.000000</td>\n",
       "      <td>0.000000</td>\n",
       "      <td>0.0</td>\n",
       "      <td>0.0</td>\n",
       "      <td>0.0</td>\n",
       "    </tr>\n",
       "    <tr>\n",
       "      <th>2</th>\n",
       "      <td>0.0000</td>\n",
       "      <td>0.0</td>\n",
       "      <td>0.0</td>\n",
       "      <td>0.000000</td>\n",
       "      <td>0.000000</td>\n",
       "      <td>0.0</td>\n",
       "      <td>0.0</td>\n",
       "      <td>0.000000</td>\n",
       "      <td>0.00000</td>\n",
       "      <td>0.0</td>\n",
       "      <td>...</td>\n",
       "      <td>0.0</td>\n",
       "      <td>0.0</td>\n",
       "      <td>0.000000</td>\n",
       "      <td>0.000000</td>\n",
       "      <td>0.0</td>\n",
       "      <td>0.000000</td>\n",
       "      <td>0.000000</td>\n",
       "      <td>0.0</td>\n",
       "      <td>0.0</td>\n",
       "      <td>0.0</td>\n",
       "    </tr>\n",
       "    <tr>\n",
       "      <th>3</th>\n",
       "      <td>0.0000</td>\n",
       "      <td>0.0</td>\n",
       "      <td>0.0</td>\n",
       "      <td>0.000000</td>\n",
       "      <td>0.000000</td>\n",
       "      <td>0.0</td>\n",
       "      <td>0.0</td>\n",
       "      <td>0.000000</td>\n",
       "      <td>0.00000</td>\n",
       "      <td>0.0</td>\n",
       "      <td>...</td>\n",
       "      <td>0.0</td>\n",
       "      <td>0.0</td>\n",
       "      <td>0.000000</td>\n",
       "      <td>0.000000</td>\n",
       "      <td>0.0</td>\n",
       "      <td>0.000000</td>\n",
       "      <td>0.000000</td>\n",
       "      <td>0.0</td>\n",
       "      <td>0.0</td>\n",
       "      <td>0.0</td>\n",
       "    </tr>\n",
       "    <tr>\n",
       "      <th>4</th>\n",
       "      <td>314.6633</td>\n",
       "      <td>0.0</td>\n",
       "      <td>0.0</td>\n",
       "      <td>390.472473</td>\n",
       "      <td>0.000000</td>\n",
       "      <td>0.0</td>\n",
       "      <td>0.0</td>\n",
       "      <td>0.000000</td>\n",
       "      <td>0.00000</td>\n",
       "      <td>0.0</td>\n",
       "      <td>...</td>\n",
       "      <td>0.0</td>\n",
       "      <td>0.0</td>\n",
       "      <td>0.000000</td>\n",
       "      <td>0.000000</td>\n",
       "      <td>0.0</td>\n",
       "      <td>0.000000</td>\n",
       "      <td>1592.356689</td>\n",
       "      <td>0.0</td>\n",
       "      <td>0.0</td>\n",
       "      <td>0.0</td>\n",
       "    </tr>\n",
       "    <tr>\n",
       "      <th>...</th>\n",
       "      <td>...</td>\n",
       "      <td>...</td>\n",
       "      <td>...</td>\n",
       "      <td>...</td>\n",
       "      <td>...</td>\n",
       "      <td>...</td>\n",
       "      <td>...</td>\n",
       "      <td>...</td>\n",
       "      <td>...</td>\n",
       "      <td>...</td>\n",
       "      <td>...</td>\n",
       "      <td>...</td>\n",
       "      <td>...</td>\n",
       "      <td>...</td>\n",
       "      <td>...</td>\n",
       "      <td>...</td>\n",
       "      <td>...</td>\n",
       "      <td>...</td>\n",
       "      <td>...</td>\n",
       "      <td>...</td>\n",
       "      <td>...</td>\n",
       "    </tr>\n",
       "    <tr>\n",
       "      <th>19201</th>\n",
       "      <td>0.0000</td>\n",
       "      <td>0.0</td>\n",
       "      <td>0.0</td>\n",
       "      <td>0.000000</td>\n",
       "      <td>224.215256</td>\n",
       "      <td>0.0</td>\n",
       "      <td>0.0</td>\n",
       "      <td>284.414093</td>\n",
       "      <td>1135.07373</td>\n",
       "      <td>0.0</td>\n",
       "      <td>...</td>\n",
       "      <td>0.0</td>\n",
       "      <td>0.0</td>\n",
       "      <td>383.215179</td>\n",
       "      <td>436.681213</td>\n",
       "      <td>0.0</td>\n",
       "      <td>404.530792</td>\n",
       "      <td>398.089172</td>\n",
       "      <td>0.0</td>\n",
       "      <td>0.0</td>\n",
       "      <td>0.0</td>\n",
       "    </tr>\n",
       "    <tr>\n",
       "      <th>19202</th>\n",
       "      <td>0.0000</td>\n",
       "      <td>0.0</td>\n",
       "      <td>0.0</td>\n",
       "      <td>0.000000</td>\n",
       "      <td>0.000000</td>\n",
       "      <td>0.0</td>\n",
       "      <td>0.0</td>\n",
       "      <td>0.000000</td>\n",
       "      <td>0.00000</td>\n",
       "      <td>0.0</td>\n",
       "      <td>...</td>\n",
       "      <td>0.0</td>\n",
       "      <td>0.0</td>\n",
       "      <td>0.000000</td>\n",
       "      <td>0.000000</td>\n",
       "      <td>0.0</td>\n",
       "      <td>0.000000</td>\n",
       "      <td>0.000000</td>\n",
       "      <td>0.0</td>\n",
       "      <td>0.0</td>\n",
       "      <td>0.0</td>\n",
       "    </tr>\n",
       "    <tr>\n",
       "      <th>19203</th>\n",
       "      <td>0.0000</td>\n",
       "      <td>0.0</td>\n",
       "      <td>0.0</td>\n",
       "      <td>0.000000</td>\n",
       "      <td>0.000000</td>\n",
       "      <td>0.0</td>\n",
       "      <td>0.0</td>\n",
       "      <td>0.000000</td>\n",
       "      <td>0.00000</td>\n",
       "      <td>0.0</td>\n",
       "      <td>...</td>\n",
       "      <td>0.0</td>\n",
       "      <td>0.0</td>\n",
       "      <td>0.000000</td>\n",
       "      <td>0.000000</td>\n",
       "      <td>0.0</td>\n",
       "      <td>0.000000</td>\n",
       "      <td>0.000000</td>\n",
       "      <td>0.0</td>\n",
       "      <td>0.0</td>\n",
       "      <td>0.0</td>\n",
       "    </tr>\n",
       "    <tr>\n",
       "      <th>19204</th>\n",
       "      <td>0.0000</td>\n",
       "      <td>0.0</td>\n",
       "      <td>0.0</td>\n",
       "      <td>0.000000</td>\n",
       "      <td>0.000000</td>\n",
       "      <td>0.0</td>\n",
       "      <td>0.0</td>\n",
       "      <td>0.000000</td>\n",
       "      <td>0.00000</td>\n",
       "      <td>0.0</td>\n",
       "      <td>...</td>\n",
       "      <td>0.0</td>\n",
       "      <td>0.0</td>\n",
       "      <td>0.000000</td>\n",
       "      <td>0.000000</td>\n",
       "      <td>0.0</td>\n",
       "      <td>0.000000</td>\n",
       "      <td>0.000000</td>\n",
       "      <td>0.0</td>\n",
       "      <td>0.0</td>\n",
       "      <td>0.0</td>\n",
       "    </tr>\n",
       "    <tr>\n",
       "      <th>19205</th>\n",
       "      <td>0.0000</td>\n",
       "      <td>0.0</td>\n",
       "      <td>0.0</td>\n",
       "      <td>0.000000</td>\n",
       "      <td>0.000000</td>\n",
       "      <td>0.0</td>\n",
       "      <td>0.0</td>\n",
       "      <td>0.000000</td>\n",
       "      <td>0.00000</td>\n",
       "      <td>0.0</td>\n",
       "      <td>...</td>\n",
       "      <td>0.0</td>\n",
       "      <td>0.0</td>\n",
       "      <td>0.000000</td>\n",
       "      <td>0.000000</td>\n",
       "      <td>0.0</td>\n",
       "      <td>0.000000</td>\n",
       "      <td>0.000000</td>\n",
       "      <td>0.0</td>\n",
       "      <td>0.0</td>\n",
       "      <td>0.0</td>\n",
       "    </tr>\n",
       "  </tbody>\n",
       "</table>\n",
       "<p>19206 rows × 3566 columns</p>\n",
       "</div>"
      ],
      "text/plain": [
       "              0    1    2           3           4    5    6           7  \\\n",
       "0        0.0000  0.0  0.0    0.000000    0.000000  0.0  0.0    0.000000   \n",
       "1        0.0000  0.0  0.0    0.000000    0.000000  0.0  0.0    0.000000   \n",
       "2        0.0000  0.0  0.0    0.000000    0.000000  0.0  0.0    0.000000   \n",
       "3        0.0000  0.0  0.0    0.000000    0.000000  0.0  0.0    0.000000   \n",
       "4      314.6633  0.0  0.0  390.472473    0.000000  0.0  0.0    0.000000   \n",
       "...         ...  ...  ...         ...         ...  ...  ...         ...   \n",
       "19201    0.0000  0.0  0.0    0.000000  224.215256  0.0  0.0  284.414093   \n",
       "19202    0.0000  0.0  0.0    0.000000    0.000000  0.0  0.0    0.000000   \n",
       "19203    0.0000  0.0  0.0    0.000000    0.000000  0.0  0.0    0.000000   \n",
       "19204    0.0000  0.0  0.0    0.000000    0.000000  0.0  0.0    0.000000   \n",
       "19205    0.0000  0.0  0.0    0.000000    0.000000  0.0  0.0    0.000000   \n",
       "\n",
       "                8    9  ...  3556  3557        3558        3559  3560  \\\n",
       "0         0.00000  0.0  ...   0.0   0.0    0.000000    0.000000   0.0   \n",
       "1         0.00000  0.0  ...   0.0   0.0    0.000000    0.000000   0.0   \n",
       "2         0.00000  0.0  ...   0.0   0.0    0.000000    0.000000   0.0   \n",
       "3         0.00000  0.0  ...   0.0   0.0    0.000000    0.000000   0.0   \n",
       "4         0.00000  0.0  ...   0.0   0.0    0.000000    0.000000   0.0   \n",
       "...           ...  ...  ...   ...   ...         ...         ...   ...   \n",
       "19201  1135.07373  0.0  ...   0.0   0.0  383.215179  436.681213   0.0   \n",
       "19202     0.00000  0.0  ...   0.0   0.0    0.000000    0.000000   0.0   \n",
       "19203     0.00000  0.0  ...   0.0   0.0    0.000000    0.000000   0.0   \n",
       "19204     0.00000  0.0  ...   0.0   0.0    0.000000    0.000000   0.0   \n",
       "19205     0.00000  0.0  ...   0.0   0.0    0.000000    0.000000   0.0   \n",
       "\n",
       "             3561         3562  3563  3564  3565  \n",
       "0        0.000000     0.000000   0.0   0.0   0.0  \n",
       "1        0.000000     0.000000   0.0   0.0   0.0  \n",
       "2        0.000000     0.000000   0.0   0.0   0.0  \n",
       "3        0.000000     0.000000   0.0   0.0   0.0  \n",
       "4        0.000000  1592.356689   0.0   0.0   0.0  \n",
       "...           ...          ...   ...   ...   ...  \n",
       "19201  404.530792   398.089172   0.0   0.0   0.0  \n",
       "19202    0.000000     0.000000   0.0   0.0   0.0  \n",
       "19203    0.000000     0.000000   0.0   0.0   0.0  \n",
       "19204    0.000000     0.000000   0.0   0.0   0.0  \n",
       "19205    0.000000     0.000000   0.0   0.0   0.0  \n",
       "\n",
       "[19206 rows x 3566 columns]"
      ]
     },
     "execution_count": 57,
     "metadata": {},
     "output_type": "execute_result"
    }
   ],
   "source": [
    "df_lung"
   ]
  },
  {
   "cell_type": "markdown",
   "id": "7d6ae576",
   "metadata": {},
   "source": [
    "##### Load genes and cell type information for lung"
   ]
  },
  {
   "cell_type": "code",
   "execution_count": 58,
   "id": "405e385d",
   "metadata": {},
   "outputs": [],
   "source": [
    "index_lung = pd.read_csv('D:\\\\vostro\\\\Degree\\\\PhD\\\\RA\\\\Publication\\\\1-experiment-files\\\\E-GEOD-130148\\\\E-GEOD-130148.aggregated_filtered_normalised_counts.mtx_rows', names = ['col1', 'col2'], sep = '\\t')\n",
    "cols_lung = pd.read_csv('D:\\\\vostro\\\\Degree\\\\PhD\\\\RA\\\\Publication\\\\1-experiment-files\\\\E-GEOD-130148\\\\E-GEOD-130148.aggregated_filtered_normalised_counts.mtx_cols', names = ['col1'])"
   ]
  },
  {
   "cell_type": "code",
   "execution_count": 59,
   "id": "5a1995bd",
   "metadata": {},
   "outputs": [],
   "source": [
    "index_lung = index_lung.drop(['col2'], axis = 1)"
   ]
  },
  {
   "cell_type": "code",
   "execution_count": 60,
   "id": "0d7b5f37-2906-444c-9d8f-e23fad0c75ca",
   "metadata": {
    "tags": []
   },
   "outputs": [],
   "source": [
    "ref_data_lung = pd.read_csv('D:\\\\vostro\\\\Degree\\\\PhD\\\\RA\\\\Publication\\\\1-experiment-files\\\\E-GEOD-130148\\\\ExpDesign-E-GEOD-130148.tsv', sep = '\\t')"
   ]
  },
  {
   "cell_type": "code",
   "execution_count": 61,
   "id": "58e26a4a",
   "metadata": {},
   "outputs": [
    {
     "data": {
      "text/html": [
       "<div>\n",
       "<style scoped>\n",
       "    .dataframe tbody tr th:only-of-type {\n",
       "        vertical-align: middle;\n",
       "    }\n",
       "\n",
       "    .dataframe tbody tr th {\n",
       "        vertical-align: top;\n",
       "    }\n",
       "\n",
       "    .dataframe thead th {\n",
       "        text-align: right;\n",
       "    }\n",
       "</style>\n",
       "<table border=\"1\" class=\"dataframe\">\n",
       "  <thead>\n",
       "    <tr style=\"text-align: right;\">\n",
       "      <th></th>\n",
       "      <th>Assay</th>\n",
       "      <th>Sample Characteristic[organism]</th>\n",
       "      <th>Sample Characteristic Ontology Term[organism]</th>\n",
       "      <th>Sample Characteristic[individual]</th>\n",
       "      <th>Sample Characteristic Ontology Term[individual]</th>\n",
       "      <th>Sample Characteristic[age]</th>\n",
       "      <th>Sample Characteristic Ontology Term[age]</th>\n",
       "      <th>Sample Characteristic[sex]</th>\n",
       "      <th>Sample Characteristic Ontology Term[sex]</th>\n",
       "      <th>Sample Characteristic[organism part]</th>\n",
       "      <th>...</th>\n",
       "      <th>Sample Characteristic[clinical information]</th>\n",
       "      <th>Sample Characteristic Ontology Term[clinical information]</th>\n",
       "      <th>Factor Value[sampling site]</th>\n",
       "      <th>Factor Value Ontology Term[sampling site]</th>\n",
       "      <th>Factor Value[disease]</th>\n",
       "      <th>Factor Value Ontology Term[disease]</th>\n",
       "      <th>Factor Value[clinical information]</th>\n",
       "      <th>Factor Value Ontology Term[clinical information]</th>\n",
       "      <th>Factor Value[inferred cell type - ontology labels]</th>\n",
       "      <th>Factor Value Ontology Term[inferred cell type - ontology labels]</th>\n",
       "    </tr>\n",
       "  </thead>\n",
       "  <tbody>\n",
       "    <tr>\n",
       "      <th>0</th>\n",
       "      <td>SRR8942433-AAAACGAATTCT</td>\n",
       "      <td>Homo sapiens</td>\n",
       "      <td>http://purl.obolibrary.org/obo/NCBITaxon_9606</td>\n",
       "      <td>muc3843</td>\n",
       "      <td>NaN</td>\n",
       "      <td>62 year</td>\n",
       "      <td>NaN</td>\n",
       "      <td>male</td>\n",
       "      <td>http://purl.obolibrary.org/obo/PATO_0000384</td>\n",
       "      <td>lung parenchyma</td>\n",
       "      <td>...</td>\n",
       "      <td>smoker; over 100 per year</td>\n",
       "      <td>NaN</td>\n",
       "      <td>upper lobe of left lung</td>\n",
       "      <td>http://purl.obolibrary.org/obo/UBERON_0008952</td>\n",
       "      <td>chronic obstructive pulmonary disease</td>\n",
       "      <td>http://www.ebi.ac.uk/efo/EFO_0000341</td>\n",
       "      <td>smoker; over 100 per year</td>\n",
       "      <td>NaN</td>\n",
       "      <td>lung macrophage</td>\n",
       "      <td>http://purl.obolibrary.org/obo/CL_1001603</td>\n",
       "    </tr>\n",
       "    <tr>\n",
       "      <th>1</th>\n",
       "      <td>SRR8942433-AAAATAATCTGT</td>\n",
       "      <td>Homo sapiens</td>\n",
       "      <td>http://purl.obolibrary.org/obo/NCBITaxon_9606</td>\n",
       "      <td>muc3843</td>\n",
       "      <td>NaN</td>\n",
       "      <td>62 year</td>\n",
       "      <td>NaN</td>\n",
       "      <td>male</td>\n",
       "      <td>http://purl.obolibrary.org/obo/PATO_0000384</td>\n",
       "      <td>lung parenchyma</td>\n",
       "      <td>...</td>\n",
       "      <td>smoker; over 100 per year</td>\n",
       "      <td>NaN</td>\n",
       "      <td>upper lobe of left lung</td>\n",
       "      <td>http://purl.obolibrary.org/obo/UBERON_0008952</td>\n",
       "      <td>chronic obstructive pulmonary disease</td>\n",
       "      <td>http://www.ebi.ac.uk/efo/EFO_0000341</td>\n",
       "      <td>smoker; over 100 per year</td>\n",
       "      <td>NaN</td>\n",
       "      <td>type II pneumocyte</td>\n",
       "      <td>http://purl.obolibrary.org/obo/CL_0002063</td>\n",
       "    </tr>\n",
       "    <tr>\n",
       "      <th>2</th>\n",
       "      <td>SRR8942433-AAAGACTGTCAA</td>\n",
       "      <td>Homo sapiens</td>\n",
       "      <td>http://purl.obolibrary.org/obo/NCBITaxon_9606</td>\n",
       "      <td>muc3843</td>\n",
       "      <td>NaN</td>\n",
       "      <td>62 year</td>\n",
       "      <td>NaN</td>\n",
       "      <td>male</td>\n",
       "      <td>http://purl.obolibrary.org/obo/PATO_0000384</td>\n",
       "      <td>lung parenchyma</td>\n",
       "      <td>...</td>\n",
       "      <td>smoker; over 100 per year</td>\n",
       "      <td>NaN</td>\n",
       "      <td>upper lobe of left lung</td>\n",
       "      <td>http://purl.obolibrary.org/obo/UBERON_0008952</td>\n",
       "      <td>chronic obstructive pulmonary disease</td>\n",
       "      <td>http://www.ebi.ac.uk/efo/EFO_0000341</td>\n",
       "      <td>smoker; over 100 per year</td>\n",
       "      <td>NaN</td>\n",
       "      <td>type II pneumocyte</td>\n",
       "      <td>http://purl.obolibrary.org/obo/CL_0002063</td>\n",
       "    </tr>\n",
       "    <tr>\n",
       "      <th>3</th>\n",
       "      <td>SRR8942433-AAAGCGGATCGC</td>\n",
       "      <td>Homo sapiens</td>\n",
       "      <td>http://purl.obolibrary.org/obo/NCBITaxon_9606</td>\n",
       "      <td>muc3843</td>\n",
       "      <td>NaN</td>\n",
       "      <td>62 year</td>\n",
       "      <td>NaN</td>\n",
       "      <td>male</td>\n",
       "      <td>http://purl.obolibrary.org/obo/PATO_0000384</td>\n",
       "      <td>lung parenchyma</td>\n",
       "      <td>...</td>\n",
       "      <td>smoker; over 100 per year</td>\n",
       "      <td>NaN</td>\n",
       "      <td>upper lobe of left lung</td>\n",
       "      <td>http://purl.obolibrary.org/obo/UBERON_0008952</td>\n",
       "      <td>chronic obstructive pulmonary disease</td>\n",
       "      <td>http://www.ebi.ac.uk/efo/EFO_0000341</td>\n",
       "      <td>smoker; over 100 per year</td>\n",
       "      <td>NaN</td>\n",
       "      <td>lung macrophage</td>\n",
       "      <td>http://purl.obolibrary.org/obo/CL_1001603</td>\n",
       "    </tr>\n",
       "    <tr>\n",
       "      <th>4</th>\n",
       "      <td>SRR8942433-AAAGGGCGATGG</td>\n",
       "      <td>Homo sapiens</td>\n",
       "      <td>http://purl.obolibrary.org/obo/NCBITaxon_9606</td>\n",
       "      <td>muc3843</td>\n",
       "      <td>NaN</td>\n",
       "      <td>62 year</td>\n",
       "      <td>NaN</td>\n",
       "      <td>male</td>\n",
       "      <td>http://purl.obolibrary.org/obo/PATO_0000384</td>\n",
       "      <td>lung parenchyma</td>\n",
       "      <td>...</td>\n",
       "      <td>smoker; over 100 per year</td>\n",
       "      <td>NaN</td>\n",
       "      <td>upper lobe of left lung</td>\n",
       "      <td>http://purl.obolibrary.org/obo/UBERON_0008952</td>\n",
       "      <td>chronic obstructive pulmonary disease</td>\n",
       "      <td>http://www.ebi.ac.uk/efo/EFO_0000341</td>\n",
       "      <td>smoker; over 100 per year</td>\n",
       "      <td>NaN</td>\n",
       "      <td>lung macrophage</td>\n",
       "      <td>http://purl.obolibrary.org/obo/CL_1001603</td>\n",
       "    </tr>\n",
       "  </tbody>\n",
       "</table>\n",
       "<p>5 rows × 27 columns</p>\n",
       "</div>"
      ],
      "text/plain": [
       "                     Assay Sample Characteristic[organism]  \\\n",
       "0  SRR8942433-AAAACGAATTCT                    Homo sapiens   \n",
       "1  SRR8942433-AAAATAATCTGT                    Homo sapiens   \n",
       "2  SRR8942433-AAAGACTGTCAA                    Homo sapiens   \n",
       "3  SRR8942433-AAAGCGGATCGC                    Homo sapiens   \n",
       "4  SRR8942433-AAAGGGCGATGG                    Homo sapiens   \n",
       "\n",
       "   Sample Characteristic Ontology Term[organism]  \\\n",
       "0  http://purl.obolibrary.org/obo/NCBITaxon_9606   \n",
       "1  http://purl.obolibrary.org/obo/NCBITaxon_9606   \n",
       "2  http://purl.obolibrary.org/obo/NCBITaxon_9606   \n",
       "3  http://purl.obolibrary.org/obo/NCBITaxon_9606   \n",
       "4  http://purl.obolibrary.org/obo/NCBITaxon_9606   \n",
       "\n",
       "  Sample Characteristic[individual]  \\\n",
       "0                           muc3843   \n",
       "1                           muc3843   \n",
       "2                           muc3843   \n",
       "3                           muc3843   \n",
       "4                           muc3843   \n",
       "\n",
       "   Sample Characteristic Ontology Term[individual] Sample Characteristic[age]  \\\n",
       "0                                              NaN                    62 year   \n",
       "1                                              NaN                    62 year   \n",
       "2                                              NaN                    62 year   \n",
       "3                                              NaN                    62 year   \n",
       "4                                              NaN                    62 year   \n",
       "\n",
       "   Sample Characteristic Ontology Term[age] Sample Characteristic[sex]  \\\n",
       "0                                       NaN                       male   \n",
       "1                                       NaN                       male   \n",
       "2                                       NaN                       male   \n",
       "3                                       NaN                       male   \n",
       "4                                       NaN                       male   \n",
       "\n",
       "      Sample Characteristic Ontology Term[sex]  \\\n",
       "0  http://purl.obolibrary.org/obo/PATO_0000384   \n",
       "1  http://purl.obolibrary.org/obo/PATO_0000384   \n",
       "2  http://purl.obolibrary.org/obo/PATO_0000384   \n",
       "3  http://purl.obolibrary.org/obo/PATO_0000384   \n",
       "4  http://purl.obolibrary.org/obo/PATO_0000384   \n",
       "\n",
       "  Sample Characteristic[organism part]  ...  \\\n",
       "0                      lung parenchyma  ...   \n",
       "1                      lung parenchyma  ...   \n",
       "2                      lung parenchyma  ...   \n",
       "3                      lung parenchyma  ...   \n",
       "4                      lung parenchyma  ...   \n",
       "\n",
       "  Sample Characteristic[clinical information]  \\\n",
       "0                   smoker; over 100 per year   \n",
       "1                   smoker; over 100 per year   \n",
       "2                   smoker; over 100 per year   \n",
       "3                   smoker; over 100 per year   \n",
       "4                   smoker; over 100 per year   \n",
       "\n",
       "  Sample Characteristic Ontology Term[clinical information]  \\\n",
       "0                                                NaN          \n",
       "1                                                NaN          \n",
       "2                                                NaN          \n",
       "3                                                NaN          \n",
       "4                                                NaN          \n",
       "\n",
       "  Factor Value[sampling site]      Factor Value Ontology Term[sampling site]  \\\n",
       "0     upper lobe of left lung  http://purl.obolibrary.org/obo/UBERON_0008952   \n",
       "1     upper lobe of left lung  http://purl.obolibrary.org/obo/UBERON_0008952   \n",
       "2     upper lobe of left lung  http://purl.obolibrary.org/obo/UBERON_0008952   \n",
       "3     upper lobe of left lung  http://purl.obolibrary.org/obo/UBERON_0008952   \n",
       "4     upper lobe of left lung  http://purl.obolibrary.org/obo/UBERON_0008952   \n",
       "\n",
       "                   Factor Value[disease]  \\\n",
       "0  chronic obstructive pulmonary disease   \n",
       "1  chronic obstructive pulmonary disease   \n",
       "2  chronic obstructive pulmonary disease   \n",
       "3  chronic obstructive pulmonary disease   \n",
       "4  chronic obstructive pulmonary disease   \n",
       "\n",
       "    Factor Value Ontology Term[disease] Factor Value[clinical information]  \\\n",
       "0  http://www.ebi.ac.uk/efo/EFO_0000341          smoker; over 100 per year   \n",
       "1  http://www.ebi.ac.uk/efo/EFO_0000341          smoker; over 100 per year   \n",
       "2  http://www.ebi.ac.uk/efo/EFO_0000341          smoker; over 100 per year   \n",
       "3  http://www.ebi.ac.uk/efo/EFO_0000341          smoker; over 100 per year   \n",
       "4  http://www.ebi.ac.uk/efo/EFO_0000341          smoker; over 100 per year   \n",
       "\n",
       "  Factor Value Ontology Term[clinical information]  \\\n",
       "0                                              NaN   \n",
       "1                                              NaN   \n",
       "2                                              NaN   \n",
       "3                                              NaN   \n",
       "4                                              NaN   \n",
       "\n",
       "   Factor Value[inferred cell type - ontology labels]  \\\n",
       "0                                    lung macrophage    \n",
       "1                                 type II pneumocyte    \n",
       "2                                 type II pneumocyte    \n",
       "3                                    lung macrophage    \n",
       "4                                    lung macrophage    \n",
       "\n",
       "  Factor Value Ontology Term[inferred cell type - ontology labels]  \n",
       "0          http://purl.obolibrary.org/obo/CL_1001603                \n",
       "1          http://purl.obolibrary.org/obo/CL_0002063                \n",
       "2          http://purl.obolibrary.org/obo/CL_0002063                \n",
       "3          http://purl.obolibrary.org/obo/CL_1001603                \n",
       "4          http://purl.obolibrary.org/obo/CL_1001603                \n",
       "\n",
       "[5 rows x 27 columns]"
      ]
     },
     "execution_count": 61,
     "metadata": {},
     "output_type": "execute_result"
    }
   ],
   "source": [
    "ref_data_lung.head()"
   ]
  },
  {
   "cell_type": "code",
   "execution_count": 62,
   "id": "365d4ce8-4eb8-4c44-9434-815dd50bda3b",
   "metadata": {
    "tags": []
   },
   "outputs": [
    {
     "data": {
      "text/plain": [
       "Index(['Assay', 'Sample Characteristic[organism]',\n",
       "       'Sample Characteristic Ontology Term[organism]',\n",
       "       'Sample Characteristic[individual]',\n",
       "       'Sample Characteristic Ontology Term[individual]',\n",
       "       'Sample Characteristic[age]',\n",
       "       'Sample Characteristic Ontology Term[age]',\n",
       "       'Sample Characteristic[sex]',\n",
       "       'Sample Characteristic Ontology Term[sex]',\n",
       "       'Sample Characteristic[organism part]',\n",
       "       'Sample Characteristic Ontology Term[organism part]',\n",
       "       'Sample Characteristic[sampling site]',\n",
       "       'Sample Characteristic Ontology Term[sampling site]',\n",
       "       'Sample Characteristic[disease]',\n",
       "       'Sample Characteristic Ontology Term[disease]',\n",
       "       'Sample Characteristic[disease staging]',\n",
       "       'Sample Characteristic Ontology Term[disease staging]',\n",
       "       'Sample Characteristic[clinical information]',\n",
       "       'Sample Characteristic Ontology Term[clinical information]',\n",
       "       'Factor Value[sampling site]',\n",
       "       'Factor Value Ontology Term[sampling site]', 'Factor Value[disease]',\n",
       "       'Factor Value Ontology Term[disease]',\n",
       "       'Factor Value[clinical information]',\n",
       "       'Factor Value Ontology Term[clinical information]',\n",
       "       'Factor Value[inferred cell type - ontology labels]',\n",
       "       'Factor Value Ontology Term[inferred cell type - ontology labels]'],\n",
       "      dtype='object')"
      ]
     },
     "execution_count": 62,
     "metadata": {},
     "output_type": "execute_result"
    }
   ],
   "source": [
    "ref_data_lung.columns"
   ]
  },
  {
   "cell_type": "code",
   "execution_count": 63,
   "id": "b33969a0-f898-42be-9624-bf7fc23ff551",
   "metadata": {
    "tags": []
   },
   "outputs": [],
   "source": [
    "ref_data_lung = ref_data_lung.rename(columns={'Factor Value[inferred cell type - ontology labels]' : 'Cell_Type', 'Factor Value Ontology Term[inferred cell type - ontology labels]' : 'CL_ID'})"
   ]
  },
  {
   "cell_type": "code",
   "execution_count": 64,
   "id": "e85cc047-485d-4c80-8e77-ff8152a8c26d",
   "metadata": {
    "tags": []
   },
   "outputs": [],
   "source": [
    "ref_data_1_lung = ref_data_lung[['Assay', 'Cell_Type', 'CL_ID']]"
   ]
  },
  {
   "cell_type": "code",
   "execution_count": 65,
   "id": "e0762353-fe59-430c-a39e-e56e5b78103c",
   "metadata": {
    "tags": []
   },
   "outputs": [
    {
     "name": "stderr",
     "output_type": "stream",
     "text": [
      "C:\\Users\\Supriya\\AppData\\Local\\Temp\\ipykernel_9988\\3971447701.py:1: SettingWithCopyWarning: \n",
      "A value is trying to be set on a copy of a slice from a DataFrame.\n",
      "Try using .loc[row_indexer,col_indexer] = value instead\n",
      "\n",
      "See the caveats in the documentation: https://pandas.pydata.org/pandas-docs/stable/user_guide/indexing.html#returning-a-view-versus-a-copy\n",
      "  ref_data_1_lung['CL_ID'] = ref_data_1_lung['CL_ID'].str.split('/').str[-1]\n"
     ]
    }
   ],
   "source": [
    "ref_data_1_lung['CL_ID'] = ref_data_1_lung['CL_ID'].str.split('/').str[-1]"
   ]
  },
  {
   "cell_type": "code",
   "execution_count": 66,
   "id": "f7346d70-99c3-48dd-86cf-020717ae9c43",
   "metadata": {
    "tags": []
   },
   "outputs": [
    {
     "name": "stderr",
     "output_type": "stream",
     "text": [
      "C:\\Users\\Supriya\\AppData\\Local\\Temp\\ipykernel_9988\\3039522715.py:1: SettingWithCopyWarning: \n",
      "A value is trying to be set on a copy of a slice from a DataFrame.\n",
      "Try using .loc[row_indexer,col_indexer] = value instead\n",
      "\n",
      "See the caveats in the documentation: https://pandas.pydata.org/pandas-docs/stable/user_guide/indexing.html#returning-a-view-versus-a-copy\n",
      "  ref_data_1_lung['CL_ID'] = ref_data_1_lung['CL_ID'].str.replace('_', ':')\n"
     ]
    }
   ],
   "source": [
    "ref_data_1_lung['CL_ID'] = ref_data_1_lung['CL_ID'].str.replace('_', ':')"
   ]
  },
  {
   "cell_type": "code",
   "execution_count": 67,
   "id": "de528b7f-37cb-43fb-8bc3-8fc2d82b5e7b",
   "metadata": {
    "tags": []
   },
   "outputs": [
    {
     "data": {
      "text/html": [
       "<div>\n",
       "<style scoped>\n",
       "    .dataframe tbody tr th:only-of-type {\n",
       "        vertical-align: middle;\n",
       "    }\n",
       "\n",
       "    .dataframe tbody tr th {\n",
       "        vertical-align: top;\n",
       "    }\n",
       "\n",
       "    .dataframe thead th {\n",
       "        text-align: right;\n",
       "    }\n",
       "</style>\n",
       "<table border=\"1\" class=\"dataframe\">\n",
       "  <thead>\n",
       "    <tr style=\"text-align: right;\">\n",
       "      <th></th>\n",
       "      <th>Assay</th>\n",
       "      <th>Cell_Type</th>\n",
       "      <th>CL_ID</th>\n",
       "    </tr>\n",
       "  </thead>\n",
       "  <tbody>\n",
       "    <tr>\n",
       "      <th>0</th>\n",
       "      <td>SRR8942433-AAAACGAATTCT</td>\n",
       "      <td>lung macrophage</td>\n",
       "      <td>CL:1001603</td>\n",
       "    </tr>\n",
       "    <tr>\n",
       "      <th>1</th>\n",
       "      <td>SRR8942433-AAAATAATCTGT</td>\n",
       "      <td>type II pneumocyte</td>\n",
       "      <td>CL:0002063</td>\n",
       "    </tr>\n",
       "    <tr>\n",
       "      <th>2</th>\n",
       "      <td>SRR8942433-AAAGACTGTCAA</td>\n",
       "      <td>type II pneumocyte</td>\n",
       "      <td>CL:0002063</td>\n",
       "    </tr>\n",
       "    <tr>\n",
       "      <th>3</th>\n",
       "      <td>SRR8942433-AAAGCGGATCGC</td>\n",
       "      <td>lung macrophage</td>\n",
       "      <td>CL:1001603</td>\n",
       "    </tr>\n",
       "    <tr>\n",
       "      <th>4</th>\n",
       "      <td>SRR8942433-AAAGGGCGATGG</td>\n",
       "      <td>lung macrophage</td>\n",
       "      <td>CL:1001603</td>\n",
       "    </tr>\n",
       "    <tr>\n",
       "      <th>...</th>\n",
       "      <td>...</td>\n",
       "      <td>...</td>\n",
       "      <td>...</td>\n",
       "    </tr>\n",
       "    <tr>\n",
       "      <th>3561</th>\n",
       "      <td>SRR8942436-TTTTAGCGCTCA</td>\n",
       "      <td>B cell</td>\n",
       "      <td>CL:0000236</td>\n",
       "    </tr>\n",
       "    <tr>\n",
       "      <th>3562</th>\n",
       "      <td>SRR8942436-TTTTCTACCCTA</td>\n",
       "      <td>natural killer cell</td>\n",
       "      <td>CL:0000623</td>\n",
       "    </tr>\n",
       "    <tr>\n",
       "      <th>3563</th>\n",
       "      <td>SRR8942436-TTTTGTAATATA</td>\n",
       "      <td>T cell</td>\n",
       "      <td>CL:0000084</td>\n",
       "    </tr>\n",
       "    <tr>\n",
       "      <th>3564</th>\n",
       "      <td>SRR8942436-TTTTTCGCGCGG</td>\n",
       "      <td>B cell</td>\n",
       "      <td>CL:0000236</td>\n",
       "    </tr>\n",
       "    <tr>\n",
       "      <th>3565</th>\n",
       "      <td>SRR8942436-TTTTTGGAGCCC</td>\n",
       "      <td>mast cell</td>\n",
       "      <td>CL:0000097</td>\n",
       "    </tr>\n",
       "  </tbody>\n",
       "</table>\n",
       "<p>3566 rows × 3 columns</p>\n",
       "</div>"
      ],
      "text/plain": [
       "                        Assay            Cell_Type       CL_ID\n",
       "0     SRR8942433-AAAACGAATTCT      lung macrophage  CL:1001603\n",
       "1     SRR8942433-AAAATAATCTGT   type II pneumocyte  CL:0002063\n",
       "2     SRR8942433-AAAGACTGTCAA   type II pneumocyte  CL:0002063\n",
       "3     SRR8942433-AAAGCGGATCGC      lung macrophage  CL:1001603\n",
       "4     SRR8942433-AAAGGGCGATGG      lung macrophage  CL:1001603\n",
       "...                       ...                  ...         ...\n",
       "3561  SRR8942436-TTTTAGCGCTCA               B cell  CL:0000236\n",
       "3562  SRR8942436-TTTTCTACCCTA  natural killer cell  CL:0000623\n",
       "3563  SRR8942436-TTTTGTAATATA               T cell  CL:0000084\n",
       "3564  SRR8942436-TTTTTCGCGCGG               B cell  CL:0000236\n",
       "3565  SRR8942436-TTTTTGGAGCCC            mast cell  CL:0000097\n",
       "\n",
       "[3566 rows x 3 columns]"
      ]
     },
     "execution_count": 67,
     "metadata": {},
     "output_type": "execute_result"
    }
   ],
   "source": [
    "ref_data_1_lung"
   ]
  },
  {
   "cell_type": "code",
   "execution_count": 68,
   "id": "a85ab905-aae5-4ca4-b1b8-9c590db774c5",
   "metadata": {
    "tags": []
   },
   "outputs": [
    {
     "data": {
      "text/plain": [
       "Cell_Type\n",
       "lung macrophage                1180\n",
       "type II pneumocyte              494\n",
       "B cell                          272\n",
       "mast cell                       237\n",
       "transformed epithelial cell     180\n",
       "T cell                          178\n",
       "lung ciliated cell              175\n",
       "lung secretory cell             128\n",
       "type I pneumocyte               101\n",
       "fibroblast of lung               75\n",
       "lymphocyte                       66\n",
       "lung endothelial cell            60\n",
       "natural killer cell              56\n",
       "Name: count, dtype: int64"
      ]
     },
     "execution_count": 68,
     "metadata": {},
     "output_type": "execute_result"
    }
   ],
   "source": [
    "ref_data_1_lung['Cell_Type'].value_counts()"
   ]
  },
  {
   "cell_type": "code",
   "execution_count": 70,
   "id": "b78e08ae",
   "metadata": {},
   "outputs": [
    {
     "name": "stdout",
     "output_type": "stream",
     "text": [
      "                     col1\n",
      "0         lung macrophage\n",
      "1      type II pneumocyte\n",
      "2      type II pneumocyte\n",
      "3         lung macrophage\n",
      "4         lung macrophage\n",
      "...                   ...\n",
      "3561               B cell\n",
      "3562  natural killer cell\n",
      "3563               T cell\n",
      "3564               B cell\n",
      "3565            mast cell\n",
      "\n",
      "[3566 rows x 1 columns]\n"
     ]
    }
   ],
   "source": [
    "# Create a mapping using dataframe2\n",
    "mapping = ref_data_1_lung.set_index('Assay')['Cell_Type']\n",
    "\n",
    "# Use the map function to replace values in dataframe1\n",
    "cols_lung['col1'] = cols_lung['col1'].map(mapping)\n",
    "\n",
    "# Display the modified dataframe1\n",
    "print(cols_lung)"
   ]
  },
  {
   "cell_type": "markdown",
   "id": "6425c3c2",
   "metadata": {},
   "source": [
    "#### Get the HGNC gene name using ensemble id"
   ]
  },
  {
   "cell_type": "code",
   "execution_count": 71,
   "id": "bd931c79-e657-44df-b4a7-1793bddd6e76",
   "metadata": {
    "tags": []
   },
   "outputs": [],
   "source": [
    "with open('D:\\\\vostro\\\\Degree\\\\PhD\\RA\\\\Publication\\\\Homo_sapiens.GRCh37.87.chr.gtf\\\\Homo_sapiens.GRCh37.87.chr.gtf') as f:\n",
    "    gtf = list(f)\n",
    "    \n",
    "gtf = [x for x in gtf if not x.startswith('#')]"
   ]
  },
  {
   "cell_type": "code",
   "execution_count": 72,
   "id": "152afb3b-4579-470d-afa7-f3c87e8b5c47",
   "metadata": {
    "tags": []
   },
   "outputs": [
    {
     "data": {
      "text/plain": [
       "2612761"
      ]
     },
     "execution_count": 72,
     "metadata": {},
     "output_type": "execute_result"
    }
   ],
   "source": [
    "len(gtf)"
   ]
  },
  {
   "cell_type": "code",
   "execution_count": 73,
   "id": "7717fd28-4cb9-4374-a200-7201c5d56b8a",
   "metadata": {
    "tags": []
   },
   "outputs": [],
   "source": [
    "gtf = [x for x in gtf if 'gene_id \"' in x and 'gene_name \"' in x]"
   ]
  },
  {
   "cell_type": "code",
   "execution_count": 74,
   "id": "a2f96d2e-c99b-41be-81e9-53293d40f1e7",
   "metadata": {
    "tags": []
   },
   "outputs": [
    {
     "data": {
      "text/plain": [
       "2612761"
      ]
     },
     "execution_count": 74,
     "metadata": {},
     "output_type": "execute_result"
    }
   ],
   "source": [
    "len(gtf)"
   ]
  },
  {
   "cell_type": "code",
   "execution_count": 75,
   "id": "aab5fc38-fcd4-4dd8-a59c-4d6730804502",
   "metadata": {
    "tags": []
   },
   "outputs": [],
   "source": [
    "gtf = list(map(lambda x: (x.split('gene_id \"')[1].split('\"')[0], x.split('gene_name \"')[1].split('\"')[0]), gtf))"
   ]
  },
  {
   "cell_type": "code",
   "execution_count": 76,
   "id": "c4ee0430-197a-448f-8c9b-d7fa11c3ae91",
   "metadata": {
    "tags": []
   },
   "outputs": [],
   "source": [
    "gtf = dict(gtf)"
   ]
  },
  {
   "cell_type": "markdown",
   "id": "bc3ffe6a",
   "metadata": {},
   "source": [
    "##### Get HGNC_SYMBOL from ensemble ids for all the three organs (Kidney, Liver, Lung)"
   ]
  },
  {
   "cell_type": "code",
   "execution_count": 77,
   "id": "d1474709",
   "metadata": {},
   "outputs": [
    {
     "data": {
      "text/html": [
       "<div>\n",
       "<style scoped>\n",
       "    .dataframe tbody tr th:only-of-type {\n",
       "        vertical-align: middle;\n",
       "    }\n",
       "\n",
       "    .dataframe tbody tr th {\n",
       "        vertical-align: top;\n",
       "    }\n",
       "\n",
       "    .dataframe thead th {\n",
       "        text-align: right;\n",
       "    }\n",
       "</style>\n",
       "<table border=\"1\" class=\"dataframe\">\n",
       "  <thead>\n",
       "    <tr style=\"text-align: right;\">\n",
       "      <th></th>\n",
       "      <th>col1</th>\n",
       "      <th>gene_name</th>\n",
       "    </tr>\n",
       "  </thead>\n",
       "  <tbody>\n",
       "    <tr>\n",
       "      <th>0</th>\n",
       "      <td>ENSG00000000003</td>\n",
       "      <td>TSPAN6</td>\n",
       "    </tr>\n",
       "    <tr>\n",
       "      <th>1</th>\n",
       "      <td>ENSG00000000005</td>\n",
       "      <td>TNMD</td>\n",
       "    </tr>\n",
       "    <tr>\n",
       "      <th>2</th>\n",
       "      <td>ENSG00000000419</td>\n",
       "      <td>DPM1</td>\n",
       "    </tr>\n",
       "    <tr>\n",
       "      <th>3</th>\n",
       "      <td>ENSG00000000457</td>\n",
       "      <td>SCYL3</td>\n",
       "    </tr>\n",
       "    <tr>\n",
       "      <th>4</th>\n",
       "      <td>ENSG00000000460</td>\n",
       "      <td>C1orf112</td>\n",
       "    </tr>\n",
       "  </tbody>\n",
       "</table>\n",
       "</div>"
      ],
      "text/plain": [
       "              col1 gene_name\n",
       "0  ENSG00000000003    TSPAN6\n",
       "1  ENSG00000000005      TNMD\n",
       "2  ENSG00000000419      DPM1\n",
       "3  ENSG00000000457     SCYL3\n",
       "4  ENSG00000000460  C1orf112"
      ]
     },
     "execution_count": 77,
     "metadata": {},
     "output_type": "execute_result"
    }
   ],
   "source": [
    "index_kidney['gene_name'] = index_kidney['col1'].map(gtf)\n",
    "index_kidney.head()"
   ]
  },
  {
   "cell_type": "code",
   "execution_count": 83,
   "id": "48140789",
   "metadata": {},
   "outputs": [],
   "source": [
    "index_lung['gene_name'] = index_lung['col1'].map(gtf)"
   ]
  },
  {
   "cell_type": "code",
   "execution_count": 84,
   "id": "f16b5a52-27ac-4750-84ff-48049e541631",
   "metadata": {
    "tags": []
   },
   "outputs": [
    {
     "data": {
      "text/html": [
       "<div>\n",
       "<style scoped>\n",
       "    .dataframe tbody tr th:only-of-type {\n",
       "        vertical-align: middle;\n",
       "    }\n",
       "\n",
       "    .dataframe tbody tr th {\n",
       "        vertical-align: top;\n",
       "    }\n",
       "\n",
       "    .dataframe thead th {\n",
       "        text-align: right;\n",
       "    }\n",
       "</style>\n",
       "<table border=\"1\" class=\"dataframe\">\n",
       "  <thead>\n",
       "    <tr style=\"text-align: right;\">\n",
       "      <th></th>\n",
       "      <th>col1</th>\n",
       "      <th>gene_name</th>\n",
       "    </tr>\n",
       "  </thead>\n",
       "  <tbody>\n",
       "    <tr>\n",
       "      <th>0</th>\n",
       "      <td>ENSG00000000003</td>\n",
       "      <td>TSPAN6</td>\n",
       "    </tr>\n",
       "    <tr>\n",
       "      <th>1</th>\n",
       "      <td>ENSG00000000419</td>\n",
       "      <td>DPM1</td>\n",
       "    </tr>\n",
       "    <tr>\n",
       "      <th>2</th>\n",
       "      <td>ENSG00000000457</td>\n",
       "      <td>SCYL3</td>\n",
       "    </tr>\n",
       "    <tr>\n",
       "      <th>3</th>\n",
       "      <td>ENSG00000000460</td>\n",
       "      <td>C1orf112</td>\n",
       "    </tr>\n",
       "    <tr>\n",
       "      <th>4</th>\n",
       "      <td>ENSG00000000938</td>\n",
       "      <td>FGR</td>\n",
       "    </tr>\n",
       "  </tbody>\n",
       "</table>\n",
       "</div>"
      ],
      "text/plain": [
       "              col1 gene_name\n",
       "0  ENSG00000000003    TSPAN6\n",
       "1  ENSG00000000419      DPM1\n",
       "2  ENSG00000000457     SCYL3\n",
       "3  ENSG00000000460  C1orf112\n",
       "4  ENSG00000000938       FGR"
      ]
     },
     "execution_count": 84,
     "metadata": {},
     "output_type": "execute_result"
    }
   ],
   "source": [
    "index_lung.head()"
   ]
  },
  {
   "cell_type": "code",
   "execution_count": 79,
   "id": "70546e00-d8b6-415d-92fe-101adc042cb9",
   "metadata": {
    "tags": []
   },
   "outputs": [],
   "source": [
    "index_liver['gene_name'] = index_liver['col1'].map(gtf)"
   ]
  },
  {
   "cell_type": "code",
   "execution_count": 80,
   "id": "a51aef38",
   "metadata": {},
   "outputs": [
    {
     "data": {
      "text/html": [
       "<div>\n",
       "<style scoped>\n",
       "    .dataframe tbody tr th:only-of-type {\n",
       "        vertical-align: middle;\n",
       "    }\n",
       "\n",
       "    .dataframe tbody tr th {\n",
       "        vertical-align: top;\n",
       "    }\n",
       "\n",
       "    .dataframe thead th {\n",
       "        text-align: right;\n",
       "    }\n",
       "</style>\n",
       "<table border=\"1\" class=\"dataframe\">\n",
       "  <thead>\n",
       "    <tr style=\"text-align: right;\">\n",
       "      <th></th>\n",
       "      <th>col1</th>\n",
       "      <th>gene_name</th>\n",
       "    </tr>\n",
       "  </thead>\n",
       "  <tbody>\n",
       "    <tr>\n",
       "      <th>0</th>\n",
       "      <td>ENSG00000000003</td>\n",
       "      <td>TSPAN6</td>\n",
       "    </tr>\n",
       "    <tr>\n",
       "      <th>1</th>\n",
       "      <td>ENSG00000000005</td>\n",
       "      <td>TNMD</td>\n",
       "    </tr>\n",
       "    <tr>\n",
       "      <th>2</th>\n",
       "      <td>ENSG00000000419</td>\n",
       "      <td>DPM1</td>\n",
       "    </tr>\n",
       "    <tr>\n",
       "      <th>3</th>\n",
       "      <td>ENSG00000000457</td>\n",
       "      <td>SCYL3</td>\n",
       "    </tr>\n",
       "    <tr>\n",
       "      <th>4</th>\n",
       "      <td>ENSG00000000460</td>\n",
       "      <td>C1orf112</td>\n",
       "    </tr>\n",
       "  </tbody>\n",
       "</table>\n",
       "</div>"
      ],
      "text/plain": [
       "              col1 gene_name\n",
       "0  ENSG00000000003    TSPAN6\n",
       "1  ENSG00000000005      TNMD\n",
       "2  ENSG00000000419      DPM1\n",
       "3  ENSG00000000457     SCYL3\n",
       "4  ENSG00000000460  C1orf112"
      ]
     },
     "execution_count": 80,
     "metadata": {},
     "output_type": "execute_result"
    }
   ],
   "source": [
    "index_liver.head()"
   ]
  },
  {
   "cell_type": "code",
   "execution_count": 78,
   "id": "19800614",
   "metadata": {},
   "outputs": [],
   "source": [
    "index_val_kidney = index_kidney['gene_name'].tolist()\n",
    "col_val_kidney = cols_kidney['col1'].tolist()"
   ]
  },
  {
   "cell_type": "code",
   "execution_count": 81,
   "id": "703a31da-19b5-4756-bda3-0db36caa8685",
   "metadata": {
    "tags": []
   },
   "outputs": [],
   "source": [
    "index_val_liver = index_liver['gene_name'].tolist()\n",
    "col_val_liver = cols_liver['col1'].tolist()"
   ]
  },
  {
   "cell_type": "code",
   "execution_count": 85,
   "id": "da3f2ad8",
   "metadata": {},
   "outputs": [],
   "source": [
    "index_val_lung = index_lung['gene_name'].tolist()\n",
    "col_val_lung = cols_lung['col1'].tolist()"
   ]
  },
  {
   "cell_type": "code",
   "execution_count": 86,
   "id": "89528453",
   "metadata": {},
   "outputs": [
    {
     "name": "stdout",
     "output_type": "stream",
     "text": [
      "22792 12657\n"
     ]
    }
   ],
   "source": [
    "print(len(index_val_kidney), len(col_val_kidney))"
   ]
  },
  {
   "cell_type": "code",
   "execution_count": 87,
   "id": "a5576d15",
   "metadata": {},
   "outputs": [
    {
     "name": "stdout",
     "output_type": "stream",
     "text": [
      "22813 17123\n"
     ]
    }
   ],
   "source": [
    "print(len(index_val_liver), len(col_val_liver))"
   ]
  },
  {
   "cell_type": "code",
   "execution_count": 88,
   "id": "cf4f39db",
   "metadata": {},
   "outputs": [
    {
     "name": "stdout",
     "output_type": "stream",
     "text": [
      "19206 3566\n"
     ]
    }
   ],
   "source": [
    "print(len(index_val_lung), len(col_val_lung))"
   ]
  },
  {
   "cell_type": "markdown",
   "id": "44c8bc8f",
   "metadata": {},
   "source": [
    "### Convert the dataframe to anndata for analysis\n",
    "\n",
    "1. average gene expression\n",
    "2. wilcoxon method to compute pval and logfoldchange (Differential gene expression) "
   ]
  },
  {
   "cell_type": "code",
   "execution_count": 89,
   "id": "b2301006",
   "metadata": {},
   "outputs": [],
   "source": [
    "anndata_kidney = anndata_kidney.T"
   ]
  },
  {
   "cell_type": "code",
   "execution_count": 90,
   "id": "f77e59aa",
   "metadata": {},
   "outputs": [
    {
     "name": "stdout",
     "output_type": "stream",
     "text": [
      "{'principle cell', 'Type B intercalated cell', 'proximal tubule with VCAM1 expression', 'connecting tubule', 'Type A intercalated cell', 'thick ascending limb', 'parietal epithelial cell', 'distal convoluted tubule 1', nan, 'distal convoluted tubule 2', 'mesangial cell', 'proximal tubule', 'leukocyte', 'endothelial cell', 'fibroblast', 'podocyte'}\n"
     ]
    }
   ],
   "source": [
    "print(set(col_val_kidney))"
   ]
  },
  {
   "cell_type": "code",
   "execution_count": 91,
   "id": "36f71a6e",
   "metadata": {},
   "outputs": [],
   "source": [
    "anndata_kidney.obs[\"cell_Type\"] = col_val_kidney\n",
    "anndata_kidney.var[\"Genes\"] = index_val_kidney"
   ]
  },
  {
   "cell_type": "code",
   "execution_count": 92,
   "id": "19718a06",
   "metadata": {},
   "outputs": [
    {
     "data": {
      "text/plain": [
       "array([nan, 'thick ascending limb', 'fibroblast',\n",
       "       'distal convoluted tubule 1', 'proximal tubule',\n",
       "       'Type A intercalated cell', 'principle cell', 'connecting tubule',\n",
       "       'distal convoluted tubule 2', 'podocyte', 'endothelial cell',\n",
       "       'Type B intercalated cell', 'parietal epithelial cell',\n",
       "       'proximal tubule with VCAM1 expression', 'mesangial cell',\n",
       "       'leukocyte'], dtype=object)"
      ]
     },
     "execution_count": 92,
     "metadata": {},
     "output_type": "execute_result"
    }
   ],
   "source": [
    "anndata_kidney.obs[\"cell_Type\"].unique()"
   ]
  },
  {
   "cell_type": "code",
   "execution_count": 93,
   "id": "4efab555",
   "metadata": {},
   "outputs": [
    {
     "name": "stdout",
     "output_type": "stream",
     "text": [
      "      Genes\n",
      "0    TSPAN6\n",
      "1      TNMD\n",
      "2      DPM1\n",
      "3     SCYL3\n",
      "4  C1orf112\n"
     ]
    }
   ],
   "source": [
    "print(anndata_kidney.var.head())"
   ]
  },
  {
   "cell_type": "code",
   "execution_count": 94,
   "id": "8b4aa36a",
   "metadata": {},
   "outputs": [],
   "source": [
    "anndata_kidney.var.index = anndata_kidney.var['Genes']"
   ]
  },
  {
   "cell_type": "code",
   "execution_count": 95,
   "id": "c71daed9",
   "metadata": {},
   "outputs": [
    {
     "name": "stdout",
     "output_type": "stream",
     "text": [
      "Empty DataFrame\n",
      "Columns: []\n",
      "Index: [TSPAN6, TNMD, DPM1, SCYL3, C1orf112]\n"
     ]
    }
   ],
   "source": [
    "anndata_kidney.var.drop(columns='Genes', inplace=True)\n",
    "print(anndata_kidney.var.head())"
   ]
  },
  {
   "cell_type": "code",
   "execution_count": 99,
   "id": "d138993d",
   "metadata": {},
   "outputs": [],
   "source": [
    "anndata_liver = anndata_liver.T"
   ]
  },
  {
   "cell_type": "code",
   "execution_count": 104,
   "id": "e83efc69",
   "metadata": {},
   "outputs": [
    {
     "name": "stdout",
     "output_type": "stream",
     "text": [
      "{'quiescent HSC', 'B cell', 'mesothelial cell', 'vascular endothelial cell 2', 'cycling cell', 'hepatocyte', nan, 'plasma cell', 'cholangiocyte', 'activated HSC', 'vascular endothelial cell 1', 'Kupffer cell', 'T cell', 'liver sinusoidal endothelial cell', 'natural killer cell', 'monocyte-derived macrophage'}\n"
     ]
    }
   ],
   "source": [
    "print(set(col_val_liver))"
   ]
  },
  {
   "cell_type": "code",
   "execution_count": 105,
   "id": "f70c6aa8",
   "metadata": {},
   "outputs": [],
   "source": [
    "anndata_liver.obs[\"cell_Type\"] = col_val_liver\n",
    "anndata_liver.var[\"Genes\"] = index_val_liver"
   ]
  },
  {
   "cell_type": "code",
   "execution_count": 106,
   "id": "5dac7cee",
   "metadata": {},
   "outputs": [
    {
     "data": {
      "text/plain": [
       "array([nan, 'hepatocyte', 'monocyte-derived macrophage', 'T cell',\n",
       "       'liver sinusoidal endothelial cell', 'natural killer cell',\n",
       "       'cycling cell', 'plasma cell', 'B cell', 'cholangiocyte',\n",
       "       'Kupffer cell', 'vascular endothelial cell 1',\n",
       "       'vascular endothelial cell 2', 'activated HSC', 'quiescent HSC',\n",
       "       'mesothelial cell'], dtype=object)"
      ]
     },
     "execution_count": 106,
     "metadata": {},
     "output_type": "execute_result"
    }
   ],
   "source": [
    "anndata_liver.obs[\"cell_Type\"].unique()"
   ]
  },
  {
   "cell_type": "code",
   "execution_count": 107,
   "id": "873d1dfe",
   "metadata": {},
   "outputs": [
    {
     "name": "stdout",
     "output_type": "stream",
     "text": [
      "      Genes\n",
      "0    TSPAN6\n",
      "1      TNMD\n",
      "2      DPM1\n",
      "3     SCYL3\n",
      "4  C1orf112\n"
     ]
    }
   ],
   "source": [
    "print(anndata_liver.var.head())"
   ]
  },
  {
   "cell_type": "code",
   "execution_count": 108,
   "id": "e8ec52f6",
   "metadata": {},
   "outputs": [],
   "source": [
    "anndata_liver.var.index = anndata_liver.var['Genes']"
   ]
  },
  {
   "cell_type": "code",
   "execution_count": 110,
   "id": "061bec21",
   "metadata": {},
   "outputs": [
    {
     "name": "stdout",
     "output_type": "stream",
     "text": [
      "Empty DataFrame\n",
      "Columns: []\n",
      "Index: [TSPAN6, TNMD, DPM1, SCYL3, C1orf112]\n"
     ]
    }
   ],
   "source": [
    "anndata_liver.var.drop(columns='Genes', inplace=True)\n",
    "print(anndata_liver.var.head())"
   ]
  },
  {
   "cell_type": "code",
   "execution_count": 116,
   "id": "048e8820",
   "metadata": {},
   "outputs": [],
   "source": [
    "anndata_lung = anndata_lung.T"
   ]
  },
  {
   "cell_type": "code",
   "execution_count": 113,
   "id": "f521f128",
   "metadata": {},
   "outputs": [
    {
     "name": "stdout",
     "output_type": "stream",
     "text": [
      "{'lymphocyte', 'fibroblast of lung', 'B cell', nan, 'lung endothelial cell', 'mast cell', 'type II pneumocyte', 'type I pneumocyte', 'lung macrophage', 'T cell', 'transformed epithelial cell', 'natural killer cell', 'lung secretory cell', 'lung ciliated cell'}\n"
     ]
    }
   ],
   "source": [
    "print(set(col_val_lung))"
   ]
  },
  {
   "cell_type": "code",
   "execution_count": 118,
   "id": "14a95f33",
   "metadata": {},
   "outputs": [],
   "source": [
    "anndata_lung.obs[\"cell_Type\"] = col_val_lung\n",
    "anndata_lung.var[\"Genes\"] = index_val_lung"
   ]
  },
  {
   "cell_type": "code",
   "execution_count": 120,
   "id": "ee8efd41",
   "metadata": {},
   "outputs": [
    {
     "data": {
      "text/plain": [
       "array(['lung macrophage', 'type II pneumocyte', 'T cell',\n",
       "       'type I pneumocyte', 'lung secretory cell', nan, 'mast cell',\n",
       "       'lung ciliated cell', 'natural killer cell',\n",
       "       'transformed epithelial cell', 'lymphocyte',\n",
       "       'lung endothelial cell', 'fibroblast of lung', 'B cell'],\n",
       "      dtype=object)"
      ]
     },
     "execution_count": 120,
     "metadata": {},
     "output_type": "execute_result"
    }
   ],
   "source": [
    "anndata_lung.obs[\"cell_Type\"].unique()"
   ]
  },
  {
   "cell_type": "code",
   "execution_count": 121,
   "id": "a8c58a59",
   "metadata": {},
   "outputs": [
    {
     "name": "stdout",
     "output_type": "stream",
     "text": [
      "      Genes\n",
      "0    TSPAN6\n",
      "1      DPM1\n",
      "2     SCYL3\n",
      "3  C1orf112\n",
      "4       FGR\n"
     ]
    }
   ],
   "source": [
    "print(anndata_lung.var.head())"
   ]
  },
  {
   "cell_type": "code",
   "execution_count": 124,
   "id": "bcb92f3a",
   "metadata": {},
   "outputs": [],
   "source": [
    "anndata_lung.var.index = anndata_lung.var['Genes']"
   ]
  },
  {
   "cell_type": "code",
   "execution_count": 125,
   "id": "7f7fce70",
   "metadata": {},
   "outputs": [
    {
     "name": "stdout",
     "output_type": "stream",
     "text": [
      "Empty DataFrame\n",
      "Columns: []\n",
      "Index: [TSPAN6, DPM1, SCYL3, C1orf112, FGR]\n"
     ]
    }
   ],
   "source": [
    "anndata_lung.var.drop(columns='Genes', inplace=True)\n",
    "print(anndata_lung.var.head())"
   ]
  },
  {
   "cell_type": "code",
   "execution_count": 101,
   "id": "b6d6ffdc-ae70-4bcc-afaf-e36ad636c15b",
   "metadata": {
    "tags": []
   },
   "outputs": [
    {
     "data": {
      "image/png": "[encoded data removed]",
      "text/plain": [
       "<Figure size 500x550 with 1 Axes>"
      ]
     },
     "metadata": {},
     "output_type": "display_data"
    }
   ],
   "source": [
    "sc.pl.highest_expr_genes(anndata_kidney, n_top=20, )"
   ]
  },
  {
   "cell_type": "code",
   "execution_count": 111,
   "id": "e7044708",
   "metadata": {},
   "outputs": [
    {
     "data": {
      "image/png": "[encoded data removed]",
      "text/plain": [
       "<Figure size 500x550 with 1 Axes>"
      ]
     },
     "metadata": {},
     "output_type": "display_data"
    }
   ],
   "source": [
    "sc.pl.highest_expr_genes(anndata_liver, n_top=20, )"
   ]
  },
  {
   "cell_type": "code",
   "execution_count": 126,
   "id": "571335b8",
   "metadata": {},
   "outputs": [
    {
     "data": {
      "image/png": "[encoded data removed]",
      "text/plain": [
       "<Figure size 500x550 with 1 Axes>"
      ]
     },
     "metadata": {},
     "output_type": "display_data"
    }
   ],
   "source": [
    "sc.pl.highest_expr_genes(anndata_lung, n_top=20, )"
   ]
  },
  {
   "cell_type": "code",
   "execution_count": 127,
   "id": "3a9cb745-d73d-4f80-97ef-d8f3a12c457c",
   "metadata": {
    "tags": []
   },
   "outputs": [
    {
     "name": "stderr",
     "output_type": "stream",
     "text": [
      "C:\\Users\\Supriya\\anaconda3\\Lib\\site-packages\\anndata\\_core\\anndata.py:183: ImplicitModificationWarning: Transforming to str index.\n",
      "  warnings.warn(\"Transforming to str index.\", ImplicitModificationWarning)\n",
      "C:\\Users\\Supriya\\anaconda3\\Lib\\site-packages\\anndata\\_core\\anndata.py:1900: UserWarning: Variable names are not unique. To make them unique, call `.var_names_make_unique`.\n",
      "  utils.warn_names_duplicates(\"var\")\n",
      "C:\\Users\\Supriya\\anaconda3\\Lib\\site-packages\\anndata\\_core\\anndata.py:1900: UserWarning: Variable names are not unique. To make them unique, call `.var_names_make_unique`.\n",
      "  utils.warn_names_duplicates(\"var\")\n",
      "C:\\Users\\Supriya\\anaconda3\\Lib\\site-packages\\anndata\\_core\\anndata.py:183: ImplicitModificationWarning: Transforming to str index.\n",
      "  warnings.warn(\"Transforming to str index.\", ImplicitModificationWarning)\n",
      "C:\\Users\\Supriya\\anaconda3\\Lib\\site-packages\\anndata\\_core\\anndata.py:1900: UserWarning: Variable names are not unique. To make them unique, call `.var_names_make_unique`.\n",
      "  utils.warn_names_duplicates(\"var\")\n",
      "C:\\Users\\Supriya\\anaconda3\\Lib\\site-packages\\anndata\\_core\\anndata.py:1900: UserWarning: Variable names are not unique. To make them unique, call `.var_names_make_unique`.\n",
      "  utils.warn_names_duplicates(\"var\")\n",
      "C:\\Users\\Supriya\\anaconda3\\Lib\\site-packages\\anndata\\_core\\anndata.py:183: ImplicitModificationWarning: Transforming to str index.\n",
      "  warnings.warn(\"Transforming to str index.\", ImplicitModificationWarning)\n",
      "C:\\Users\\Supriya\\anaconda3\\Lib\\site-packages\\anndata\\_core\\anndata.py:1900: UserWarning: Variable names are not unique. To make them unique, call `.var_names_make_unique`.\n",
      "  utils.warn_names_duplicates(\"var\")\n",
      "C:\\Users\\Supriya\\anaconda3\\Lib\\site-packages\\anndata\\_core\\anndata.py:1900: UserWarning: Variable names are not unique. To make them unique, call `.var_names_make_unique`.\n",
      "  utils.warn_names_duplicates(\"var\")\n"
     ]
    }
   ],
   "source": [
    "sc.pp.filter_cells(anndata_kidney, min_genes=200)  # Example: Filter cells with at least 200 genes\n",
    "sc.pp.normalize_total(anndata_kidney)              # Normalize the kidney data\n",
    "sc.pp.log1p(anndata_kidney)  \n",
    "\n",
    "sc.pp.filter_cells(anndata_liver, min_genes=200)  # Example: Filter cells with at least 200 genes\n",
    "sc.pp.normalize_total(anndata_liver)              # Normalize the liver data\n",
    "sc.pp.log1p(anndata_liver)  \n",
    "\n",
    "\n",
    "sc.pp.filter_cells(anndata_lung, min_genes=200)  # Example: Filter cells with at least 200 genes\n",
    "sc.pp.normalize_total(anndata_lung)              # Normalize the lung data\n",
    "sc.pp.log1p(anndata_lung)  "
   ]
  },
  {
   "cell_type": "markdown",
   "id": "d337ca55",
   "metadata": {},
   "source": [
    "###  Average gene expression method"
   ]
  },
  {
   "cell_type": "code",
   "execution_count": 143,
   "id": "f78f20f6",
   "metadata": {},
   "outputs": [
    {
     "name": "stdout",
     "output_type": "stream",
     "text": [
      "19206 19206\n",
      "19206 19206\n",
      "19206 19206\n",
      "19206 19206\n",
      "19206 19206\n",
      "19206 19206\n"
     ]
    }
   ],
   "source": [
    "# Get a list of unique cell types in the dataset that matches with the cell type with 2D FTU illustrations\n",
    "unique_cell_types_lung = [\"type II pneumocyte\", \"type I pneumocyte\", \"lung secretory cell\", \"lung ciliated cell\", \"lung endothelial cell\", \"fibroblast of lung\"]\n",
    "\n",
    "# Create an empty list to store results\n",
    "results = []\n",
    "\n",
    "# Iterate through each unique cell type\n",
    "for desired_cell_type in unique_cell_types_lung:\n",
    "    # Filter the dataset to select cells of the desired cell type\n",
    "    cells_of_desired_type = anndata_lung[anndata_lung.obs[\"Cell_Type\"] == desired_cell_type]\n",
    "\n",
    "    # Check if there are any cells of the desired type\n",
    "    if len(cells_of_desired_type) > 0:\n",
    "        # Calculate gene expression for each gene in the selected cells\n",
    "        gene_expression = cells_of_desired_type.X.mean(axis=0).A1\n",
    "\n",
    "        # Get gene names (assuming they are already defined)\n",
    "        gene_names = np.ravel(index_val_lung)\n",
    "\n",
    "        # Normalize the gene expression to be in the range of 0 to 1\n",
    "        gene_expression = (gene_expression - np.min(gene_expression)) / (np.max(gene_expression) - np.min(gene_expression))\n",
    "        \n",
    "        # Function to reverse lookup keys by value\n",
    "        def get_key_by_value(d, val):\n",
    "            for key, value in d.items():\n",
    "                if value == val:\n",
    "                    return key\n",
    "            return 'NaN'  # Return 'NaN' if no match found\n",
    "\n",
    "        # Get keys for each value in the list\n",
    "        ensembl_ids = [get_key_by_value(gtf, val) for val in gene_names]\n",
    "        \n",
    "        print(len(gene_names), len(ensembl_ids))\n",
    "        \n",
    "        # Create a DataFrame with one-dimensional columns\n",
    "        gene_expression_df = pd.DataFrame({'Ensembl Id': ensembl_ids,'Gene Name': gene_names, 'Mean Expression': gene_expression})\n",
    "\n",
    "        # Add cell type as a column in the DataFrame\n",
    "        gene_expression_df['Cell_Type'] = desired_cell_type\n",
    "\n",
    "        # Sort the DataFrame by 'Mean Expression' in descending order\n",
    "        gene_expression_df = gene_expression_df.sort_values(by='Mean Expression', ascending=False)\n",
    "\n",
    "        # Remove rows with 'Gene Name' equal to 'nan'\n",
    "        gene_expression_df = gene_expression_df[gene_expression_df['Gene Name'] != 'nan']\n",
    "\n",
    "        # Select the top 100 genes\n",
    "        gene_expression_df = gene_expression_df.iloc[0:100]\n",
    "\n",
    "        # Append the DataFrame to the results list\n",
    "        results.append(gene_expression_df)\n",
    "\n",
    "# Concatenate all DataFrames in the results list\n",
    "final_result = pd.concat(results)\n",
    "\n",
    "# Save the final result to a CSV file\n",
    "final_result.to_csv(\"top_100_genes_expression_by_cell_type_lung_v1.csv\", index=False)\n"
   ]
  },
  {
   "cell_type": "code",
   "execution_count": 134,
   "id": "7916848f",
   "metadata": {},
   "outputs": [
    {
     "name": "stdout",
     "output_type": "stream",
     "text": [
      "thick ascending limb\n",
      "2533\n",
      "fibroblast\n",
      "70\n",
      "distal convoluted tubule 1\n",
      "1573\n",
      "proximal tubule\n",
      "1835\n",
      "Type A intercalated cell\n",
      "746\n",
      "principle cell\n",
      "562\n",
      "connecting tubule\n",
      "1052\n",
      "distal convoluted tubule 2\n",
      "305\n",
      "podocyte\n",
      "341\n",
      "endothelial cell\n",
      "344\n",
      "Type B intercalated cell\n",
      "209\n",
      "parietal epithelial cell\n",
      "266\n",
      "proximal tubule with VCAM1 expression\n",
      "233\n",
      "mesangial cell\n",
      "99\n"
     ]
    }
   ],
   "source": [
    "# Get a list of unique cell types in the dataset that matches with the cell type with 2D FTU illustrations\n",
    "unique_cell_types_kidney = [\"thick ascending limb\", \"fibroblast\", \"distal convoluted tubule 1\", \"proximal tubule\", \"Type A intercalated cell\", \"principle cell\", \"connecting tubule\", \"distal convoluted tubule 2\", \"podocyte\", \"endothelial cell\", \"Type B intercalated cell\", \"parietal epithelial cell\", \"proximal tubule with VCAM1 expression\", \"mesangial cell\"]\n",
    "\n",
    "\n",
    "# Create an empty list to store results\n",
    "results = []\n",
    "\n",
    "# Iterate through each unique cell type\n",
    "for desired_cell_type in unique_cell_types_kidney:\n",
    "    \n",
    "    print(desired_cell_type)\n",
    "\n",
    "    # Filter the dataset to select cells of the desired cell type\n",
    "    cells_of_desired_type = anndata_kidney[anndata_kidney.obs[\"cell_Type\"] == desired_cell_type]\n",
    "    \n",
    "    print(len(cells_of_desired_type))\n",
    "    # Check if there are any cells of the desired type\n",
    "    if len(cells_of_desired_type) > 0:\n",
    "        # Calculate gene expression for each gene in the selected cells\n",
    "        gene_expression = cells_of_desired_type.X.mean(axis=0).A1\n",
    "\n",
    "        # Get gene names (assuming they are already defined)\n",
    "        gene_names = np.ravel(index_val_kidney)\n",
    "\n",
    "        # Normalize the gene expression to be in the range of 0 to 1\n",
    "        gene_expression = (gene_expression - np.min(gene_expression)) / (np.max(gene_expression) - np.min(gene_expression))\n",
    "        \n",
    "        # Function to reverse lookup keys by value\n",
    "        def get_key_by_value(d, val):\n",
    "            for key, value in d.items():\n",
    "                if value == val:\n",
    "                    return key\n",
    "            return 'NaN'  # Return 'NaN' if no match found\n",
    "\n",
    "        # Get keys for each value in the list\n",
    "        ensembl_ids = [get_key_by_value(gtf, val) for val in gene_names]\n",
    "        \n",
    "        # Create a DataFrame with one-dimensional columns\n",
    "        gene_expression_df = pd.DataFrame({'Ensembl Id': ensembl_ids,'Gene Name': gene_names, 'Mean Expression': gene_expression})       \n",
    "\n",
    "        # Add cell type as a column in the DataFrame\n",
    "        gene_expression_df['Cell_Type'] = desired_cell_type\n",
    "\n",
    "        # Sort the DataFrame by 'Mean Expression' in descending order\n",
    "        gene_expression_df = gene_expression_df.sort_values(by='Mean Expression', ascending=False)\n",
    "\n",
    "        # Remove rows with 'Gene Name' equal to 'nan'\n",
    "        gene_expression_df = gene_expression_df[gene_expression_df['Gene Name'] != 'nan']\n",
    "\n",
    "        # Select the top 100 genes\n",
    "        gene_expression_df = gene_expression_df.iloc[0:100]\n",
    "\n",
    "        # Append the DataFrame to the results list\n",
    "        results.append(gene_expression_df)\n",
    "\n",
    "# Concatenate all DataFrames in the results list\n",
    "final_result = pd.concat(results)\n",
    "\n",
    "# Save the final result to a CSV file\n",
    "final_result.to_csv(\"top_100_genes_expression_by_cell_type_kidney_v1.csv\", index=False)"
   ]
  },
  {
   "cell_type": "code",
   "execution_count": 154,
   "id": "48967753",
   "metadata": {},
   "outputs": [
    {
     "name": "stdout",
     "output_type": "stream",
     "text": [
      "hepatocyte\n",
      "802\n",
      "liver sinusoidal endothelial cell\n",
      "2337\n",
      "cholangiocyte\n",
      "309\n",
      "Kupffer cell\n",
      "623\n",
      "vascular endothelial cell 1\n",
      "24\n",
      "vascular endothelial cell 2\n",
      "17\n",
      "activated HSC\n",
      "24\n",
      "quiescent HSC\n",
      "3\n"
     ]
    }
   ],
   "source": [
    "# Get a list of unique cell types in the dataset that matches with the cell type with 2D FTU illustrations\n",
    "unique_cell_types = [\"hepatocyte\", \"liver sinusoidal endothelial cell\", \"cholangiocyte\", \"Kupffer cell\", \"vascular endothelial cell 1\", \"vascular endothelial cell 2\", \"activated HSC\", \"quiescent HSC\"]\n",
    "\n",
    "\n",
    "# Create an empty list to store results\n",
    "results = []\n",
    "\n",
    "# Iterate through each unique cell type\n",
    "for desired_cell_type in unique_cell_types:\n",
    "    print(desired_cell_type)\n",
    "\n",
    "    # Filter the dataset to select cells of the desired cell type\n",
    "    cells_of_desired_type = anndata_liver[anndata_liver.obs[\"cell_Type\"] == desired_cell_type]\n",
    "    \n",
    "    print(len(cells_of_desired_type))\n",
    "    # Check if there are any cells of the desired type\n",
    "    if len(cells_of_desired_type) > 0:\n",
    "        # Calculate gene expression for each gene in the selected cells\n",
    "        gene_expression = cells_of_desired_type.X.mean(axis=0).A1\n",
    "\n",
    "        # Get gene names (assuming they are already defined)\n",
    "        gene_names = np.ravel(index_val_liver)\n",
    "\n",
    "        # Normalize the gene expression to be in the range of 0 to 1\n",
    "        gene_expression = (gene_expression - np.min(gene_expression)) / (np.max(gene_expression) - np.min(gene_expression))\n",
    "        \n",
    "        # Function to reverse lookup keys by value\n",
    "        def get_key_by_value(d, val):\n",
    "            for key, value in d.items():\n",
    "                if value == val:\n",
    "                    return key\n",
    "            return 'NaN'  # Return 'NaN' if no match found\n",
    "\n",
    "        # Get keys for each value in the list\n",
    "        ensembl_ids = [get_key_by_value(gtf, val) for val in gene_names]\n",
    "        \n",
    "        # Create a DataFrame with one-dimensional columns\n",
    "        gene_expression_df = pd.DataFrame({'Ensembl Id': ensembl_ids, 'Gene Name': gene_names, 'Mean Expression': gene_expression})\n",
    "\n",
    "        # Add cell type as a column in the DataFrame\n",
    "        gene_expression_df['Cell_Type'] = desired_cell_type\n",
    "\n",
    "        # Sort the DataFrame by 'Mean Expression' in descending order\n",
    "        gene_expression_df = gene_expression_df.sort_values(by='Mean Expression', ascending=False)\n",
    "\n",
    "        # Remove rows with 'Gene Name' equal to 'nan'\n",
    "        gene_expression_df = gene_expression_df[gene_expression_df['Gene Name'] != 'nan']\n",
    "\n",
    "        # Select the top 100 genes\n",
    "        gene_expression_df = gene_expression_df.iloc[0:100]\n",
    "\n",
    "        # Append the DataFrame to the results list\n",
    "        results.append(gene_expression_df)\n",
    "\n",
    "# Concatenate all DataFrames in the results list\n",
    "final_result = pd.concat(results)\n",
    "\n",
    "# Save the final result to a CSV file\n",
    "final_result.to_csv(\"top_100_genes_expression_by_cell_type_liver_v1.csv\", index=False)"
   ]
  },
  {
   "cell_type": "code",
   "execution_count": 59,
   "id": "db11b9cf-bbed-4154-9bbf-277207124589",
   "metadata": {
    "tags": []
   },
   "outputs": [
    {
     "name": "stdout",
     "output_type": "stream",
     "text": [
      "Index(['Type A intercalated cell', 'Type B intercalated cell',\n",
      "       'connecting tubule', 'distal convoluted tubule 1',\n",
      "       'distal convoluted tubule 2', 'endothelial cell', 'fibroblast',\n",
      "       'leukocyte', 'mesangial cell', 'parietal epithelial cell', 'podocyte',\n",
      "       'principle cell', 'proximal tubule',\n",
      "       'proximal tubule with VCAM1 expression', 'thick ascending limb'],\n",
      "      dtype='object')\n"
     ]
    }
   ],
   "source": [
    "de_results = {}\n",
    "\n",
    "# Check and convert to categorical if needed\n",
    "if not pd.api.types.is_categorical_dtype(anndata_kidney.obs['cell_Type']):\n",
    "    anndata_kidney.obs['cell_Type'] = anndata_kidney.obs['cell_Type'].astype('category')\n",
    "\n",
    "# Double-check that the cell types are what you expect\n",
    "print(anndata_kidney.obs['cell_Type'].cat.categories)\n",
    "\n",
    "de_results = {}\n",
    "\n",
    "for cell_type in anndata_kidney.obs['cell_Type'].cat.categories:\n",
    "    # Ensure the group name is exact; consider using str.strip() to remove whitespace\n",
    "    cell_type = cell_type.strip()\n",
    "    \n",
    "    if cell_type in anndata_kidney.obs['cell_Type'].values:\n",
    "        sc.tl.rank_genes_groups(anndata_kidney, groupby='cell_Type', groups=[cell_type], reference='rest', method='wilcoxon')\n",
    "        \n",
    "        # Extract the DE results for this comparison\n",
    "        keys = ['names', 'scores', 'logfoldchanges', 'pvals', 'pvals_adj']\n",
    "        de_results[cell_type] = pd.DataFrame({\n",
    "            key: anndata_kidney.uns['rank_genes_groups'][key][cell_type] for key in keys\n",
    "        })\n",
    "        \n",
    "        # Save the data to a CSV file\n",
    "        de_results[cell_type].to_csv(f'de_results_{cell_type}.csv')\n",
    "    else:\n",
    "        print(f\"Skipped: {cell_type} not found in the data.\")\n",
    "\n",
    "\n",
    "# If you want to combine all the results in one DataFrame:\n",
    "all_results = pd.concat(de_results, names=['cell_type', 'rank'])\n",
    "\n",
    "# Save the combined results to a CSV file\n",
    "all_results.to_csv(\"combined_de_results.csv\")"
   ]
  },
  {
   "cell_type": "markdown",
   "id": "ea73e450",
   "metadata": {},
   "source": [
    "### Generate JSON files"
   ]
  },
  {
   "cell_type": "code",
   "execution_count": 156,
   "id": "536d486a",
   "metadata": {},
   "outputs": [
    {
     "name": "stdout",
     "output_type": "stream",
     "text": [
      "JSON file 'liver_v1.json' has been created.\n"
     ]
    }
   ],
   "source": [
    "import pandas as pd\n",
    "import json\n",
    "\n",
    "# Read the 'summary.csv' and 'genes.csv' files into DataFrames\n",
    "summary_df = pd.read_csv(\"C:\\\\Users\\\\Supriya\\\\Downloads\\\\AnatomogramVsASCT+B - Sheet2.csv\")\n",
    "genes_df = pd.read_csv(\"C:\\\\Users\\\\Supriya\\\\Downloads\\\\AnatomogramVsASCT+B -Liver.csv\")\n",
    "\n",
    "\n",
    "# Initialize the JSON data structure\n",
    "data = {\n",
    "    \"@graph\": [\n",
    "        {\n",
    "            \"@type\": \"CellSummary\",\n",
    "            \"cell_source\": \"https://purl.humanatlas.io/2d-ftu/Kidney-FTU\",\n",
    "            \"annotation_method\": \"Aggregation\",\n",
    "            \"biomarker_type\": \"gene\",\n",
    "            \"summary\": []\n",
    "        }\n",
    "    ]\n",
    "}\n",
    "\n",
    "# Create a dictionary to store cell-label-to-genes mapping\n",
    "cell_label_to_genes = {}\n",
    "\n",
    "# Iterate through rows in the 'genes.csv' file and create a mapping\n",
    "for _, genes_row in genes_df.iterrows():\n",
    "    cell_label = genes_row['cell_label']\n",
    "    gene_data = {\n",
    "        \"@type\": \"GeneExpression\",\n",
    "        \"ensembl_id\": genes_row['ensembl_id'],\n",
    "        \"gene_id\": genes_row['gene_id'],\n",
    "        \"gene_label\": genes_row['gene_label'],\n",
    "        \"gene_expression\": genes_row['gene_expression']\n",
    "    }\n",
    "    \n",
    "    if cell_label in cell_label_to_genes:\n",
    "        cell_label_to_genes[cell_label].append(gene_data)\n",
    "    else:\n",
    "        cell_label_to_genes[cell_label] = [gene_data]\n",
    "        \n",
    "\n",
    "# Iterate through rows in the 'summary.csv' file to create the JSON structure\n",
    "for _, summary_row in summary_df.iterrows():\n",
    "    cell_label = summary_row['cell_label']\n",
    "    \n",
    "    cell_summary = {\n",
    "        \"@type\": \"CellSummaryRow\",\n",
    "        \"cell_id\": summary_row['cell_id'],\n",
    "        \"cell_label\": cell_label,\n",
    "        \"genes\": cell_label_to_genes.get(cell_label, []),\n",
    "        \"count\": summary_row['count'],\n",
    "        \"percentage\": summary_row['percentage']\n",
    "    }\n",
    "    \n",
    "    data[\"@graph\"][0][\"summary\"].append(cell_summary)\n",
    "\n",
    "# Save the JSON data to a file\n",
    "with open('liver_v1.json', 'w') as json_file:\n",
    "    json.dump(data, json_file, indent=4)\n",
    "\n",
    "print(\"JSON file 'liver_v1.json' has been created.\")\n"
   ]
  },
  {
   "cell_type": "code",
   "execution_count": null,
   "id": "c10716a4",
   "metadata": {},
   "outputs": [],
   "source": []
  }
 ],
 "metadata": {
  "kernelspec": {
   "display_name": "Python 3 (ipykernel)",
   "language": "python",
   "name": "python3"
  },
  "language_info": {
   "codemirror_mode": {
    "name": "ipython",
    "version": 3
   },
   "file_extension": ".py",
   "mimetype": "text/x-python",
   "name": "python",
   "nbconvert_exporter": "python",
   "pygments_lexer": "ipython3",
   "version": "3.11.5"
  }
 },
 "nbformat": 4,
 "nbformat_minor": 5
}
